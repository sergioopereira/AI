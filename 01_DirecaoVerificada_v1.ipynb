{
  "nbformat": 4,
  "nbformat_minor": 5,
  "metadata": {
    "kernelspec": {
      "display_name": "Python 3",
      "language": "python",
      "name": "python3"
    },
    "language_info": {
      "codemirror_mode": {
        "name": "ipython",
        "version": 3
      },
      "file_extension": ".py",
      "mimetype": "text/x-python",
      "name": "python",
      "nbconvert_exporter": "python",
      "pygments_lexer": "ipython3",
      "version": "3.7.10"
    },
    "colab": {
      "name": "01_DirecaoVerificada.v1.ipynb",
      "provenance": [],
      "collapsed_sections": [],
      "include_colab_link": true
    }
  },
  "cells": [
    {
      "cell_type": "markdown",
      "metadata": {
        "id": "view-in-github",
        "colab_type": "text"
      },
      "source": [
        "<a href=\"https://colab.research.google.com/github/sergioopereira/AI/blob/main/01_DirecaoVerificada_v1.ipynb\" target=\"_parent\"><img src=\"https://colab.research.google.com/assets/colab-badge.svg\" alt=\"Open In Colab\"/></a>"
      ]
    },
    {
      "cell_type": "code",
      "metadata": {
        "id": "eb7d0d19-ccda-4e67-b305-088b8bbf3c85"
      },
      "source": [
        "import numpy as np\n",
        "import pandas as pd\n",
        "from datetime import datetime,date,time\n",
        "from dateutil.relativedelta import relativedelta\n"
      ],
      "id": "eb7d0d19-ccda-4e67-b305-088b8bbf3c85",
      "execution_count": 51,
      "outputs": []
    },
    {
      "cell_type": "markdown",
      "metadata": {
        "id": "d4de6591-f4da-4527-8263-f74933fa9424"
      },
      "source": [
        "### **A) Coleta dos Dados de Direção do Vento**"
      ],
      "id": "d4de6591-f4da-4527-8263-f74933fa9424"
    },
    {
      "cell_type": "code",
      "metadata": {
        "id": "ce4ae9a9-fde5-4f5f-8cd6-1dfbbaa3f0c5"
      },
      "source": [
        "source_file = 'raw/BAUET2_CAETITÉ_2_DIR_Verif_EPE.txt'"
      ],
      "id": "ce4ae9a9-fde5-4f5f-8cd6-1dfbbaa3f0c5",
      "execution_count": 52,
      "outputs": []
    },
    {
      "cell_type": "code",
      "metadata": {
        "id": "f3ba86b3-1f9e-4435-8ddc-c3fb18fb3940"
      },
      "source": [
        "df_direcao = pd.read_csv(source_file, delimiter = ';' , header=None)"
      ],
      "id": "f3ba86b3-1f9e-4435-8ddc-c3fb18fb3940",
      "execution_count": 53,
      "outputs": []
    },
    {
      "cell_type": "markdown",
      "metadata": {
        "id": "533e1214-19b9-470f-8d35-9b5cedd6736d"
      },
      "source": [
        "### **B) Sobre os Dados no Patio 1**"
      ],
      "id": "533e1214-19b9-470f-8d35-9b5cedd6736d"
    },
    {
      "cell_type": "markdown",
      "metadata": {
        "id": "7e7cf551-72c8-477b-8984-53dd2ca27235"
      },
      "source": [
        "#### <span style=\"color:#DC143C\">**B1.Formato dos Dados**"
      ],
      "id": "7e7cf551-72c8-477b-8984-53dd2ca27235"
    },
    {
      "cell_type": "code",
      "metadata": {
        "colab": {
          "base_uri": "https://localhost:8080/"
        },
        "id": "05e5dc6d-2f12-4267-8f14-bd7028017935",
        "outputId": "237bfe70-42d2-4ccc-86cf-524c8cda411e"
      },
      "source": [
        "df_direcao.shape # formato da matriz"
      ],
      "id": "05e5dc6d-2f12-4267-8f14-bd7028017935",
      "execution_count": 54,
      "outputs": [
        {
          "output_type": "execute_result",
          "data": {
            "text/plain": [
              "(1622, 49)"
            ]
          },
          "metadata": {},
          "execution_count": 54
        }
      ]
    },
    {
      "cell_type": "markdown",
      "metadata": {
        "id": "9d24ab44-4f41-4132-84db-1977047f5cad"
      },
      "source": [
        "#### <span style=\"color:#DC143C\">**B2.Visao do Dataframe**"
      ],
      "id": "9d24ab44-4f41-4132-84db-1977047f5cad"
    },
    {
      "cell_type": "code",
      "metadata": {
        "colab": {
          "base_uri": "https://localhost:8080/",
          "height": 131
        },
        "id": "264c2fda-4d8e-4114-8641-6fb08f2df705",
        "outputId": "0fbf331e-79d8-472d-b315-ebb4d5041080"
      },
      "source": [
        "df_direcao.head(2)  # visão de 5 linhas"
      ],
      "id": "264c2fda-4d8e-4114-8641-6fb08f2df705",
      "execution_count": 55,
      "outputs": [
        {
          "output_type": "execute_result",
          "data": {
            "text/html": [
              "<div>\n",
              "<style scoped>\n",
              "    .dataframe tbody tr th:only-of-type {\n",
              "        vertical-align: middle;\n",
              "    }\n",
              "\n",
              "    .dataframe tbody tr th {\n",
              "        vertical-align: top;\n",
              "    }\n",
              "\n",
              "    .dataframe thead th {\n",
              "        text-align: right;\n",
              "    }\n",
              "</style>\n",
              "<table border=\"1\" class=\"dataframe\">\n",
              "  <thead>\n",
              "    <tr style=\"text-align: right;\">\n",
              "      <th></th>\n",
              "      <th>0</th>\n",
              "      <th>1</th>\n",
              "      <th>2</th>\n",
              "      <th>3</th>\n",
              "      <th>4</th>\n",
              "      <th>5</th>\n",
              "      <th>6</th>\n",
              "      <th>7</th>\n",
              "      <th>8</th>\n",
              "      <th>9</th>\n",
              "      <th>10</th>\n",
              "      <th>11</th>\n",
              "      <th>12</th>\n",
              "      <th>13</th>\n",
              "      <th>14</th>\n",
              "      <th>15</th>\n",
              "      <th>16</th>\n",
              "      <th>17</th>\n",
              "      <th>18</th>\n",
              "      <th>19</th>\n",
              "      <th>20</th>\n",
              "      <th>21</th>\n",
              "      <th>22</th>\n",
              "      <th>23</th>\n",
              "      <th>24</th>\n",
              "      <th>25</th>\n",
              "      <th>26</th>\n",
              "      <th>27</th>\n",
              "      <th>28</th>\n",
              "      <th>29</th>\n",
              "      <th>30</th>\n",
              "      <th>31</th>\n",
              "      <th>32</th>\n",
              "      <th>33</th>\n",
              "      <th>34</th>\n",
              "      <th>35</th>\n",
              "      <th>36</th>\n",
              "      <th>37</th>\n",
              "      <th>38</th>\n",
              "      <th>39</th>\n",
              "      <th>40</th>\n",
              "      <th>41</th>\n",
              "      <th>42</th>\n",
              "      <th>43</th>\n",
              "      <th>44</th>\n",
              "      <th>45</th>\n",
              "      <th>46</th>\n",
              "      <th>47</th>\n",
              "      <th>48</th>\n",
              "    </tr>\n",
              "  </thead>\n",
              "  <tbody>\n",
              "    <tr>\n",
              "      <th>0</th>\n",
              "      <td>20170101</td>\n",
              "      <td>999.0</td>\n",
              "      <td>999.0</td>\n",
              "      <td>116.567</td>\n",
              "      <td>121.833</td>\n",
              "      <td>120.600</td>\n",
              "      <td>121.367</td>\n",
              "      <td>122.767</td>\n",
              "      <td>116.667</td>\n",
              "      <td>116.367</td>\n",
              "      <td>117.067</td>\n",
              "      <td>116.367</td>\n",
              "      <td>117.933</td>\n",
              "      <td>117.600</td>\n",
              "      <td>118.133</td>\n",
              "      <td>118.133</td>\n",
              "      <td>115.233</td>\n",
              "      <td>115.733</td>\n",
              "      <td>115.300</td>\n",
              "      <td>113.200</td>\n",
              "      <td>111.1</td>\n",
              "      <td>109.133</td>\n",
              "      <td>120.967</td>\n",
              "      <td>113.6</td>\n",
              "      <td>109.033</td>\n",
              "      <td>111.533</td>\n",
              "      <td>102.433</td>\n",
              "      <td>116.667</td>\n",
              "      <td>112.333</td>\n",
              "      <td>102.967</td>\n",
              "      <td>103.533</td>\n",
              "      <td>104.367</td>\n",
              "      <td>98.000</td>\n",
              "      <td>109.867</td>\n",
              "      <td>114.100</td>\n",
              "      <td>118.3</td>\n",
              "      <td>113.167</td>\n",
              "      <td>105.100</td>\n",
              "      <td>108.933</td>\n",
              "      <td>114.833</td>\n",
              "      <td>115.567</td>\n",
              "      <td>113.400</td>\n",
              "      <td>110.633</td>\n",
              "      <td>102.4</td>\n",
              "      <td>97.300</td>\n",
              "      <td>95.167</td>\n",
              "      <td>120.733</td>\n",
              "      <td>106.967</td>\n",
              "      <td>104.500</td>\n",
              "    </tr>\n",
              "    <tr>\n",
              "      <th>1</th>\n",
              "      <td>20170102</td>\n",
              "      <td>117.7</td>\n",
              "      <td>116.3</td>\n",
              "      <td>105.267</td>\n",
              "      <td>108.133</td>\n",
              "      <td>118.467</td>\n",
              "      <td>113.400</td>\n",
              "      <td>110.600</td>\n",
              "      <td>117.200</td>\n",
              "      <td>120.267</td>\n",
              "      <td>113.367</td>\n",
              "      <td>111.633</td>\n",
              "      <td>117.567</td>\n",
              "      <td>108.533</td>\n",
              "      <td>110.200</td>\n",
              "      <td>117.767</td>\n",
              "      <td>118.333</td>\n",
              "      <td>114.400</td>\n",
              "      <td>107.767</td>\n",
              "      <td>109.533</td>\n",
              "      <td>110.7</td>\n",
              "      <td>106.300</td>\n",
              "      <td>103.733</td>\n",
              "      <td>109.5</td>\n",
              "      <td>120.933</td>\n",
              "      <td>116.800</td>\n",
              "      <td>128.567</td>\n",
              "      <td>124.333</td>\n",
              "      <td>137.100</td>\n",
              "      <td>137.467</td>\n",
              "      <td>123.067</td>\n",
              "      <td>124.167</td>\n",
              "      <td>138.067</td>\n",
              "      <td>124.167</td>\n",
              "      <td>128.533</td>\n",
              "      <td>136.9</td>\n",
              "      <td>109.000</td>\n",
              "      <td>121.667</td>\n",
              "      <td>88.500</td>\n",
              "      <td>104.867</td>\n",
              "      <td>111.867</td>\n",
              "      <td>107.067</td>\n",
              "      <td>105.367</td>\n",
              "      <td>96.0</td>\n",
              "      <td>80.367</td>\n",
              "      <td>65.000</td>\n",
              "      <td>115.300</td>\n",
              "      <td>107.933</td>\n",
              "      <td>97.667</td>\n",
              "    </tr>\n",
              "  </tbody>\n",
              "</table>\n",
              "</div>"
            ],
            "text/plain": [
              "         0      1      2        3   ...      45       46       47       48\n",
              "0  20170101  999.0  999.0  116.567  ...  95.167  120.733  106.967  104.500\n",
              "1  20170102  117.7  116.3  105.267  ...  65.000  115.300  107.933   97.667\n",
              "\n",
              "[2 rows x 49 columns]"
            ]
          },
          "metadata": {},
          "execution_count": 55
        }
      ]
    },
    {
      "cell_type": "markdown",
      "metadata": {
        "id": "5946208f-3f8e-42e8-87cf-5673729dcee3"
      },
      "source": [
        "### **C) Extração os Dados de 2017**"
      ],
      "id": "5946208f-3f8e-42e8-87cf-5673729dcee3"
    },
    {
      "cell_type": "markdown",
      "metadata": {
        "id": "03d6e54e-5dcc-4494-924a-26cf0c51a58b"
      },
      "source": [
        "#### <span style=\"color:#DC143C\"> **C1. Converter a primeira coluna em Data**"
      ],
      "id": "03d6e54e-5dcc-4494-924a-26cf0c51a58b"
    },
    {
      "cell_type": "code",
      "metadata": {
        "id": "36ce0d92-bec5-4138-b9c0-719f3c3b4def"
      },
      "source": [
        "df_direcao[0]= pd.to_datetime(df_direcao[0], format='%Y%m%d')"
      ],
      "id": "36ce0d92-bec5-4138-b9c0-719f3c3b4def",
      "execution_count": 56,
      "outputs": []
    },
    {
      "cell_type": "markdown",
      "metadata": {
        "id": "99dc7a59-537f-4e2e-abd4-1d4e0e1c535c"
      },
      "source": [
        "#### <span style=\"color:#DC143C\"> **C2.Remove registros fora do Intervalo**"
      ],
      "id": "99dc7a59-537f-4e2e-abd4-1d4e0e1c535c"
    },
    {
      "cell_type": "code",
      "metadata": {
        "colab": {
          "base_uri": "https://localhost:8080/"
        },
        "id": "8xT8yFkIqeA1",
        "outputId": "10593090-cb37-43c5-966e-98085b81de13"
      },
      "source": [
        "df_direcao[df_direcao[0] > '2017-12-31'].index"
      ],
      "id": "8xT8yFkIqeA1",
      "execution_count": 57,
      "outputs": [
        {
          "output_type": "execute_result",
          "data": {
            "text/plain": [
              "Int64Index([ 365,  366,  367,  368,  369,  370,  371,  372,  373,  374,\n",
              "            ...\n",
              "            1612, 1613, 1614, 1615, 1616, 1617, 1618, 1619, 1620, 1621],\n",
              "           dtype='int64', length=1257)"
            ]
          },
          "metadata": {},
          "execution_count": 57
        }
      ]
    },
    {
      "cell_type": "code",
      "metadata": {
        "id": "c8d8004c-2262-4629-93be-9a2fe1247087"
      },
      "source": [
        "df_direcao = df_direcao.drop(df_direcao[df_direcao[0] > '2017-12-31'].index)\n",
        "df_direcao = df_direcao.drop(df_direcao[df_direcao[0] < '2017-01-01'].index)"
      ],
      "id": "c8d8004c-2262-4629-93be-9a2fe1247087",
      "execution_count": 58,
      "outputs": []
    },
    {
      "cell_type": "code",
      "metadata": {
        "id": "a726e1ad-b45a-4bc3-87cd-399a03bbe9da"
      },
      "source": [
        "df_direcao['longitude'] = -42.75\n",
        "df_direcao['latitude']  = -14.25 "
      ],
      "id": "a726e1ad-b45a-4bc3-87cd-399a03bbe9da",
      "execution_count": 59,
      "outputs": []
    },
    {
      "cell_type": "code",
      "metadata": {
        "id": "1022a262-972a-4ae0-90e4-99843d269ebd"
      },
      "source": [
        "cols = list(df_direcao)\n",
        "cols = [cols[-1]] + cols[:-1]\n",
        "df_direcao = df_direcao[cols]\n",
        "\n",
        "cols = list(df_direcao)\n",
        "cols = [cols[-1]] + cols[:-1]\n",
        "df_direcao = df_direcao[cols]"
      ],
      "id": "1022a262-972a-4ae0-90e4-99843d269ebd",
      "execution_count": 60,
      "outputs": []
    },
    {
      "cell_type": "code",
      "metadata": {
        "id": "7a636996-b57d-4214-a5a9-1476430e1592"
      },
      "source": [
        "df_direcao = df_direcao.reset_index()"
      ],
      "id": "7a636996-b57d-4214-a5a9-1476430e1592",
      "execution_count": 61,
      "outputs": []
    },
    {
      "cell_type": "markdown",
      "metadata": {
        "id": "8d44ac71-093e-4f6a-9ca2-39b1fa170281"
      },
      "source": [
        "### **D) Formatação dos Dados**"
      ],
      "id": "8d44ac71-093e-4f6a-9ca2-39b1fa170281"
    },
    {
      "cell_type": "markdown",
      "metadata": {
        "id": "9b4d87e8-3b0e-48ad-b8a6-52dabb0b2e1b"
      },
      "source": [
        "#### <span style=\"color:#DC143C\"> **D1. Migrar os dados para o Formato**"
      ],
      "id": "9b4d87e8-3b0e-48ad-b8a6-52dabb0b2e1b"
    },
    {
      "cell_type": "code",
      "metadata": {
        "id": "b703eead-99a7-457d-9566-b951ac2ed89e"
      },
      "source": [
        "frente = ['Longitude', 'Latitude', 'Data', 'Valor30_1', 'Valor30_2']  # Cabeçalho\n",
        "df_result_direcao = pd.DataFrame(columns=frente)  # Criação de um dataframe vazio\n",
        "    \n",
        "Linha1    =  df_direcao.shape[0] \n",
        "Colunas1  =  df_direcao.shape[1] \n",
        "\n",
        "for lin2 in range(Linha1):  \n",
        "    refhora = 0\n",
        "    \n",
        "    for col in range (Colunas1):        \n",
        "        if col > 0:            \n",
        "        \n",
        "            if col % 2 != 0: # Se o número (col) for impar                   \n",
        "               \n",
        "                if col < 49:\n",
        "                    \n",
        "                    Data = df_direcao.loc[lin2,0]\n",
        "                                  \n",
        "                    hora = time(hour=refhora, minute=0, second=0)            \n",
        "                    dataCompleta = datetime.combine(Data, hora)\n",
        "                    #print(dataCompleta)\n",
        "                    lin_alvo = [df_direcao.loc[lin2,'longitude'], df_direcao.loc[lin2,'latitude'], dataCompleta , df_direcao.loc[lin2,col], df_direcao.loc[lin2,col+1]] \n",
        "                    # print(lin_alvo)\n",
        "                    df_result_direcao.loc[len(df_result_direcao)] = lin_alvo  # adding a row\n",
        "                         \n",
        "                refhora = refhora + 1          \n",
        "                \n"
      ],
      "id": "b703eead-99a7-457d-9566-b951ac2ed89e",
      "execution_count": 62,
      "outputs": []
    },
    {
      "cell_type": "markdown",
      "metadata": {
        "id": "047f786e-a658-4915-aa93-489a929be333"
      },
      "source": [
        "#### <span style=\"color:#DC143C\"> **D2. Informações sobre os Tipos de Dados**"
      ],
      "id": "047f786e-a658-4915-aa93-489a929be333"
    },
    {
      "cell_type": "code",
      "metadata": {
        "colab": {
          "base_uri": "https://localhost:8080/"
        },
        "id": "bcc3e208-9f7c-4b31-8c06-8bfe7250cac5",
        "outputId": "62b677b2-1e17-4a96-abc2-8c5ad877c31a"
      },
      "source": [
        "df_result_direcao.info()"
      ],
      "id": "bcc3e208-9f7c-4b31-8c06-8bfe7250cac5",
      "execution_count": 63,
      "outputs": [
        {
          "output_type": "stream",
          "text": [
            "<class 'pandas.core.frame.DataFrame'>\n",
            "Int64Index: 8760 entries, 0 to 8759\n",
            "Data columns (total 5 columns):\n",
            " #   Column     Non-Null Count  Dtype         \n",
            "---  ------     --------------  -----         \n",
            " 0   Longitude  8760 non-null   float64       \n",
            " 1   Latitude   8760 non-null   float64       \n",
            " 2   Data       8760 non-null   datetime64[ns]\n",
            " 3   Valor30_1  8760 non-null   float64       \n",
            " 4   Valor30_2  8760 non-null   float64       \n",
            "dtypes: datetime64[ns](1), float64(4)\n",
            "memory usage: 410.6 KB\n"
          ],
          "name": "stdout"
        }
      ]
    },
    {
      "cell_type": "code",
      "metadata": {
        "colab": {
          "base_uri": "https://localhost:8080/"
        },
        "id": "98d86317-e634-4c8c-825a-41a6f8b855f1",
        "outputId": "3ce82f4a-5c25-408d-c459-832c14a9742a"
      },
      "source": [
        "df_result_direcao.shape"
      ],
      "id": "98d86317-e634-4c8c-825a-41a6f8b855f1",
      "execution_count": 64,
      "outputs": [
        {
          "output_type": "execute_result",
          "data": {
            "text/plain": [
              "(8760, 5)"
            ]
          },
          "metadata": {},
          "execution_count": 64
        }
      ]
    },
    {
      "cell_type": "markdown",
      "metadata": {
        "id": "6b74deba-2804-4e8b-9261-5a6ea59dade3"
      },
      "source": [
        "save_file = 'd:\\df_result_direcao.csv'\n",
        "df_result_direcao.to_csv(save_file, index = True)"
      ],
      "id": "6b74deba-2804-4e8b-9261-5a6ea59dade3"
    },
    {
      "cell_type": "markdown",
      "metadata": {
        "id": "9c2d8491-a491-4bcb-ad1b-ba98ce0f31cf"
      },
      "source": [
        "#### <span style=\"color:#DC143C\"> **D3. Remover ruido**"
      ],
      "id": "9c2d8491-a491-4bcb-ad1b-ba98ce0f31cf"
    },
    {
      "cell_type": "code",
      "metadata": {
        "colab": {
          "base_uri": "https://localhost:8080/",
          "height": 419
        },
        "id": "wwsU0d3JUCZz",
        "outputId": "c509106e-3475-4dc1-ae73-7b4db5e5e239"
      },
      "source": [
        "df_result_direcao"
      ],
      "id": "wwsU0d3JUCZz",
      "execution_count": 65,
      "outputs": [
        {
          "output_type": "execute_result",
          "data": {
            "text/html": [
              "<div>\n",
              "<style scoped>\n",
              "    .dataframe tbody tr th:only-of-type {\n",
              "        vertical-align: middle;\n",
              "    }\n",
              "\n",
              "    .dataframe tbody tr th {\n",
              "        vertical-align: top;\n",
              "    }\n",
              "\n",
              "    .dataframe thead th {\n",
              "        text-align: right;\n",
              "    }\n",
              "</style>\n",
              "<table border=\"1\" class=\"dataframe\">\n",
              "  <thead>\n",
              "    <tr style=\"text-align: right;\">\n",
              "      <th></th>\n",
              "      <th>Longitude</th>\n",
              "      <th>Latitude</th>\n",
              "      <th>Data</th>\n",
              "      <th>Valor30_1</th>\n",
              "      <th>Valor30_2</th>\n",
              "    </tr>\n",
              "  </thead>\n",
              "  <tbody>\n",
              "    <tr>\n",
              "      <th>0</th>\n",
              "      <td>-42.75</td>\n",
              "      <td>-14.25</td>\n",
              "      <td>2017-01-01 00:00:00</td>\n",
              "      <td>999.000</td>\n",
              "      <td>999.000</td>\n",
              "    </tr>\n",
              "    <tr>\n",
              "      <th>1</th>\n",
              "      <td>-42.75</td>\n",
              "      <td>-14.25</td>\n",
              "      <td>2017-01-01 01:00:00</td>\n",
              "      <td>116.567</td>\n",
              "      <td>121.833</td>\n",
              "    </tr>\n",
              "    <tr>\n",
              "      <th>2</th>\n",
              "      <td>-42.75</td>\n",
              "      <td>-14.25</td>\n",
              "      <td>2017-01-01 02:00:00</td>\n",
              "      <td>120.600</td>\n",
              "      <td>121.367</td>\n",
              "    </tr>\n",
              "    <tr>\n",
              "      <th>3</th>\n",
              "      <td>-42.75</td>\n",
              "      <td>-14.25</td>\n",
              "      <td>2017-01-01 03:00:00</td>\n",
              "      <td>122.767</td>\n",
              "      <td>116.667</td>\n",
              "    </tr>\n",
              "    <tr>\n",
              "      <th>4</th>\n",
              "      <td>-42.75</td>\n",
              "      <td>-14.25</td>\n",
              "      <td>2017-01-01 04:00:00</td>\n",
              "      <td>116.367</td>\n",
              "      <td>117.067</td>\n",
              "    </tr>\n",
              "    <tr>\n",
              "      <th>...</th>\n",
              "      <td>...</td>\n",
              "      <td>...</td>\n",
              "      <td>...</td>\n",
              "      <td>...</td>\n",
              "      <td>...</td>\n",
              "    </tr>\n",
              "    <tr>\n",
              "      <th>8755</th>\n",
              "      <td>-42.75</td>\n",
              "      <td>-14.25</td>\n",
              "      <td>2017-12-31 19:00:00</td>\n",
              "      <td>85.667</td>\n",
              "      <td>89.667</td>\n",
              "    </tr>\n",
              "    <tr>\n",
              "      <th>8756</th>\n",
              "      <td>-42.75</td>\n",
              "      <td>-14.25</td>\n",
              "      <td>2017-12-31 20:00:00</td>\n",
              "      <td>83.667</td>\n",
              "      <td>76.000</td>\n",
              "    </tr>\n",
              "    <tr>\n",
              "      <th>8757</th>\n",
              "      <td>-42.75</td>\n",
              "      <td>-14.25</td>\n",
              "      <td>2017-12-31 21:00:00</td>\n",
              "      <td>80.000</td>\n",
              "      <td>85.000</td>\n",
              "    </tr>\n",
              "    <tr>\n",
              "      <th>8758</th>\n",
              "      <td>-42.75</td>\n",
              "      <td>-14.25</td>\n",
              "      <td>2017-12-31 22:00:00</td>\n",
              "      <td>85.667</td>\n",
              "      <td>84.667</td>\n",
              "    </tr>\n",
              "    <tr>\n",
              "      <th>8759</th>\n",
              "      <td>-42.75</td>\n",
              "      <td>-14.25</td>\n",
              "      <td>2017-12-31 23:00:00</td>\n",
              "      <td>999.000</td>\n",
              "      <td>999.000</td>\n",
              "    </tr>\n",
              "  </tbody>\n",
              "</table>\n",
              "<p>8760 rows × 5 columns</p>\n",
              "</div>"
            ],
            "text/plain": [
              "      Longitude  Latitude                Data  Valor30_1  Valor30_2\n",
              "0        -42.75    -14.25 2017-01-01 00:00:00    999.000    999.000\n",
              "1        -42.75    -14.25 2017-01-01 01:00:00    116.567    121.833\n",
              "2        -42.75    -14.25 2017-01-01 02:00:00    120.600    121.367\n",
              "3        -42.75    -14.25 2017-01-01 03:00:00    122.767    116.667\n",
              "4        -42.75    -14.25 2017-01-01 04:00:00    116.367    117.067\n",
              "...         ...       ...                 ...        ...        ...\n",
              "8755     -42.75    -14.25 2017-12-31 19:00:00     85.667     89.667\n",
              "8756     -42.75    -14.25 2017-12-31 20:00:00     83.667     76.000\n",
              "8757     -42.75    -14.25 2017-12-31 21:00:00     80.000     85.000\n",
              "8758     -42.75    -14.25 2017-12-31 22:00:00     85.667     84.667\n",
              "8759     -42.75    -14.25 2017-12-31 23:00:00    999.000    999.000\n",
              "\n",
              "[8760 rows x 5 columns]"
            ]
          },
          "metadata": {},
          "execution_count": 65
        }
      ]
    },
    {
      "cell_type": "code",
      "metadata": {
        "id": "67ba21a9-cad8-4c6d-896b-5864b5850116"
      },
      "source": [
        "# Aplicando uma média\n",
        "# df_result_direcao.loc[df_result_direcao['Valor30_1']== 999.00,'Valor30_1'] = 122.767\n",
        "# df_result_direcao.loc[df_result_direcao['Valor30_2']== 999.000,'Valor30_2'] = 116.667\n"
      ],
      "id": "67ba21a9-cad8-4c6d-896b-5864b5850116",
      "execution_count": 66,
      "outputs": []
    },
    {
      "cell_type": "code",
      "metadata": {
        "id": "HseiKAb7undM",
        "cellView": "code"
      },
      "source": [
        "# Removendo as linhas sem valores\n",
        "df_result_direcao = df_result_direcao.drop(df_result_direcao[df_result_direcao['Valor30_1'] == 999.00].index)\n",
        "df_result_direcao = df_result_direcao.drop(df_result_direcao[df_result_direcao['Valor30_2'] == 999.00].index)"
      ],
      "id": "HseiKAb7undM",
      "execution_count": 67,
      "outputs": []
    },
    {
      "cell_type": "code",
      "metadata": {
        "colab": {
          "base_uri": "https://localhost:8080/",
          "height": 419
        },
        "id": "2g1MQTP3UFaS",
        "outputId": "18793bf4-daea-4c78-bca2-f97413301a43"
      },
      "source": [
        "df_result_direcao"
      ],
      "id": "2g1MQTP3UFaS",
      "execution_count": 68,
      "outputs": [
        {
          "output_type": "execute_result",
          "data": {
            "text/html": [
              "<div>\n",
              "<style scoped>\n",
              "    .dataframe tbody tr th:only-of-type {\n",
              "        vertical-align: middle;\n",
              "    }\n",
              "\n",
              "    .dataframe tbody tr th {\n",
              "        vertical-align: top;\n",
              "    }\n",
              "\n",
              "    .dataframe thead th {\n",
              "        text-align: right;\n",
              "    }\n",
              "</style>\n",
              "<table border=\"1\" class=\"dataframe\">\n",
              "  <thead>\n",
              "    <tr style=\"text-align: right;\">\n",
              "      <th></th>\n",
              "      <th>Longitude</th>\n",
              "      <th>Latitude</th>\n",
              "      <th>Data</th>\n",
              "      <th>Valor30_1</th>\n",
              "      <th>Valor30_2</th>\n",
              "    </tr>\n",
              "  </thead>\n",
              "  <tbody>\n",
              "    <tr>\n",
              "      <th>1</th>\n",
              "      <td>-42.75</td>\n",
              "      <td>-14.25</td>\n",
              "      <td>2017-01-01 01:00:00</td>\n",
              "      <td>116.567</td>\n",
              "      <td>121.833</td>\n",
              "    </tr>\n",
              "    <tr>\n",
              "      <th>2</th>\n",
              "      <td>-42.75</td>\n",
              "      <td>-14.25</td>\n",
              "      <td>2017-01-01 02:00:00</td>\n",
              "      <td>120.600</td>\n",
              "      <td>121.367</td>\n",
              "    </tr>\n",
              "    <tr>\n",
              "      <th>3</th>\n",
              "      <td>-42.75</td>\n",
              "      <td>-14.25</td>\n",
              "      <td>2017-01-01 03:00:00</td>\n",
              "      <td>122.767</td>\n",
              "      <td>116.667</td>\n",
              "    </tr>\n",
              "    <tr>\n",
              "      <th>4</th>\n",
              "      <td>-42.75</td>\n",
              "      <td>-14.25</td>\n",
              "      <td>2017-01-01 04:00:00</td>\n",
              "      <td>116.367</td>\n",
              "      <td>117.067</td>\n",
              "    </tr>\n",
              "    <tr>\n",
              "      <th>5</th>\n",
              "      <td>-42.75</td>\n",
              "      <td>-14.25</td>\n",
              "      <td>2017-01-01 05:00:00</td>\n",
              "      <td>116.367</td>\n",
              "      <td>117.933</td>\n",
              "    </tr>\n",
              "    <tr>\n",
              "      <th>...</th>\n",
              "      <td>...</td>\n",
              "      <td>...</td>\n",
              "      <td>...</td>\n",
              "      <td>...</td>\n",
              "      <td>...</td>\n",
              "    </tr>\n",
              "    <tr>\n",
              "      <th>8754</th>\n",
              "      <td>-42.75</td>\n",
              "      <td>-14.25</td>\n",
              "      <td>2017-12-31 18:00:00</td>\n",
              "      <td>81.000</td>\n",
              "      <td>79.000</td>\n",
              "    </tr>\n",
              "    <tr>\n",
              "      <th>8755</th>\n",
              "      <td>-42.75</td>\n",
              "      <td>-14.25</td>\n",
              "      <td>2017-12-31 19:00:00</td>\n",
              "      <td>85.667</td>\n",
              "      <td>89.667</td>\n",
              "    </tr>\n",
              "    <tr>\n",
              "      <th>8756</th>\n",
              "      <td>-42.75</td>\n",
              "      <td>-14.25</td>\n",
              "      <td>2017-12-31 20:00:00</td>\n",
              "      <td>83.667</td>\n",
              "      <td>76.000</td>\n",
              "    </tr>\n",
              "    <tr>\n",
              "      <th>8757</th>\n",
              "      <td>-42.75</td>\n",
              "      <td>-14.25</td>\n",
              "      <td>2017-12-31 21:00:00</td>\n",
              "      <td>80.000</td>\n",
              "      <td>85.000</td>\n",
              "    </tr>\n",
              "    <tr>\n",
              "      <th>8758</th>\n",
              "      <td>-42.75</td>\n",
              "      <td>-14.25</td>\n",
              "      <td>2017-12-31 22:00:00</td>\n",
              "      <td>85.667</td>\n",
              "      <td>84.667</td>\n",
              "    </tr>\n",
              "  </tbody>\n",
              "</table>\n",
              "<p>8758 rows × 5 columns</p>\n",
              "</div>"
            ],
            "text/plain": [
              "      Longitude  Latitude                Data  Valor30_1  Valor30_2\n",
              "1        -42.75    -14.25 2017-01-01 01:00:00    116.567    121.833\n",
              "2        -42.75    -14.25 2017-01-01 02:00:00    120.600    121.367\n",
              "3        -42.75    -14.25 2017-01-01 03:00:00    122.767    116.667\n",
              "4        -42.75    -14.25 2017-01-01 04:00:00    116.367    117.067\n",
              "5        -42.75    -14.25 2017-01-01 05:00:00    116.367    117.933\n",
              "...         ...       ...                 ...        ...        ...\n",
              "8754     -42.75    -14.25 2017-12-31 18:00:00     81.000     79.000\n",
              "8755     -42.75    -14.25 2017-12-31 19:00:00     85.667     89.667\n",
              "8756     -42.75    -14.25 2017-12-31 20:00:00     83.667     76.000\n",
              "8757     -42.75    -14.25 2017-12-31 21:00:00     80.000     85.000\n",
              "8758     -42.75    -14.25 2017-12-31 22:00:00     85.667     84.667\n",
              "\n",
              "[8758 rows x 5 columns]"
            ]
          },
          "metadata": {},
          "execution_count": 68
        }
      ]
    },
    {
      "cell_type": "markdown",
      "metadata": {
        "id": "54c12bdc-f682-42fe-b85c-e9d745e24484"
      },
      "source": [
        "#### <span style=\"color:#DC143C\"> **D3. Agregar Magnitude para 1H**"
      ],
      "id": "54c12bdc-f682-42fe-b85c-e9d745e24484"
    },
    {
      "cell_type": "code",
      "metadata": {
        "id": "66128703-692b-465f-badc-c4ebeb67fc44"
      },
      "source": [
        "df_result_direcao['Direcao_Verif'] = (df_result_direcao['Valor30_1'] + df_result_direcao['Valor30_2']) / 2"
      ],
      "id": "66128703-692b-465f-badc-c4ebeb67fc44",
      "execution_count": 69,
      "outputs": []
    },
    {
      "cell_type": "markdown",
      "metadata": {
        "id": "c765af6d-f42c-4ee1-86c9-3e1676fab80c"
      },
      "source": [
        "#### <span style=\"color:#DC143C\"> **D5. Formata Colunas**"
      ],
      "id": "c765af6d-f42c-4ee1-86c9-3e1676fab80c"
    },
    {
      "cell_type": "code",
      "metadata": {
        "id": "1046af49-9702-4e98-af8f-2409184b316e"
      },
      "source": [
        "# Formatar o resultado com 2 casas decimais\n",
        "df_result_direcao['Direcao_Verif'] = df_result_direcao['Direcao_Verif'].round(decimals=2)"
      ],
      "id": "1046af49-9702-4e98-af8f-2409184b316e",
      "execution_count": 70,
      "outputs": []
    },
    {
      "cell_type": "code",
      "metadata": {
        "id": "e0216b72-8e85-4473-b40d-0c0380e90f7f"
      },
      "source": [
        "df_result_direcao = df_result_direcao.drop('Valor30_1', 1)\n",
        "df_result_direcao = df_result_direcao.drop('Valor30_2', 1)"
      ],
      "id": "e0216b72-8e85-4473-b40d-0c0380e90f7f",
      "execution_count": 71,
      "outputs": []
    },
    {
      "cell_type": "code",
      "metadata": {
        "colab": {
          "base_uri": "https://localhost:8080/",
          "height": 359
        },
        "id": "12c383d8-474e-47ba-a7f8-9001475fbb52",
        "outputId": "46b12ae1-0988-4849-d62d-06eb9e282710"
      },
      "source": [
        "df_result_direcao.head(10)"
      ],
      "id": "12c383d8-474e-47ba-a7f8-9001475fbb52",
      "execution_count": 72,
      "outputs": [
        {
          "output_type": "execute_result",
          "data": {
            "text/html": [
              "<div>\n",
              "<style scoped>\n",
              "    .dataframe tbody tr th:only-of-type {\n",
              "        vertical-align: middle;\n",
              "    }\n",
              "\n",
              "    .dataframe tbody tr th {\n",
              "        vertical-align: top;\n",
              "    }\n",
              "\n",
              "    .dataframe thead th {\n",
              "        text-align: right;\n",
              "    }\n",
              "</style>\n",
              "<table border=\"1\" class=\"dataframe\">\n",
              "  <thead>\n",
              "    <tr style=\"text-align: right;\">\n",
              "      <th></th>\n",
              "      <th>Longitude</th>\n",
              "      <th>Latitude</th>\n",
              "      <th>Data</th>\n",
              "      <th>Direcao_Verif</th>\n",
              "    </tr>\n",
              "  </thead>\n",
              "  <tbody>\n",
              "    <tr>\n",
              "      <th>1</th>\n",
              "      <td>-42.75</td>\n",
              "      <td>-14.25</td>\n",
              "      <td>2017-01-01 01:00:00</td>\n",
              "      <td>119.20</td>\n",
              "    </tr>\n",
              "    <tr>\n",
              "      <th>2</th>\n",
              "      <td>-42.75</td>\n",
              "      <td>-14.25</td>\n",
              "      <td>2017-01-01 02:00:00</td>\n",
              "      <td>120.98</td>\n",
              "    </tr>\n",
              "    <tr>\n",
              "      <th>3</th>\n",
              "      <td>-42.75</td>\n",
              "      <td>-14.25</td>\n",
              "      <td>2017-01-01 03:00:00</td>\n",
              "      <td>119.72</td>\n",
              "    </tr>\n",
              "    <tr>\n",
              "      <th>4</th>\n",
              "      <td>-42.75</td>\n",
              "      <td>-14.25</td>\n",
              "      <td>2017-01-01 04:00:00</td>\n",
              "      <td>116.72</td>\n",
              "    </tr>\n",
              "    <tr>\n",
              "      <th>5</th>\n",
              "      <td>-42.75</td>\n",
              "      <td>-14.25</td>\n",
              "      <td>2017-01-01 05:00:00</td>\n",
              "      <td>117.15</td>\n",
              "    </tr>\n",
              "    <tr>\n",
              "      <th>6</th>\n",
              "      <td>-42.75</td>\n",
              "      <td>-14.25</td>\n",
              "      <td>2017-01-01 06:00:00</td>\n",
              "      <td>117.87</td>\n",
              "    </tr>\n",
              "    <tr>\n",
              "      <th>7</th>\n",
              "      <td>-42.75</td>\n",
              "      <td>-14.25</td>\n",
              "      <td>2017-01-01 07:00:00</td>\n",
              "      <td>116.68</td>\n",
              "    </tr>\n",
              "    <tr>\n",
              "      <th>8</th>\n",
              "      <td>-42.75</td>\n",
              "      <td>-14.25</td>\n",
              "      <td>2017-01-01 08:00:00</td>\n",
              "      <td>115.52</td>\n",
              "    </tr>\n",
              "    <tr>\n",
              "      <th>9</th>\n",
              "      <td>-42.75</td>\n",
              "      <td>-14.25</td>\n",
              "      <td>2017-01-01 09:00:00</td>\n",
              "      <td>112.15</td>\n",
              "    </tr>\n",
              "    <tr>\n",
              "      <th>10</th>\n",
              "      <td>-42.75</td>\n",
              "      <td>-14.25</td>\n",
              "      <td>2017-01-01 10:00:00</td>\n",
              "      <td>115.05</td>\n",
              "    </tr>\n",
              "  </tbody>\n",
              "</table>\n",
              "</div>"
            ],
            "text/plain": [
              "    Longitude  Latitude                Data  Direcao_Verif\n",
              "1      -42.75    -14.25 2017-01-01 01:00:00         119.20\n",
              "2      -42.75    -14.25 2017-01-01 02:00:00         120.98\n",
              "3      -42.75    -14.25 2017-01-01 03:00:00         119.72\n",
              "4      -42.75    -14.25 2017-01-01 04:00:00         116.72\n",
              "5      -42.75    -14.25 2017-01-01 05:00:00         117.15\n",
              "6      -42.75    -14.25 2017-01-01 06:00:00         117.87\n",
              "7      -42.75    -14.25 2017-01-01 07:00:00         116.68\n",
              "8      -42.75    -14.25 2017-01-01 08:00:00         115.52\n",
              "9      -42.75    -14.25 2017-01-01 09:00:00         112.15\n",
              "10     -42.75    -14.25 2017-01-01 10:00:00         115.05"
            ]
          },
          "metadata": {},
          "execution_count": 72
        }
      ]
    },
    {
      "cell_type": "markdown",
      "metadata": {
        "id": "7462dcdc-daa0-4cad-a944-a264ce575254"
      },
      "source": [
        "### **E. Exporta Resultados**"
      ],
      "id": "7462dcdc-daa0-4cad-a944-a264ce575254"
    },
    {
      "cell_type": "code",
      "metadata": {
        "id": "ef87a932-b74b-48fe-b151-a8ec29013fef"
      },
      "source": [
        "output_file = 'processed/teste_03_patio_direcao.csv'\n",
        "df_result_direcao.to_csv(output_file, sep=';', encoding='utf-8')"
      ],
      "id": "ef87a932-b74b-48fe-b151-a8ec29013fef",
      "execution_count": 73,
      "outputs": []
    }
  ]
}