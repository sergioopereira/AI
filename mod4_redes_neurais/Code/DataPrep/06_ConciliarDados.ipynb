{
  "nbformat": 4,
  "nbformat_minor": 5,
  "metadata": {
    "kernelspec": {
      "display_name": "Python 3",
      "language": "python",
      "name": "python3"
    },
    "language_info": {
      "codemirror_mode": {
        "name": "ipython",
        "version": 3
      },
      "file_extension": ".py",
      "mimetype": "text/x-python",
      "name": "python",
      "nbconvert_exporter": "python",
      "pygments_lexer": "ipython3",
      "version": "3.7.10"
    },
    "colab": {
      "name": "06_ConciliarDados.ipynb",
      "provenance": []
    }
  },
  "cells": [
    {
      "cell_type": "code",
      "metadata": {
        "id": "12fa0c66-b30c-49f8-b3df-f713b67111f5"
      },
      "source": [
        "import pandas as pd\n",
        "import numpy as np\n"
      ],
      "id": "12fa0c66-b30c-49f8-b3df-f713b67111f5",
      "execution_count": 58,
      "outputs": []
    },
    {
      "cell_type": "markdown",
      "metadata": {
        "id": "20aae5e8-9e5c-423d-b4ba-6f7db1901409"
      },
      "source": [
        "### **A) Importar Dados de Chuvas, Pressao, Precipitação e Temperatura**"
      ],
      "id": "20aae5e8-9e5c-423d-b4ba-6f7db1901409"
    },
    {
      "cell_type": "code",
      "metadata": {
        "id": "68e8037d-37d6-4c26-9bcd-852dae67ec14"
      },
      "source": [
        "# Define a localização dos arquivos\n",
        "output_precip = 'Data/result_chuva_patio1.csv'\n",
        "output_pressao = 'Data/result_pressao_patio1.csv'\n",
        "output_temp = 'Data/result_temperatura_patio1.csv'\n",
        "output_vento = 'Data/result_vento_patio1.csv'\n",
        "output_vento_verificado = 'Data/result_01_patio_ventoverif.csv'"
      ],
      "id": "68e8037d-37d6-4c26-9bcd-852dae67ec14",
      "execution_count": 59,
      "outputs": []
    },
    {
      "cell_type": "code",
      "metadata": {
        "id": "404c9f0a-add9-4098-b5c9-a0c7d946c955"
      },
      "source": [
        "# Carrega cada arquivo em DataFrames específicos\n",
        "df_chuva = pd.read_csv(output_precip, delimiter = \";\")\n",
        "df_pressao = pd.read_csv(output_pressao, delimiter = \";\")\n",
        "df_temp = pd.read_csv(output_temp, delimiter = \";\")\n",
        "df_vento = pd.read_csv(output_vento, delimiter = \";\")\n",
        "df_vento_verif = pd.read_csv(output_vento_verificado, delimiter = \";\")"
      ],
      "id": "404c9f0a-add9-4098-b5c9-a0c7d946c955",
      "execution_count": 60,
      "outputs": []
    },
    {
      "cell_type": "markdown",
      "metadata": {
        "id": "befc6c78-814c-4950-a32d-88c69813fbc9"
      },
      "source": [
        "### **B) Sobre os 4 conjuntos de dados**"
      ],
      "id": "befc6c78-814c-4950-a32d-88c69813fbc9"
    },
    {
      "cell_type": "markdown",
      "metadata": {
        "id": "2b29d144-dca6-4dc5-974a-c0246f9a98c4"
      },
      "source": [
        "#### <span style=\"color:#DC143C\">**B1. Formato dos Dados**"
      ],
      "id": "2b29d144-dca6-4dc5-974a-c0246f9a98c4"
    },
    {
      "cell_type": "code",
      "metadata": {
        "id": "05dca724-712f-4e6d-bbb3-a4986cdac6ed",
        "outputId": "75ec0320-ebd7-4723-b953-9f6f1f74f893",
        "colab": {
          "base_uri": "https://localhost:8080/"
        }
      },
      "source": [
        "# Exibe a dimensão de cada DataFrame\n",
        "print(\"Precipitação:\" + str(df_chuva.shape))\n",
        "print(\"Pressão:\" + str(df_pressao.shape))\n",
        "print(\"Temperatura:\" + str(df_temp.shape))\n",
        "print(\"Vento:\" + str(df_vento.shape))\n",
        "print(\"Vento Verificado:\" + str(df_vento_verif.shape))"
      ],
      "id": "05dca724-712f-4e6d-bbb3-a4986cdac6ed",
      "execution_count": 61,
      "outputs": [
        {
          "output_type": "stream",
          "text": [
            "Precipitação:(8760, 5)\n",
            "Pressão:(8760, 5)\n",
            "Temperatura:(8760, 5)\n",
            "Vento:(8760, 6)\n",
            "Vento Verificado:(8760, 5)\n"
          ],
          "name": "stdout"
        }
      ]
    },
    {
      "cell_type": "markdown",
      "metadata": {
        "id": "27b95161-81cd-49ae-9165-fc7465dba322"
      },
      "source": [
        "#### <span style=\"color:#DC143C\">**B2. Visão dos Dados**"
      ],
      "id": "27b95161-81cd-49ae-9165-fc7465dba322"
    },
    {
      "cell_type": "code",
      "metadata": {
        "id": "BYwq1TFeJW4t",
        "outputId": "06c4da87-bc83-4828-c736-940178178010",
        "colab": {
          "base_uri": "https://localhost:8080/",
          "height": 204
        }
      },
      "source": [
        "# Exibe uma prévia do DataFrame\n",
        "df_chuva.head(5)"
      ],
      "id": "BYwq1TFeJW4t",
      "execution_count": 62,
      "outputs": [
        {
          "output_type": "execute_result",
          "data": {
            "text/html": [
              "<div>\n",
              "<style scoped>\n",
              "    .dataframe tbody tr th:only-of-type {\n",
              "        vertical-align: middle;\n",
              "    }\n",
              "\n",
              "    .dataframe tbody tr th {\n",
              "        vertical-align: top;\n",
              "    }\n",
              "\n",
              "    .dataframe thead th {\n",
              "        text-align: right;\n",
              "    }\n",
              "</style>\n",
              "<table border=\"1\" class=\"dataframe\">\n",
              "  <thead>\n",
              "    <tr style=\"text-align: right;\">\n",
              "      <th></th>\n",
              "      <th>Unnamed: 0</th>\n",
              "      <th>Longitude</th>\n",
              "      <th>Latitude</th>\n",
              "      <th>Valor_Chuva</th>\n",
              "      <th>Data</th>\n",
              "    </tr>\n",
              "  </thead>\n",
              "  <tbody>\n",
              "    <tr>\n",
              "      <th>0</th>\n",
              "      <td>0</td>\n",
              "      <td>-42.75</td>\n",
              "      <td>-14.25</td>\n",
              "      <td>0.0</td>\n",
              "      <td>2017-01-01 00:00:00</td>\n",
              "    </tr>\n",
              "    <tr>\n",
              "      <th>1</th>\n",
              "      <td>1</td>\n",
              "      <td>-42.75</td>\n",
              "      <td>-14.25</td>\n",
              "      <td>0.0</td>\n",
              "      <td>2017-01-01 01:00:00</td>\n",
              "    </tr>\n",
              "    <tr>\n",
              "      <th>2</th>\n",
              "      <td>2</td>\n",
              "      <td>-42.75</td>\n",
              "      <td>-14.25</td>\n",
              "      <td>0.0</td>\n",
              "      <td>2017-01-01 02:00:00</td>\n",
              "    </tr>\n",
              "    <tr>\n",
              "      <th>3</th>\n",
              "      <td>3</td>\n",
              "      <td>-42.75</td>\n",
              "      <td>-14.25</td>\n",
              "      <td>0.0</td>\n",
              "      <td>2017-01-01 03:00:00</td>\n",
              "    </tr>\n",
              "    <tr>\n",
              "      <th>4</th>\n",
              "      <td>4</td>\n",
              "      <td>-42.75</td>\n",
              "      <td>-14.25</td>\n",
              "      <td>0.0</td>\n",
              "      <td>2017-01-01 04:00:00</td>\n",
              "    </tr>\n",
              "  </tbody>\n",
              "</table>\n",
              "</div>"
            ],
            "text/plain": [
              "   Unnamed: 0  Longitude  Latitude  Valor_Chuva                 Data\n",
              "0           0     -42.75    -14.25          0.0  2017-01-01 00:00:00\n",
              "1           1     -42.75    -14.25          0.0  2017-01-01 01:00:00\n",
              "2           2     -42.75    -14.25          0.0  2017-01-01 02:00:00\n",
              "3           3     -42.75    -14.25          0.0  2017-01-01 03:00:00\n",
              "4           4     -42.75    -14.25          0.0  2017-01-01 04:00:00"
            ]
          },
          "metadata": {
            "tags": []
          },
          "execution_count": 62
        }
      ]
    },
    {
      "cell_type": "code",
      "metadata": {
        "id": "e53d3829-badf-4eb1-85fe-0f20f3ae7d33",
        "outputId": "da8b8bc2-dc4c-4ecd-c786-e3ad17dec975",
        "colab": {
          "base_uri": "https://localhost:8080/",
          "height": 204
        }
      },
      "source": [
        "# Remove a primeira coluna referente ao índice criado\n",
        "df_chuva.drop(df_chuva.columns[0], axis=1, inplace=True)\n",
        "# Exibe uma prévia do DataFrame após a alteração\n",
        "df_chuva.head(5)"
      ],
      "id": "e53d3829-badf-4eb1-85fe-0f20f3ae7d33",
      "execution_count": 63,
      "outputs": [
        {
          "output_type": "execute_result",
          "data": {
            "text/html": [
              "<div>\n",
              "<style scoped>\n",
              "    .dataframe tbody tr th:only-of-type {\n",
              "        vertical-align: middle;\n",
              "    }\n",
              "\n",
              "    .dataframe tbody tr th {\n",
              "        vertical-align: top;\n",
              "    }\n",
              "\n",
              "    .dataframe thead th {\n",
              "        text-align: right;\n",
              "    }\n",
              "</style>\n",
              "<table border=\"1\" class=\"dataframe\">\n",
              "  <thead>\n",
              "    <tr style=\"text-align: right;\">\n",
              "      <th></th>\n",
              "      <th>Longitude</th>\n",
              "      <th>Latitude</th>\n",
              "      <th>Valor_Chuva</th>\n",
              "      <th>Data</th>\n",
              "    </tr>\n",
              "  </thead>\n",
              "  <tbody>\n",
              "    <tr>\n",
              "      <th>0</th>\n",
              "      <td>-42.75</td>\n",
              "      <td>-14.25</td>\n",
              "      <td>0.0</td>\n",
              "      <td>2017-01-01 00:00:00</td>\n",
              "    </tr>\n",
              "    <tr>\n",
              "      <th>1</th>\n",
              "      <td>-42.75</td>\n",
              "      <td>-14.25</td>\n",
              "      <td>0.0</td>\n",
              "      <td>2017-01-01 01:00:00</td>\n",
              "    </tr>\n",
              "    <tr>\n",
              "      <th>2</th>\n",
              "      <td>-42.75</td>\n",
              "      <td>-14.25</td>\n",
              "      <td>0.0</td>\n",
              "      <td>2017-01-01 02:00:00</td>\n",
              "    </tr>\n",
              "    <tr>\n",
              "      <th>3</th>\n",
              "      <td>-42.75</td>\n",
              "      <td>-14.25</td>\n",
              "      <td>0.0</td>\n",
              "      <td>2017-01-01 03:00:00</td>\n",
              "    </tr>\n",
              "    <tr>\n",
              "      <th>4</th>\n",
              "      <td>-42.75</td>\n",
              "      <td>-14.25</td>\n",
              "      <td>0.0</td>\n",
              "      <td>2017-01-01 04:00:00</td>\n",
              "    </tr>\n",
              "  </tbody>\n",
              "</table>\n",
              "</div>"
            ],
            "text/plain": [
              "   Longitude  Latitude  Valor_Chuva                 Data\n",
              "0     -42.75    -14.25          0.0  2017-01-01 00:00:00\n",
              "1     -42.75    -14.25          0.0  2017-01-01 01:00:00\n",
              "2     -42.75    -14.25          0.0  2017-01-01 02:00:00\n",
              "3     -42.75    -14.25          0.0  2017-01-01 03:00:00\n",
              "4     -42.75    -14.25          0.0  2017-01-01 04:00:00"
            ]
          },
          "metadata": {
            "tags": []
          },
          "execution_count": 63
        }
      ]
    },
    {
      "cell_type": "code",
      "metadata": {
        "id": "aab940ff-e5bb-4875-a583-9ec40962a216",
        "outputId": "0d3ebffe-43af-49e7-ef35-e94ee6505a00",
        "colab": {
          "base_uri": "https://localhost:8080/",
          "height": 204
        }
      },
      "source": [
        "df_temp.head(5)\n",
        "df_temp.drop(df_temp.columns[0], axis=1, inplace=True) # Remove a 1ºColuna,que foi o indice criado\n",
        "df_temp.head(5)"
      ],
      "id": "aab940ff-e5bb-4875-a583-9ec40962a216",
      "execution_count": 64,
      "outputs": [
        {
          "output_type": "execute_result",
          "data": {
            "text/html": [
              "<div>\n",
              "<style scoped>\n",
              "    .dataframe tbody tr th:only-of-type {\n",
              "        vertical-align: middle;\n",
              "    }\n",
              "\n",
              "    .dataframe tbody tr th {\n",
              "        vertical-align: top;\n",
              "    }\n",
              "\n",
              "    .dataframe thead th {\n",
              "        text-align: right;\n",
              "    }\n",
              "</style>\n",
              "<table border=\"1\" class=\"dataframe\">\n",
              "  <thead>\n",
              "    <tr style=\"text-align: right;\">\n",
              "      <th></th>\n",
              "      <th>Longitude</th>\n",
              "      <th>Latitude</th>\n",
              "      <th>Valor_Temp</th>\n",
              "      <th>Data</th>\n",
              "    </tr>\n",
              "  </thead>\n",
              "  <tbody>\n",
              "    <tr>\n",
              "      <th>0</th>\n",
              "      <td>-42.75</td>\n",
              "      <td>-14.25</td>\n",
              "      <td>25.93</td>\n",
              "      <td>2017-01-01 00:00:00</td>\n",
              "    </tr>\n",
              "    <tr>\n",
              "      <th>1</th>\n",
              "      <td>-42.75</td>\n",
              "      <td>-14.25</td>\n",
              "      <td>25.73</td>\n",
              "      <td>2017-01-01 01:00:00</td>\n",
              "    </tr>\n",
              "    <tr>\n",
              "      <th>2</th>\n",
              "      <td>-42.75</td>\n",
              "      <td>-14.25</td>\n",
              "      <td>25.50</td>\n",
              "      <td>2017-01-01 02:00:00</td>\n",
              "    </tr>\n",
              "    <tr>\n",
              "      <th>3</th>\n",
              "      <td>-42.75</td>\n",
              "      <td>-14.25</td>\n",
              "      <td>23.67</td>\n",
              "      <td>2017-01-01 03:00:00</td>\n",
              "    </tr>\n",
              "    <tr>\n",
              "      <th>4</th>\n",
              "      <td>-42.75</td>\n",
              "      <td>-14.25</td>\n",
              "      <td>22.97</td>\n",
              "      <td>2017-01-01 04:00:00</td>\n",
              "    </tr>\n",
              "  </tbody>\n",
              "</table>\n",
              "</div>"
            ],
            "text/plain": [
              "   Longitude  Latitude  Valor_Temp                 Data\n",
              "0     -42.75    -14.25       25.93  2017-01-01 00:00:00\n",
              "1     -42.75    -14.25       25.73  2017-01-01 01:00:00\n",
              "2     -42.75    -14.25       25.50  2017-01-01 02:00:00\n",
              "3     -42.75    -14.25       23.67  2017-01-01 03:00:00\n",
              "4     -42.75    -14.25       22.97  2017-01-01 04:00:00"
            ]
          },
          "metadata": {
            "tags": []
          },
          "execution_count": 64
        }
      ]
    },
    {
      "cell_type": "code",
      "metadata": {
        "id": "bd61312a-f27a-41e0-8260-d0be86a9de6c",
        "outputId": "7118606d-f320-4ca6-8566-964963de3c5f",
        "colab": {
          "base_uri": "https://localhost:8080/",
          "height": 204
        }
      },
      "source": [
        "df_vento.head(5)\n",
        "df_vento.drop(df_vento.columns[0], axis=1, inplace=True) # Remove a 1ºColuna,que foi o indice criado\n",
        "df_vento.head(5)"
      ],
      "id": "bd61312a-f27a-41e0-8260-d0be86a9de6c",
      "execution_count": 65,
      "outputs": [
        {
          "output_type": "execute_result",
          "data": {
            "text/html": [
              "<div>\n",
              "<style scoped>\n",
              "    .dataframe tbody tr th:only-of-type {\n",
              "        vertical-align: middle;\n",
              "    }\n",
              "\n",
              "    .dataframe tbody tr th {\n",
              "        vertical-align: top;\n",
              "    }\n",
              "\n",
              "    .dataframe thead th {\n",
              "        text-align: right;\n",
              "    }\n",
              "</style>\n",
              "<table border=\"1\" class=\"dataframe\">\n",
              "  <thead>\n",
              "    <tr style=\"text-align: right;\">\n",
              "      <th></th>\n",
              "      <th>Longitude</th>\n",
              "      <th>Latitude</th>\n",
              "      <th>Magnitude</th>\n",
              "      <th>Direção</th>\n",
              "      <th>Data</th>\n",
              "    </tr>\n",
              "  </thead>\n",
              "  <tbody>\n",
              "    <tr>\n",
              "      <th>0</th>\n",
              "      <td>-42.75</td>\n",
              "      <td>-14.25</td>\n",
              "      <td>6.82</td>\n",
              "      <td>97.36</td>\n",
              "      <td>2017-01-01 00:00:00</td>\n",
              "    </tr>\n",
              "    <tr>\n",
              "      <th>1</th>\n",
              "      <td>-42.75</td>\n",
              "      <td>-14.25</td>\n",
              "      <td>6.91</td>\n",
              "      <td>94.65</td>\n",
              "      <td>2017-01-01 01:00:00</td>\n",
              "    </tr>\n",
              "    <tr>\n",
              "      <th>2</th>\n",
              "      <td>-42.75</td>\n",
              "      <td>-14.25</td>\n",
              "      <td>7.27</td>\n",
              "      <td>92.98</td>\n",
              "      <td>2017-01-01 02:00:00</td>\n",
              "    </tr>\n",
              "    <tr>\n",
              "      <th>3</th>\n",
              "      <td>-42.75</td>\n",
              "      <td>-14.25</td>\n",
              "      <td>7.83</td>\n",
              "      <td>93.62</td>\n",
              "      <td>2017-01-01 03:00:00</td>\n",
              "    </tr>\n",
              "    <tr>\n",
              "      <th>4</th>\n",
              "      <td>-42.75</td>\n",
              "      <td>-14.25</td>\n",
              "      <td>7.81</td>\n",
              "      <td>96.33</td>\n",
              "      <td>2017-01-01 04:00:00</td>\n",
              "    </tr>\n",
              "  </tbody>\n",
              "</table>\n",
              "</div>"
            ],
            "text/plain": [
              "   Longitude  Latitude  Magnitude  Direção                 Data\n",
              "0     -42.75    -14.25       6.82    97.36  2017-01-01 00:00:00\n",
              "1     -42.75    -14.25       6.91    94.65  2017-01-01 01:00:00\n",
              "2     -42.75    -14.25       7.27    92.98  2017-01-01 02:00:00\n",
              "3     -42.75    -14.25       7.83    93.62  2017-01-01 03:00:00\n",
              "4     -42.75    -14.25       7.81    96.33  2017-01-01 04:00:00"
            ]
          },
          "metadata": {
            "tags": []
          },
          "execution_count": 65
        }
      ]
    },
    {
      "cell_type": "code",
      "metadata": {
        "id": "aec0e323-6e75-4bb9-a305-8098475fbf47",
        "outputId": "03d89eaf-a9ac-4580-c350-2e1f38c3c929",
        "colab": {
          "base_uri": "https://localhost:8080/",
          "height": 204
        }
      },
      "source": [
        "df_pressao.head(5)\n",
        "df_pressao.drop(df_pressao.columns[0], axis=1, inplace=True) # Remove a 1ºColuna,que foi o indice criado\n",
        "df_pressao.head(5)"
      ],
      "id": "aec0e323-6e75-4bb9-a305-8098475fbf47",
      "execution_count": 66,
      "outputs": [
        {
          "output_type": "execute_result",
          "data": {
            "text/html": [
              "<div>\n",
              "<style scoped>\n",
              "    .dataframe tbody tr th:only-of-type {\n",
              "        vertical-align: middle;\n",
              "    }\n",
              "\n",
              "    .dataframe tbody tr th {\n",
              "        vertical-align: top;\n",
              "    }\n",
              "\n",
              "    .dataframe thead th {\n",
              "        text-align: right;\n",
              "    }\n",
              "</style>\n",
              "<table border=\"1\" class=\"dataframe\">\n",
              "  <thead>\n",
              "    <tr style=\"text-align: right;\">\n",
              "      <th></th>\n",
              "      <th>Longitude</th>\n",
              "      <th>Latitude</th>\n",
              "      <th>Valor_Pressao</th>\n",
              "      <th>Data</th>\n",
              "    </tr>\n",
              "  </thead>\n",
              "  <tbody>\n",
              "    <tr>\n",
              "      <th>0</th>\n",
              "      <td>-42.75</td>\n",
              "      <td>-14.25</td>\n",
              "      <td>1013.14</td>\n",
              "      <td>2017-01-01 00:00:00</td>\n",
              "    </tr>\n",
              "    <tr>\n",
              "      <th>1</th>\n",
              "      <td>-42.75</td>\n",
              "      <td>-14.25</td>\n",
              "      <td>1013.34</td>\n",
              "      <td>2017-01-01 01:00:00</td>\n",
              "    </tr>\n",
              "    <tr>\n",
              "      <th>2</th>\n",
              "      <td>-42.75</td>\n",
              "      <td>-14.25</td>\n",
              "      <td>1013.04</td>\n",
              "      <td>2017-01-01 02:00:00</td>\n",
              "    </tr>\n",
              "    <tr>\n",
              "      <th>3</th>\n",
              "      <td>-42.75</td>\n",
              "      <td>-14.25</td>\n",
              "      <td>1012.92</td>\n",
              "      <td>2017-01-01 03:00:00</td>\n",
              "    </tr>\n",
              "    <tr>\n",
              "      <th>4</th>\n",
              "      <td>-42.75</td>\n",
              "      <td>-14.25</td>\n",
              "      <td>1013.07</td>\n",
              "      <td>2017-01-01 04:00:00</td>\n",
              "    </tr>\n",
              "  </tbody>\n",
              "</table>\n",
              "</div>"
            ],
            "text/plain": [
              "   Longitude  Latitude  Valor_Pressao                 Data\n",
              "0     -42.75    -14.25        1013.14  2017-01-01 00:00:00\n",
              "1     -42.75    -14.25        1013.34  2017-01-01 01:00:00\n",
              "2     -42.75    -14.25        1013.04  2017-01-01 02:00:00\n",
              "3     -42.75    -14.25        1012.92  2017-01-01 03:00:00\n",
              "4     -42.75    -14.25        1013.07  2017-01-01 04:00:00"
            ]
          },
          "metadata": {
            "tags": []
          },
          "execution_count": 66
        }
      ]
    },
    {
      "cell_type": "code",
      "metadata": {
        "id": "a7cd6b43-eb52-4296-9259-361ccb3f0835",
        "outputId": "2eee4b74-b1f4-4084-e268-c7ab90c195ce",
        "colab": {
          "base_uri": "https://localhost:8080/",
          "height": 204
        }
      },
      "source": [
        "df_vento_verif.head(5)\n",
        "df_vento_verif.drop(df_vento_verif.columns[0], axis=1, inplace=True) # Remove a 1ºColuna,que foi o indice criado\n",
        "df_vento_verif.head(5)"
      ],
      "id": "a7cd6b43-eb52-4296-9259-361ccb3f0835",
      "execution_count": 67,
      "outputs": [
        {
          "output_type": "execute_result",
          "data": {
            "text/html": [
              "<div>\n",
              "<style scoped>\n",
              "    .dataframe tbody tr th:only-of-type {\n",
              "        vertical-align: middle;\n",
              "    }\n",
              "\n",
              "    .dataframe tbody tr th {\n",
              "        vertical-align: top;\n",
              "    }\n",
              "\n",
              "    .dataframe thead th {\n",
              "        text-align: right;\n",
              "    }\n",
              "</style>\n",
              "<table border=\"1\" class=\"dataframe\">\n",
              "  <thead>\n",
              "    <tr style=\"text-align: right;\">\n",
              "      <th></th>\n",
              "      <th>Longitude</th>\n",
              "      <th>Latitude</th>\n",
              "      <th>Data</th>\n",
              "      <th>Magnitude_Verif</th>\n",
              "    </tr>\n",
              "  </thead>\n",
              "  <tbody>\n",
              "    <tr>\n",
              "      <th>0</th>\n",
              "      <td>-42.75</td>\n",
              "      <td>-14.25</td>\n",
              "      <td>2017-01-01 00:00:00</td>\n",
              "      <td>9.8150</td>\n",
              "    </tr>\n",
              "    <tr>\n",
              "      <th>1</th>\n",
              "      <td>-42.75</td>\n",
              "      <td>-14.25</td>\n",
              "      <td>2017-01-01 01:00:00</td>\n",
              "      <td>8.7350</td>\n",
              "    </tr>\n",
              "    <tr>\n",
              "      <th>2</th>\n",
              "      <td>-42.75</td>\n",
              "      <td>-14.25</td>\n",
              "      <td>2017-01-01 02:00:00</td>\n",
              "      <td>8.4545</td>\n",
              "    </tr>\n",
              "    <tr>\n",
              "      <th>3</th>\n",
              "      <td>-42.75</td>\n",
              "      <td>-14.25</td>\n",
              "      <td>2017-01-01 03:00:00</td>\n",
              "      <td>9.1775</td>\n",
              "    </tr>\n",
              "    <tr>\n",
              "      <th>4</th>\n",
              "      <td>-42.75</td>\n",
              "      <td>-14.25</td>\n",
              "      <td>2017-01-01 04:00:00</td>\n",
              "      <td>9.1855</td>\n",
              "    </tr>\n",
              "  </tbody>\n",
              "</table>\n",
              "</div>"
            ],
            "text/plain": [
              "   Longitude  Latitude                 Data  Magnitude_Verif\n",
              "0     -42.75    -14.25  2017-01-01 00:00:00           9.8150\n",
              "1     -42.75    -14.25  2017-01-01 01:00:00           8.7350\n",
              "2     -42.75    -14.25  2017-01-01 02:00:00           8.4545\n",
              "3     -42.75    -14.25  2017-01-01 03:00:00           9.1775\n",
              "4     -42.75    -14.25  2017-01-01 04:00:00           9.1855"
            ]
          },
          "metadata": {
            "tags": []
          },
          "execution_count": 67
        }
      ]
    },
    {
      "cell_type": "markdown",
      "metadata": {
        "id": "e9df4d99-4345-4371-8d42-37e13c037115"
      },
      "source": [
        "### **C) Merge dos dados**"
      ],
      "id": "e9df4d99-4345-4371-8d42-37e13c037115"
    },
    {
      "cell_type": "code",
      "metadata": {
        "id": "9599589d-d440-4d23-9fa4-04b6bc25fa2a"
      },
      "source": [
        "# Junta os DataFrames utilizando utilizando como índice ['Longitude','Latitude','Data']\n",
        "df_energia = pd.merge(df_vento, df_pressao, how = 'outer', on = ['Longitude','Latitude','Data'])\n",
        "df_energia = pd.merge(df_energia, df_temp,  how = 'outer', on = ['Longitude','Latitude','Data'])\n",
        "df_energia = pd.merge(df_energia, df_chuva, how = 'outer', on = ['Longitude','Latitude','Data'])\n",
        "df_energia = pd.merge(df_energia, df_vento_verif, how = 'outer', on = ['Longitude','Latitude','Data'])\n"
      ],
      "id": "9599589d-d440-4d23-9fa4-04b6bc25fa2a",
      "execution_count": 68,
      "outputs": []
    },
    {
      "cell_type": "code",
      "metadata": {
        "id": "6323ab3b-acef-4ec3-af89-3a253c012895",
        "outputId": "5c60e25a-ed0e-4a3a-87ae-4a1d7f046123",
        "colab": {
          "base_uri": "https://localhost:8080/",
          "height": 419
        }
      },
      "source": [
        "df_energia"
      ],
      "id": "6323ab3b-acef-4ec3-af89-3a253c012895",
      "execution_count": 69,
      "outputs": [
        {
          "output_type": "execute_result",
          "data": {
            "text/html": [
              "<div>\n",
              "<style scoped>\n",
              "    .dataframe tbody tr th:only-of-type {\n",
              "        vertical-align: middle;\n",
              "    }\n",
              "\n",
              "    .dataframe tbody tr th {\n",
              "        vertical-align: top;\n",
              "    }\n",
              "\n",
              "    .dataframe thead th {\n",
              "        text-align: right;\n",
              "    }\n",
              "</style>\n",
              "<table border=\"1\" class=\"dataframe\">\n",
              "  <thead>\n",
              "    <tr style=\"text-align: right;\">\n",
              "      <th></th>\n",
              "      <th>Longitude</th>\n",
              "      <th>Latitude</th>\n",
              "      <th>Magnitude</th>\n",
              "      <th>Direção</th>\n",
              "      <th>Data</th>\n",
              "      <th>Valor_Pressao</th>\n",
              "      <th>Valor_Temp</th>\n",
              "      <th>Valor_Chuva</th>\n",
              "      <th>Magnitude_Verif</th>\n",
              "    </tr>\n",
              "  </thead>\n",
              "  <tbody>\n",
              "    <tr>\n",
              "      <th>0</th>\n",
              "      <td>-42.75</td>\n",
              "      <td>-14.25</td>\n",
              "      <td>6.82</td>\n",
              "      <td>97.36</td>\n",
              "      <td>2017-01-01 00:00:00</td>\n",
              "      <td>1013.14</td>\n",
              "      <td>25.93</td>\n",
              "      <td>0.00</td>\n",
              "      <td>9.8150</td>\n",
              "    </tr>\n",
              "    <tr>\n",
              "      <th>1</th>\n",
              "      <td>-42.75</td>\n",
              "      <td>-14.25</td>\n",
              "      <td>6.91</td>\n",
              "      <td>94.65</td>\n",
              "      <td>2017-01-01 01:00:00</td>\n",
              "      <td>1013.34</td>\n",
              "      <td>25.73</td>\n",
              "      <td>0.00</td>\n",
              "      <td>8.7350</td>\n",
              "    </tr>\n",
              "    <tr>\n",
              "      <th>2</th>\n",
              "      <td>-42.75</td>\n",
              "      <td>-14.25</td>\n",
              "      <td>7.27</td>\n",
              "      <td>92.98</td>\n",
              "      <td>2017-01-01 02:00:00</td>\n",
              "      <td>1013.04</td>\n",
              "      <td>25.50</td>\n",
              "      <td>0.00</td>\n",
              "      <td>8.4545</td>\n",
              "    </tr>\n",
              "    <tr>\n",
              "      <th>3</th>\n",
              "      <td>-42.75</td>\n",
              "      <td>-14.25</td>\n",
              "      <td>7.83</td>\n",
              "      <td>93.62</td>\n",
              "      <td>2017-01-01 03:00:00</td>\n",
              "      <td>1012.92</td>\n",
              "      <td>23.67</td>\n",
              "      <td>0.00</td>\n",
              "      <td>9.1775</td>\n",
              "    </tr>\n",
              "    <tr>\n",
              "      <th>4</th>\n",
              "      <td>-42.75</td>\n",
              "      <td>-14.25</td>\n",
              "      <td>7.81</td>\n",
              "      <td>96.33</td>\n",
              "      <td>2017-01-01 04:00:00</td>\n",
              "      <td>1013.07</td>\n",
              "      <td>22.97</td>\n",
              "      <td>0.00</td>\n",
              "      <td>9.1855</td>\n",
              "    </tr>\n",
              "    <tr>\n",
              "      <th>...</th>\n",
              "      <td>...</td>\n",
              "      <td>...</td>\n",
              "      <td>...</td>\n",
              "      <td>...</td>\n",
              "      <td>...</td>\n",
              "      <td>...</td>\n",
              "      <td>...</td>\n",
              "      <td>...</td>\n",
              "      <td>...</td>\n",
              "    </tr>\n",
              "    <tr>\n",
              "      <th>8755</th>\n",
              "      <td>-42.75</td>\n",
              "      <td>-14.25</td>\n",
              "      <td>1.79</td>\n",
              "      <td>92.88</td>\n",
              "      <td>2017-12-31 19:00:00</td>\n",
              "      <td>1010.20</td>\n",
              "      <td>32.56</td>\n",
              "      <td>0.01</td>\n",
              "      <td>7.2235</td>\n",
              "    </tr>\n",
              "    <tr>\n",
              "      <th>8756</th>\n",
              "      <td>-42.75</td>\n",
              "      <td>-14.25</td>\n",
              "      <td>2.26</td>\n",
              "      <td>86.13</td>\n",
              "      <td>2017-12-31 20:00:00</td>\n",
              "      <td>1009.77</td>\n",
              "      <td>32.50</td>\n",
              "      <td>0.05</td>\n",
              "      <td>6.1385</td>\n",
              "    </tr>\n",
              "    <tr>\n",
              "      <th>8757</th>\n",
              "      <td>-42.75</td>\n",
              "      <td>-14.25</td>\n",
              "      <td>2.19</td>\n",
              "      <td>86.79</td>\n",
              "      <td>2017-12-31 21:00:00</td>\n",
              "      <td>1010.32</td>\n",
              "      <td>29.74</td>\n",
              "      <td>0.00</td>\n",
              "      <td>6.0430</td>\n",
              "    </tr>\n",
              "    <tr>\n",
              "      <th>8758</th>\n",
              "      <td>-42.75</td>\n",
              "      <td>-14.25</td>\n",
              "      <td>0.62</td>\n",
              "      <td>105.53</td>\n",
              "      <td>2017-12-31 22:00:00</td>\n",
              "      <td>1010.82</td>\n",
              "      <td>27.67</td>\n",
              "      <td>0.00</td>\n",
              "      <td>6.7235</td>\n",
              "    </tr>\n",
              "    <tr>\n",
              "      <th>8759</th>\n",
              "      <td>-42.75</td>\n",
              "      <td>-14.25</td>\n",
              "      <td>0.64</td>\n",
              "      <td>123.90</td>\n",
              "      <td>2017-12-31 23:00:00</td>\n",
              "      <td>1011.84</td>\n",
              "      <td>29.09</td>\n",
              "      <td>0.00</td>\n",
              "      <td>5.6135</td>\n",
              "    </tr>\n",
              "  </tbody>\n",
              "</table>\n",
              "<p>8760 rows × 9 columns</p>\n",
              "</div>"
            ],
            "text/plain": [
              "      Longitude  Latitude  Magnitude  ...  Valor_Temp Valor_Chuva  Magnitude_Verif\n",
              "0        -42.75    -14.25       6.82  ...       25.93        0.00           9.8150\n",
              "1        -42.75    -14.25       6.91  ...       25.73        0.00           8.7350\n",
              "2        -42.75    -14.25       7.27  ...       25.50        0.00           8.4545\n",
              "3        -42.75    -14.25       7.83  ...       23.67        0.00           9.1775\n",
              "4        -42.75    -14.25       7.81  ...       22.97        0.00           9.1855\n",
              "...         ...       ...        ...  ...         ...         ...              ...\n",
              "8755     -42.75    -14.25       1.79  ...       32.56        0.01           7.2235\n",
              "8756     -42.75    -14.25       2.26  ...       32.50        0.05           6.1385\n",
              "8757     -42.75    -14.25       2.19  ...       29.74        0.00           6.0430\n",
              "8758     -42.75    -14.25       0.62  ...       27.67        0.00           6.7235\n",
              "8759     -42.75    -14.25       0.64  ...       29.09        0.00           5.6135\n",
              "\n",
              "[8760 rows x 9 columns]"
            ]
          },
          "metadata": {
            "tags": []
          },
          "execution_count": 69
        }
      ]
    },
    {
      "cell_type": "markdown",
      "metadata": {
        "id": "7cb33c8f-5eb9-426a-b886-34e7f0fe9a75"
      },
      "source": [
        "### **D) Exporta Dados**"
      ],
      "id": "7cb33c8f-5eb9-426a-b886-34e7f0fe9a75"
    },
    {
      "cell_type": "code",
      "metadata": {
        "id": "efaa90b6-18f8-4027-a862-02e9196c5a68"
      },
      "source": [
        "output_file = 'Data/resultDados_patio1_completo.csv'\n",
        "df_energia.to_csv(output_file, sep=';', encoding='utf-8')"
      ],
      "id": "efaa90b6-18f8-4027-a862-02e9196c5a68",
      "execution_count": 70,
      "outputs": []
    },
    {
      "cell_type": "code",
      "metadata": {
        "id": "ZaIIjDSiXX1i"
      },
      "source": [
        "from google.colab import drive\n",
        "drive.mount('/content/drive')"
      ],
      "id": "ZaIIjDSiXX1i",
      "execution_count": null,
      "outputs": []
    }
  ]
}