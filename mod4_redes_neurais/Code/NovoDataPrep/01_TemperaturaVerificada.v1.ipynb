{
  "nbformat": 4,
  "nbformat_minor": 5,
  "metadata": {
    "kernelspec": {
      "display_name": "Python 3",
      "language": "python",
      "name": "python3"
    },
    "language_info": {
      "codemirror_mode": {
        "name": "ipython",
        "version": 3
      },
      "file_extension": ".py",
      "mimetype": "text/x-python",
      "name": "python",
      "nbconvert_exporter": "python",
      "pygments_lexer": "ipython3",
      "version": "3.7.10"
    },
    "colab": {
      "name": "01_TemperaturaVerificada.ipynb",
      "provenance": [],
      "include_colab_link": true
    }
  },
  "cells": [
    {
      "cell_type": "markdown",
      "metadata": {
        "id": "view-in-github",
        "colab_type": "text"
      },
      "source": [
        "<a href=\"https://colab.research.google.com/github/sergioopereira/AI/blob/main/mod4_redes_neurais/Code/NovoDataPrep/01_TemperaturaVerificada.v1.ipynb\" target=\"_parent\"><img src=\"https://colab.research.google.com/assets/colab-badge.svg\" alt=\"Open In Colab\"/></a>"
      ]
    },
    {
      "cell_type": "code",
      "metadata": {
        "id": "eb7d0d19-ccda-4e67-b305-088b8bbf3c85"
      },
      "source": [
        "import numpy as np\n",
        "import pandas as pd\n",
        "from datetime import datetime,date,time\n",
        "from dateutil.relativedelta import relativedelta\n"
      ],
      "id": "eb7d0d19-ccda-4e67-b305-088b8bbf3c85",
      "execution_count": 45,
      "outputs": []
    },
    {
      "cell_type": "markdown",
      "metadata": {
        "id": "d4de6591-f4da-4527-8263-f74933fa9424"
      },
      "source": [
        "### **A) Coleta dos Dados de Direção do Vento**"
      ],
      "id": "d4de6591-f4da-4527-8263-f74933fa9424"
    },
    {
      "cell_type": "code",
      "metadata": {
        "id": "ce4ae9a9-fde5-4f5f-8cd6-1dfbbaa3f0c5"
      },
      "source": [
        "source_file = 'raw/BAUET2_CAETITÉ_2_TEM_Verif_EPE.txt'"
      ],
      "id": "ce4ae9a9-fde5-4f5f-8cd6-1dfbbaa3f0c5",
      "execution_count": 46,
      "outputs": []
    },
    {
      "cell_type": "code",
      "metadata": {
        "id": "f3ba86b3-1f9e-4435-8ddc-c3fb18fb3940"
      },
      "source": [
        "df_temperatura = pd.read_csv(source_file, delimiter = ';' , header=None )"
      ],
      "id": "f3ba86b3-1f9e-4435-8ddc-c3fb18fb3940",
      "execution_count": 47,
      "outputs": []
    },
    {
      "cell_type": "markdown",
      "metadata": {
        "id": "533e1214-19b9-470f-8d35-9b5cedd6736d"
      },
      "source": [
        "### **B) Sobre os Dados no Patio 1**"
      ],
      "id": "533e1214-19b9-470f-8d35-9b5cedd6736d"
    },
    {
      "cell_type": "markdown",
      "metadata": {
        "id": "7e7cf551-72c8-477b-8984-53dd2ca27235"
      },
      "source": [
        "#### <span style=\"color:#DC143C\">**B1.Formato dos Dados**"
      ],
      "id": "7e7cf551-72c8-477b-8984-53dd2ca27235"
    },
    {
      "cell_type": "code",
      "metadata": {
        "id": "05e5dc6d-2f12-4267-8f14-bd7028017935",
        "outputId": "ca49f315-fe61-4629-a15e-3559d08f19f4",
        "colab": {
          "base_uri": "https://localhost:8080/"
        }
      },
      "source": [
        "df_temperatura.shape # formato da matriz"
      ],
      "id": "05e5dc6d-2f12-4267-8f14-bd7028017935",
      "execution_count": 48,
      "outputs": [
        {
          "output_type": "execute_result",
          "data": {
            "text/plain": [
              "(1622, 49)"
            ]
          },
          "metadata": {},
          "execution_count": 48
        }
      ]
    },
    {
      "cell_type": "markdown",
      "metadata": {
        "id": "9d24ab44-4f41-4132-84db-1977047f5cad"
      },
      "source": [
        "#### <span style=\"color:#DC143C\">**B2.Visao do Dataframe**"
      ],
      "id": "9d24ab44-4f41-4132-84db-1977047f5cad"
    },
    {
      "cell_type": "code",
      "metadata": {
        "id": "264c2fda-4d8e-4114-8641-6fb08f2df705",
        "outputId": "0da67869-2284-4a04-b59a-5df91c80af9a",
        "colab": {
          "base_uri": "https://localhost:8080/",
          "height": 131
        }
      },
      "source": [
        "df_temperatura.head(2)  # visão de 5 linhas"
      ],
      "id": "264c2fda-4d8e-4114-8641-6fb08f2df705",
      "execution_count": 49,
      "outputs": [
        {
          "output_type": "execute_result",
          "data": {
            "text/html": [
              "<div>\n",
              "<style scoped>\n",
              "    .dataframe tbody tr th:only-of-type {\n",
              "        vertical-align: middle;\n",
              "    }\n",
              "\n",
              "    .dataframe tbody tr th {\n",
              "        vertical-align: top;\n",
              "    }\n",
              "\n",
              "    .dataframe thead th {\n",
              "        text-align: right;\n",
              "    }\n",
              "</style>\n",
              "<table border=\"1\" class=\"dataframe\">\n",
              "  <thead>\n",
              "    <tr style=\"text-align: right;\">\n",
              "      <th></th>\n",
              "      <th>0</th>\n",
              "      <th>1</th>\n",
              "      <th>2</th>\n",
              "      <th>3</th>\n",
              "      <th>4</th>\n",
              "      <th>5</th>\n",
              "      <th>6</th>\n",
              "      <th>7</th>\n",
              "      <th>8</th>\n",
              "      <th>9</th>\n",
              "      <th>10</th>\n",
              "      <th>11</th>\n",
              "      <th>12</th>\n",
              "      <th>13</th>\n",
              "      <th>14</th>\n",
              "      <th>15</th>\n",
              "      <th>16</th>\n",
              "      <th>17</th>\n",
              "      <th>18</th>\n",
              "      <th>19</th>\n",
              "      <th>20</th>\n",
              "      <th>21</th>\n",
              "      <th>22</th>\n",
              "      <th>23</th>\n",
              "      <th>24</th>\n",
              "      <th>25</th>\n",
              "      <th>26</th>\n",
              "      <th>27</th>\n",
              "      <th>28</th>\n",
              "      <th>29</th>\n",
              "      <th>30</th>\n",
              "      <th>31</th>\n",
              "      <th>32</th>\n",
              "      <th>33</th>\n",
              "      <th>34</th>\n",
              "      <th>35</th>\n",
              "      <th>36</th>\n",
              "      <th>37</th>\n",
              "      <th>38</th>\n",
              "      <th>39</th>\n",
              "      <th>40</th>\n",
              "      <th>41</th>\n",
              "      <th>42</th>\n",
              "      <th>43</th>\n",
              "      <th>44</th>\n",
              "      <th>45</th>\n",
              "      <th>46</th>\n",
              "      <th>47</th>\n",
              "      <th>48</th>\n",
              "    </tr>\n",
              "  </thead>\n",
              "  <tbody>\n",
              "    <tr>\n",
              "      <th>0</th>\n",
              "      <td>20170101</td>\n",
              "      <td>999.0</td>\n",
              "      <td>999.000</td>\n",
              "      <td>18.733</td>\n",
              "      <td>18.300</td>\n",
              "      <td>17.867</td>\n",
              "      <td>17.4</td>\n",
              "      <td>17.000</td>\n",
              "      <td>16.833</td>\n",
              "      <td>16.633</td>\n",
              "      <td>16.333</td>\n",
              "      <td>16.067</td>\n",
              "      <td>15.900</td>\n",
              "      <td>15.767</td>\n",
              "      <td>15.833</td>\n",
              "      <td>16.267</td>\n",
              "      <td>16.9</td>\n",
              "      <td>17.633</td>\n",
              "      <td>18.233</td>\n",
              "      <td>18.733</td>\n",
              "      <td>19.367</td>\n",
              "      <td>20.100</td>\n",
              "      <td>20.767</td>\n",
              "      <td>21.400</td>\n",
              "      <td>22.100</td>\n",
              "      <td>22.733</td>\n",
              "      <td>23.433</td>\n",
              "      <td>24.033</td>\n",
              "      <td>24.800</td>\n",
              "      <td>25.033</td>\n",
              "      <td>25.567</td>\n",
              "      <td>25.900</td>\n",
              "      <td>26.067</td>\n",
              "      <td>26.633</td>\n",
              "      <td>26.700</td>\n",
              "      <td>26.500</td>\n",
              "      <td>26.133</td>\n",
              "      <td>25.967</td>\n",
              "      <td>25.667</td>\n",
              "      <td>25.367</td>\n",
              "      <td>25.467</td>\n",
              "      <td>25.733</td>\n",
              "      <td>25.700</td>\n",
              "      <td>25.767</td>\n",
              "      <td>25.667</td>\n",
              "      <td>25.5</td>\n",
              "      <td>23.8</td>\n",
              "      <td>22.100</td>\n",
              "      <td>21.833</td>\n",
              "    </tr>\n",
              "    <tr>\n",
              "      <th>1</th>\n",
              "      <td>20170102</td>\n",
              "      <td>21.3</td>\n",
              "      <td>20.667</td>\n",
              "      <td>20.267</td>\n",
              "      <td>19.833</td>\n",
              "      <td>19.000</td>\n",
              "      <td>18.6</td>\n",
              "      <td>18.333</td>\n",
              "      <td>17.900</td>\n",
              "      <td>17.567</td>\n",
              "      <td>17.400</td>\n",
              "      <td>17.233</td>\n",
              "      <td>17.133</td>\n",
              "      <td>17.133</td>\n",
              "      <td>17.167</td>\n",
              "      <td>17.300</td>\n",
              "      <td>17.7</td>\n",
              "      <td>17.967</td>\n",
              "      <td>19.267</td>\n",
              "      <td>20.600</td>\n",
              "      <td>21.467</td>\n",
              "      <td>22.333</td>\n",
              "      <td>23.133</td>\n",
              "      <td>23.733</td>\n",
              "      <td>24.467</td>\n",
              "      <td>25.000</td>\n",
              "      <td>25.767</td>\n",
              "      <td>26.200</td>\n",
              "      <td>26.967</td>\n",
              "      <td>27.567</td>\n",
              "      <td>27.800</td>\n",
              "      <td>27.867</td>\n",
              "      <td>28.500</td>\n",
              "      <td>28.567</td>\n",
              "      <td>28.667</td>\n",
              "      <td>29.367</td>\n",
              "      <td>28.467</td>\n",
              "      <td>27.800</td>\n",
              "      <td>27.333</td>\n",
              "      <td>27.267</td>\n",
              "      <td>27.267</td>\n",
              "      <td>27.300</td>\n",
              "      <td>27.267</td>\n",
              "      <td>27.233</td>\n",
              "      <td>26.533</td>\n",
              "      <td>26.1</td>\n",
              "      <td>25.0</td>\n",
              "      <td>22.933</td>\n",
              "      <td>22.900</td>\n",
              "    </tr>\n",
              "  </tbody>\n",
              "</table>\n",
              "</div>"
            ],
            "text/plain": [
              "         0      1        2       3       4   ...      44    45    46      47      48\n",
              "0  20170101  999.0  999.000  18.733  18.300  ...  25.667  25.5  23.8  22.100  21.833\n",
              "1  20170102   21.3   20.667  20.267  19.833  ...  26.533  26.1  25.0  22.933  22.900\n",
              "\n",
              "[2 rows x 49 columns]"
            ]
          },
          "metadata": {},
          "execution_count": 49
        }
      ]
    },
    {
      "cell_type": "markdown",
      "metadata": {
        "id": "5946208f-3f8e-42e8-87cf-5673729dcee3"
      },
      "source": [
        "### **C) Extração os Dados de 2017**"
      ],
      "id": "5946208f-3f8e-42e8-87cf-5673729dcee3"
    },
    {
      "cell_type": "markdown",
      "metadata": {
        "id": "03d6e54e-5dcc-4494-924a-26cf0c51a58b"
      },
      "source": [
        "#### <span style=\"color:#DC143C\"> **C1. Converter a primeira coluna em Data**"
      ],
      "id": "03d6e54e-5dcc-4494-924a-26cf0c51a58b"
    },
    {
      "cell_type": "code",
      "metadata": {
        "id": "36ce0d92-bec5-4138-b9c0-719f3c3b4def"
      },
      "source": [
        "df_temperatura[0]= pd.to_datetime(df_temperatura[0], format='%Y%m%d')"
      ],
      "id": "36ce0d92-bec5-4138-b9c0-719f3c3b4def",
      "execution_count": 50,
      "outputs": []
    },
    {
      "cell_type": "markdown",
      "metadata": {
        "id": "99dc7a59-537f-4e2e-abd4-1d4e0e1c535c"
      },
      "source": [
        "#### <span style=\"color:#DC143C\"> **C2.Remove registros fora do Intervalo**"
      ],
      "id": "99dc7a59-537f-4e2e-abd4-1d4e0e1c535c"
    },
    {
      "cell_type": "code",
      "metadata": {
        "id": "c8d8004c-2262-4629-93be-9a2fe1247087"
      },
      "source": [
        "df_temperatura = df_temperatura.drop(df_temperatura[df_temperatura[0] > '2017-12-31'].index)\n",
        "df_temperatura = df_temperatura.drop(df_temperatura[df_temperatura[0] < '2017-01-01'].index)"
      ],
      "id": "c8d8004c-2262-4629-93be-9a2fe1247087",
      "execution_count": 51,
      "outputs": []
    },
    {
      "cell_type": "code",
      "metadata": {
        "id": "a726e1ad-b45a-4bc3-87cd-399a03bbe9da"
      },
      "source": [
        "df_temperatura['longitude'] = -42.75\n",
        "df_temperatura['latitude']  = -14.25 "
      ],
      "id": "a726e1ad-b45a-4bc3-87cd-399a03bbe9da",
      "execution_count": 52,
      "outputs": []
    },
    {
      "cell_type": "code",
      "metadata": {
        "id": "1022a262-972a-4ae0-90e4-99843d269ebd"
      },
      "source": [
        "cols = list(df_temperatura)\n",
        "cols = [cols[-1]] + cols[:-1]\n",
        "df_temperatura = df_temperatura[cols]\n",
        "\n",
        "cols = list(df_temperatura)\n",
        "cols = [cols[-1]] + cols[:-1]\n",
        "df_temperatura = df_temperatura[cols]"
      ],
      "id": "1022a262-972a-4ae0-90e4-99843d269ebd",
      "execution_count": 53,
      "outputs": []
    },
    {
      "cell_type": "code",
      "metadata": {
        "id": "7a636996-b57d-4214-a5a9-1476430e1592"
      },
      "source": [
        "df_temperatura = df_temperatura.reset_index()"
      ],
      "id": "7a636996-b57d-4214-a5a9-1476430e1592",
      "execution_count": 54,
      "outputs": []
    },
    {
      "cell_type": "markdown",
      "metadata": {
        "id": "8d44ac71-093e-4f6a-9ca2-39b1fa170281"
      },
      "source": [
        "### **D) Formatação dos Dados**"
      ],
      "id": "8d44ac71-093e-4f6a-9ca2-39b1fa170281"
    },
    {
      "cell_type": "markdown",
      "metadata": {
        "id": "9b4d87e8-3b0e-48ad-b8a6-52dabb0b2e1b"
      },
      "source": [
        "#### <span style=\"color:#DC143C\"> **D1. Migrar os dados para o Formato**"
      ],
      "id": "9b4d87e8-3b0e-48ad-b8a6-52dabb0b2e1b"
    },
    {
      "cell_type": "code",
      "metadata": {
        "id": "b703eead-99a7-457d-9566-b951ac2ed89e"
      },
      "source": [
        "frente = ['Longitude', 'Latitude', 'Data', 'Valor30_1', 'Valor30_2']  # Cabeçalho\n",
        "df_result_temperatura = pd.DataFrame(columns=frente)  # Criação de um dataframe vazio\n",
        "    \n",
        "Linha1    =  df_temperatura.shape[0] \n",
        "Colunas1  =  df_temperatura.shape[1] \n",
        "\n",
        "for lin2 in range(Linha1):  \n",
        "    refhora = 0\n",
        "    \n",
        "    for col in range (Colunas1):        \n",
        "        if col > 0:            \n",
        "        \n",
        "            if col % 2 != 0: # Se o número (col) for impar                   \n",
        "               \n",
        "                if col < 49:\n",
        "                    \n",
        "                    Data = df_temperatura.loc[lin2,0]\n",
        "                                  \n",
        "                    hora = time(hour=refhora, minute=0, second=0)            \n",
        "                    dataCompleta = datetime.combine(Data, hora)\n",
        "                   \n",
        "                    lin_alvo = [df_temperatura.loc[lin2,'longitude'], df_temperatura.loc[lin2,'latitude'], dataCompleta , df_temperatura.loc[lin2,col], df_temperatura.loc[lin2,col+1]] \n",
        "                  \n",
        "                    df_result_temperatura.loc[len(df_result_temperatura)] = lin_alvo  # adding a row\n",
        "                         \n",
        "                refhora = refhora + 1          \n",
        "                \n"
      ],
      "id": "b703eead-99a7-457d-9566-b951ac2ed89e",
      "execution_count": 55,
      "outputs": []
    },
    {
      "cell_type": "markdown",
      "metadata": {
        "id": "047f786e-a658-4915-aa93-489a929be333"
      },
      "source": [
        "#### <span style=\"color:#DC143C\"> **D2. Informações sobre os Tipos de Dados**"
      ],
      "id": "047f786e-a658-4915-aa93-489a929be333"
    },
    {
      "cell_type": "code",
      "metadata": {
        "id": "bcc3e208-9f7c-4b31-8c06-8bfe7250cac5",
        "outputId": "4a33eaa1-756b-4d9a-81f0-27e0750ab021",
        "colab": {
          "base_uri": "https://localhost:8080/"
        }
      },
      "source": [
        "df_result_temperatura.info()"
      ],
      "id": "bcc3e208-9f7c-4b31-8c06-8bfe7250cac5",
      "execution_count": 56,
      "outputs": [
        {
          "output_type": "stream",
          "name": "stdout",
          "text": [
            "<class 'pandas.core.frame.DataFrame'>\n",
            "Int64Index: 8760 entries, 0 to 8759\n",
            "Data columns (total 5 columns):\n",
            " #   Column     Non-Null Count  Dtype         \n",
            "---  ------     --------------  -----         \n",
            " 0   Longitude  8760 non-null   float64       \n",
            " 1   Latitude   8760 non-null   float64       \n",
            " 2   Data       8760 non-null   datetime64[ns]\n",
            " 3   Valor30_1  8760 non-null   float64       \n",
            " 4   Valor30_2  8760 non-null   float64       \n",
            "dtypes: datetime64[ns](1), float64(4)\n",
            "memory usage: 410.6 KB\n"
          ]
        }
      ]
    },
    {
      "cell_type": "code",
      "metadata": {
        "id": "98d86317-e634-4c8c-825a-41a6f8b855f1",
        "outputId": "fe96eaec-7fa7-43e9-f01b-b4f64c1b814b",
        "colab": {
          "base_uri": "https://localhost:8080/"
        }
      },
      "source": [
        "df_result_temperatura.shape"
      ],
      "id": "98d86317-e634-4c8c-825a-41a6f8b855f1",
      "execution_count": 57,
      "outputs": [
        {
          "output_type": "execute_result",
          "data": {
            "text/plain": [
              "(8760, 5)"
            ]
          },
          "metadata": {},
          "execution_count": 57
        }
      ]
    },
    {
      "cell_type": "markdown",
      "metadata": {
        "id": "54c12bdc-f682-42fe-b85c-e9d745e24484"
      },
      "source": [
        "#### <span style=\"color:#DC143C\"> **D3. Remover ruido do dado**"
      ],
      "id": "54c12bdc-f682-42fe-b85c-e9d745e24484"
    },
    {
      "cell_type": "code",
      "metadata": {
        "id": "7eae6b10-0648-49b9-8f3a-2afca16a2024"
      },
      "source": [
        "df_result_temperatura.loc[df_result_temperatura['Valor30_1']== 999.00,'Valor30_1'] = 0\n",
        "df_result_temperatura.loc[df_result_temperatura['Valor30_1']== 99.000,'Valor30_1'] = 0\n",
        "\n",
        "df_result_temperatura.loc[df_result_temperatura['Valor30_2']== 99.000,'Valor30_2'] = 0\n",
        "df_result_temperatura.loc[df_result_temperatura['Valor30_2']== 999.00,'Valor30_2'] = 0"
      ],
      "id": "7eae6b10-0648-49b9-8f3a-2afca16a2024",
      "execution_count": 58,
      "outputs": []
    },
    {
      "cell_type": "markdown",
      "metadata": {
        "id": "c173069f-d3cc-431e-a78b-4103853b4814"
      },
      "source": [
        "save_file = 'd:\\df_result_temperatura.csv'\n",
        "df_result_temperatura.to_csv(save_file, index = True)"
      ],
      "id": "c173069f-d3cc-431e-a78b-4103853b4814"
    },
    {
      "cell_type": "markdown",
      "metadata": {
        "id": "f8226986-8180-4ef4-af70-72bb1a79ec81"
      },
      "source": [
        "colMean1 = df_result_temperatura['Valor30_1'].sum() / ((df_result_temperatura['Valor30_1'] != 0).sum())\n",
        "colMean1 = round(colMean1, 2)\n",
        "print('Media 1:' + str(colMean1))\n",
        "\n",
        "colMean2 = df_result_temperatura['Valor30_2'].sum() / ((df_result_temperatura['Valor30_2'] != 0).sum())\n",
        "colMean2 = round(colMean2, 2)\n",
        "print('Media 2:' + str(colMean2))"
      ],
      "id": "f8226986-8180-4ef4-af70-72bb1a79ec81"
    },
    {
      "cell_type": "code",
      "metadata": {
        "id": "4f44fb71-bcfd-43e3-ad01-24002083f85d"
      },
      "source": [
        "#df_result_temperatura.loc[df_result_temperatura['Valor30_1']== 0,'Valor30_1'] = 19.53\n",
        "#df_result_temperatura.loc[df_result_temperatura['Valor30_2']== 0,'Valor30_2'] = 19.54\n",
        "\n",
        "#df_result_temperatura.loc[df_result_temperatura['Valor30_1']>32 ,'Valor30_1'] = 19.53\n",
        "#df_result_temperatura.loc[df_result_temperatura['Valor30_2']>32 ,'Valor30_2'] = 19.54"
      ],
      "id": "4f44fb71-bcfd-43e3-ad01-24002083f85d",
      "execution_count": 59,
      "outputs": []
    },
    {
      "cell_type": "code",
      "metadata": {
        "id": "Zp1qAwXU8hfM"
      },
      "source": [
        "# Removendo as linhas sem valores\n",
        "df_result_temperatura = df_result_temperatura.drop(df_result_temperatura[df_result_temperatura['Valor30_1'] == 0].index)\n",
        "df_result_temperatura = df_result_temperatura.drop(df_result_temperatura[df_result_temperatura['Valor30_2'] == 0].index)\n",
        "df_result_temperatura = df_result_temperatura.drop(df_result_temperatura[df_result_temperatura['Valor30_1'] > 32].index)\n",
        "df_result_temperatura = df_result_temperatura.drop(df_result_temperatura[df_result_temperatura['Valor30_2'] > 32].index)"
      ],
      "id": "Zp1qAwXU8hfM",
      "execution_count": 60,
      "outputs": []
    },
    {
      "cell_type": "markdown",
      "metadata": {
        "id": "OEIWXMhy61QZ"
      },
      "source": [
        "#### <span style=\"color:#DC143C\"> **D3. Agregar Magnitude para 1H**"
      ],
      "id": "OEIWXMhy61QZ"
    },
    {
      "cell_type": "code",
      "metadata": {
        "id": "66128703-692b-465f-badc-c4ebeb67fc44"
      },
      "source": [
        "df_result_temperatura['Temperatura_Verif'] = (df_result_temperatura['Valor30_1'] + df_result_temperatura['Valor30_2']) / 2"
      ],
      "id": "66128703-692b-465f-badc-c4ebeb67fc44",
      "execution_count": 61,
      "outputs": []
    },
    {
      "cell_type": "code",
      "metadata": {
        "id": "1046af49-9702-4e98-af8f-2409184b316e"
      },
      "source": [
        "# Formatar o resultado com 2 casas decimais\n",
        "df_result_temperatura['Temperatura_Verif'] = df_result_temperatura['Temperatura_Verif'].round(decimals=2)"
      ],
      "id": "1046af49-9702-4e98-af8f-2409184b316e",
      "execution_count": 62,
      "outputs": []
    },
    {
      "cell_type": "code",
      "metadata": {
        "id": "e0216b72-8e85-4473-b40d-0c0380e90f7f"
      },
      "source": [
        "df_result_temperatura = df_result_temperatura.drop('Valor30_1', 1)\n",
        "df_result_temperatura = df_result_temperatura.drop('Valor30_2', 1)"
      ],
      "id": "e0216b72-8e85-4473-b40d-0c0380e90f7f",
      "execution_count": 63,
      "outputs": []
    },
    {
      "cell_type": "code",
      "metadata": {
        "id": "12c383d8-474e-47ba-a7f8-9001475fbb52",
        "outputId": "5886cef7-acca-4ad5-88df-a4edaf3500c4",
        "colab": {
          "base_uri": "https://localhost:8080/",
          "height": 419
        }
      },
      "source": [
        "df_result_temperatura.head(-2)"
      ],
      "id": "12c383d8-474e-47ba-a7f8-9001475fbb52",
      "execution_count": 64,
      "outputs": [
        {
          "output_type": "execute_result",
          "data": {
            "text/html": [
              "<div>\n",
              "<style scoped>\n",
              "    .dataframe tbody tr th:only-of-type {\n",
              "        vertical-align: middle;\n",
              "    }\n",
              "\n",
              "    .dataframe tbody tr th {\n",
              "        vertical-align: top;\n",
              "    }\n",
              "\n",
              "    .dataframe thead th {\n",
              "        text-align: right;\n",
              "    }\n",
              "</style>\n",
              "<table border=\"1\" class=\"dataframe\">\n",
              "  <thead>\n",
              "    <tr style=\"text-align: right;\">\n",
              "      <th></th>\n",
              "      <th>Longitude</th>\n",
              "      <th>Latitude</th>\n",
              "      <th>Data</th>\n",
              "      <th>Temperatura_Verif</th>\n",
              "    </tr>\n",
              "  </thead>\n",
              "  <tbody>\n",
              "    <tr>\n",
              "      <th>1</th>\n",
              "      <td>-42.75</td>\n",
              "      <td>-14.25</td>\n",
              "      <td>2017-01-01 01:00:00</td>\n",
              "      <td>18.52</td>\n",
              "    </tr>\n",
              "    <tr>\n",
              "      <th>2</th>\n",
              "      <td>-42.75</td>\n",
              "      <td>-14.25</td>\n",
              "      <td>2017-01-01 02:00:00</td>\n",
              "      <td>17.63</td>\n",
              "    </tr>\n",
              "    <tr>\n",
              "      <th>3</th>\n",
              "      <td>-42.75</td>\n",
              "      <td>-14.25</td>\n",
              "      <td>2017-01-01 03:00:00</td>\n",
              "      <td>16.92</td>\n",
              "    </tr>\n",
              "    <tr>\n",
              "      <th>4</th>\n",
              "      <td>-42.75</td>\n",
              "      <td>-14.25</td>\n",
              "      <td>2017-01-01 04:00:00</td>\n",
              "      <td>16.48</td>\n",
              "    </tr>\n",
              "    <tr>\n",
              "      <th>5</th>\n",
              "      <td>-42.75</td>\n",
              "      <td>-14.25</td>\n",
              "      <td>2017-01-01 05:00:00</td>\n",
              "      <td>15.98</td>\n",
              "    </tr>\n",
              "    <tr>\n",
              "      <th>...</th>\n",
              "      <td>...</td>\n",
              "      <td>...</td>\n",
              "      <td>...</td>\n",
              "      <td>...</td>\n",
              "    </tr>\n",
              "    <tr>\n",
              "      <th>8752</th>\n",
              "      <td>-42.75</td>\n",
              "      <td>-14.25</td>\n",
              "      <td>2017-12-31 16:00:00</td>\n",
              "      <td>26.87</td>\n",
              "    </tr>\n",
              "    <tr>\n",
              "      <th>8753</th>\n",
              "      <td>-42.75</td>\n",
              "      <td>-14.25</td>\n",
              "      <td>2017-12-31 17:00:00</td>\n",
              "      <td>26.22</td>\n",
              "    </tr>\n",
              "    <tr>\n",
              "      <th>8754</th>\n",
              "      <td>-42.75</td>\n",
              "      <td>-14.25</td>\n",
              "      <td>2017-12-31 18:00:00</td>\n",
              "      <td>25.28</td>\n",
              "    </tr>\n",
              "    <tr>\n",
              "      <th>8755</th>\n",
              "      <td>-42.75</td>\n",
              "      <td>-14.25</td>\n",
              "      <td>2017-12-31 19:00:00</td>\n",
              "      <td>24.88</td>\n",
              "    </tr>\n",
              "    <tr>\n",
              "      <th>8756</th>\n",
              "      <td>-42.75</td>\n",
              "      <td>-14.25</td>\n",
              "      <td>2017-12-31 20:00:00</td>\n",
              "      <td>24.88</td>\n",
              "    </tr>\n",
              "  </tbody>\n",
              "</table>\n",
              "<p>8452 rows × 4 columns</p>\n",
              "</div>"
            ],
            "text/plain": [
              "      Longitude  Latitude                Data  Temperatura_Verif\n",
              "1        -42.75    -14.25 2017-01-01 01:00:00              18.52\n",
              "2        -42.75    -14.25 2017-01-01 02:00:00              17.63\n",
              "3        -42.75    -14.25 2017-01-01 03:00:00              16.92\n",
              "4        -42.75    -14.25 2017-01-01 04:00:00              16.48\n",
              "5        -42.75    -14.25 2017-01-01 05:00:00              15.98\n",
              "...         ...       ...                 ...                ...\n",
              "8752     -42.75    -14.25 2017-12-31 16:00:00              26.87\n",
              "8753     -42.75    -14.25 2017-12-31 17:00:00              26.22\n",
              "8754     -42.75    -14.25 2017-12-31 18:00:00              25.28\n",
              "8755     -42.75    -14.25 2017-12-31 19:00:00              24.88\n",
              "8756     -42.75    -14.25 2017-12-31 20:00:00              24.88\n",
              "\n",
              "[8452 rows x 4 columns]"
            ]
          },
          "metadata": {},
          "execution_count": 64
        }
      ]
    },
    {
      "cell_type": "markdown",
      "metadata": {
        "id": "7462dcdc-daa0-4cad-a944-a264ce575254"
      },
      "source": [
        "### **E. Exporta Resultados**"
      ],
      "id": "7462dcdc-daa0-4cad-a944-a264ce575254"
    },
    {
      "cell_type": "code",
      "metadata": {
        "id": "ef87a932-b74b-48fe-b151-a8ec29013fef"
      },
      "source": [
        "output_file = 'processed/teste_03_patio_temperatura.csv'\n",
        "df_result_temperatura.to_csv(output_file, sep=';', encoding='utf-8')"
      ],
      "id": "ef87a932-b74b-48fe-b151-a8ec29013fef",
      "execution_count": 65,
      "outputs": []
    },
    {
      "cell_type": "code",
      "metadata": {
        "id": "be5441d5-7466-4959-b7ed-76922db78787"
      },
      "source": [
        ""
      ],
      "id": "be5441d5-7466-4959-b7ed-76922db78787",
      "execution_count": 65,
      "outputs": []
    }
  ]
}