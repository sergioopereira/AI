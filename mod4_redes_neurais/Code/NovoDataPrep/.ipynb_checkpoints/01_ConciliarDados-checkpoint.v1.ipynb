{
  "nbformat": 4,
  "nbformat_minor": 5,
  "metadata": {
    "kernelspec": {
      "display_name": "Python 3",
      "language": "python",
      "name": "python3"
    },
    "language_info": {
      "codemirror_mode": {
        "name": "ipython",
        "version": 3
      },
      "file_extension": ".py",
      "mimetype": "text/x-python",
      "name": "python",
      "nbconvert_exporter": "python",
      "pygments_lexer": "ipython3",
      "version": "3.7.10"
    },
    "colab": {
      "name": "01_ConciliarDados-checkpoint.ipynb",
      "provenance": [],
      "include_colab_link": true
    }
  },
  "cells": [
    {
      "cell_type": "markdown",
      "metadata": {
        "id": "view-in-github",
        "colab_type": "text"
      },
      "source": [
        "<a href=\"https://colab.research.google.com/github/sergioopereira/AI/blob/main/mod4_redes_neurais/Code/NovoDataPrep/.ipynb_checkpoints/01_ConciliarDados-checkpoint.v1.ipynb\" target=\"_parent\"><img src=\"https://colab.research.google.com/assets/colab-badge.svg\" alt=\"Open In Colab\"/></a>"
      ]
    },
    {
      "cell_type": "code",
      "metadata": {
        "id": "12fa0c66-b30c-49f8-b3df-f713b67111f5"
      },
      "source": [
        "import pandas as pd\n",
        "import numpy as np\n"
      ],
      "id": "12fa0c66-b30c-49f8-b3df-f713b67111f5",
      "execution_count": null,
      "outputs": []
    },
    {
      "cell_type": "markdown",
      "metadata": {
        "id": "20aae5e8-9e5c-423d-b4ba-6f7db1901409"
      },
      "source": [
        "### **A) Importar Dados de Chuvas, Pressao, Precipitação e Temperatura**"
      ],
      "id": "20aae5e8-9e5c-423d-b4ba-6f7db1901409"
    },
    {
      "cell_type": "code",
      "metadata": {
        "id": "68e8037d-37d6-4c26-9bcd-852dae67ec14"
      },
      "source": [
        "output_direcao = 'content/processed/teste_03_patio_direcao.csv'\n",
        "\n",
        "output_pressao = 'content/processes/teste_03_patio_pressao.csv'\n",
        "\n",
        "output_temp = 'content/processed/teste_03_patio_temperatura.csv'\n",
        "\n",
        "output_vento = 'content/processed/teste_03_patio_ventoverif.csv'\n",
        "\n",
        "\n"
      ],
      "id": "68e8037d-37d6-4c26-9bcd-852dae67ec14",
      "execution_count": null,
      "outputs": []
    },
    {
      "cell_type": "code",
      "metadata": {
        "id": "404c9f0a-add9-4098-b5c9-a0c7d946c955"
      },
      "source": [
        "df_direcao = pd.read_csv(output_direcao, delimiter = \";\", index_col=0)\n",
        "\n",
        "df_pressao = pd.read_csv(output_pressao, delimiter = \";\", index_col=0)\n",
        "\n",
        "df_temp = pd.read_csv(output_temp, delimiter = \";\", index_col=0)\n",
        "\n",
        "df_vento = pd.read_csv(output_vento, delimiter = \";\", index_col=0)\n",
        "\n",
        "# OBS: Senão utilizar o parametro index_col=0, o dataframe cria uma coluna \"Unnamed\" para representar o indice\n",
        "# e a remoção desta coluna pode ser pelo comando: df.drop(df.columns[0], axis=1, inplace=True)"
      ],
      "id": "404c9f0a-add9-4098-b5c9-a0c7d946c955",
      "execution_count": null,
      "outputs": []
    },
    {
      "cell_type": "markdown",
      "metadata": {
        "id": "befc6c78-814c-4950-a32d-88c69813fbc9"
      },
      "source": [
        "### **B) Sobre os 4 conjuntos de dados**"
      ],
      "id": "befc6c78-814c-4950-a32d-88c69813fbc9"
    },
    {
      "cell_type": "markdown",
      "metadata": {
        "id": "2b29d144-dca6-4dc5-974a-c0246f9a98c4"
      },
      "source": [
        "#### <span style=\"color:#DC143C\">**B1. Formato dos Dados**"
      ],
      "id": "2b29d144-dca6-4dc5-974a-c0246f9a98c4"
    },
    {
      "cell_type": "code",
      "metadata": {
        "id": "05dca724-712f-4e6d-bbb3-a4986cdac6ed",
        "outputId": "d740e543-5488-46d2-83c3-2cc0dce76f4c"
      },
      "source": [
        "print(\"Direcao:\" + str(df_direcao.shape))\n",
        "\n",
        "print(\"Pressao:\" + str(df_pressao.shape))\n",
        "\n",
        "print(\"Temperatura:\" + str(df_temp.shape))\n",
        "\n",
        "print(\"Vento:\" + str(df_vento.shape))\n"
      ],
      "id": "05dca724-712f-4e6d-bbb3-a4986cdac6ed",
      "execution_count": null,
      "outputs": [
        {
          "name": "stdout",
          "output_type": "stream",
          "text": [
            "Direcao:(8760, 4)\n",
            "Pressao:(8760, 4)\n",
            "Temperatura:(8760, 4)\n",
            "Vento:(8760, 4)\n"
          ]
        }
      ]
    },
    {
      "cell_type": "markdown",
      "metadata": {
        "id": "27b95161-81cd-49ae-9165-fc7465dba322"
      },
      "source": [
        "#### <span style=\"color:#DC143C\">**B2. Visão dos Dados**"
      ],
      "id": "27b95161-81cd-49ae-9165-fc7465dba322"
    },
    {
      "cell_type": "code",
      "metadata": {
        "id": "e53d3829-badf-4eb1-85fe-0f20f3ae7d33",
        "outputId": "b1280a92-774d-43d6-90bd-53d23805c52e"
      },
      "source": [
        "df_direcao.head(5)"
      ],
      "id": "e53d3829-badf-4eb1-85fe-0f20f3ae7d33",
      "execution_count": null,
      "outputs": [
        {
          "data": {
            "text/html": [
              "<div>\n",
              "<style scoped>\n",
              "    .dataframe tbody tr th:only-of-type {\n",
              "        vertical-align: middle;\n",
              "    }\n",
              "\n",
              "    .dataframe tbody tr th {\n",
              "        vertical-align: top;\n",
              "    }\n",
              "\n",
              "    .dataframe thead th {\n",
              "        text-align: right;\n",
              "    }\n",
              "</style>\n",
              "<table border=\"1\" class=\"dataframe\">\n",
              "  <thead>\n",
              "    <tr style=\"text-align: right;\">\n",
              "      <th></th>\n",
              "      <th>Longitude</th>\n",
              "      <th>Latitude</th>\n",
              "      <th>Data</th>\n",
              "      <th>Direcao_Verif</th>\n",
              "    </tr>\n",
              "  </thead>\n",
              "  <tbody>\n",
              "    <tr>\n",
              "      <th>0</th>\n",
              "      <td>-42.75</td>\n",
              "      <td>-14.25</td>\n",
              "      <td>2017-01-01 00:00:00</td>\n",
              "      <td>122.88</td>\n",
              "    </tr>\n",
              "    <tr>\n",
              "      <th>1</th>\n",
              "      <td>-42.75</td>\n",
              "      <td>-14.25</td>\n",
              "      <td>2017-01-01 01:00:00</td>\n",
              "      <td>119.20</td>\n",
              "    </tr>\n",
              "    <tr>\n",
              "      <th>2</th>\n",
              "      <td>-42.75</td>\n",
              "      <td>-14.25</td>\n",
              "      <td>2017-01-01 02:00:00</td>\n",
              "      <td>120.98</td>\n",
              "    </tr>\n",
              "    <tr>\n",
              "      <th>3</th>\n",
              "      <td>-42.75</td>\n",
              "      <td>-14.25</td>\n",
              "      <td>2017-01-01 03:00:00</td>\n",
              "      <td>119.72</td>\n",
              "    </tr>\n",
              "    <tr>\n",
              "      <th>4</th>\n",
              "      <td>-42.75</td>\n",
              "      <td>-14.25</td>\n",
              "      <td>2017-01-01 04:00:00</td>\n",
              "      <td>116.72</td>\n",
              "    </tr>\n",
              "  </tbody>\n",
              "</table>\n",
              "</div>"
            ],
            "text/plain": [
              "   Longitude  Latitude                 Data  Direcao_Verif\n",
              "0     -42.75    -14.25  2017-01-01 00:00:00         122.88\n",
              "1     -42.75    -14.25  2017-01-01 01:00:00         119.20\n",
              "2     -42.75    -14.25  2017-01-01 02:00:00         120.98\n",
              "3     -42.75    -14.25  2017-01-01 03:00:00         119.72\n",
              "4     -42.75    -14.25  2017-01-01 04:00:00         116.72"
            ]
          },
          "execution_count": 36,
          "metadata": {},
          "output_type": "execute_result"
        }
      ]
    },
    {
      "cell_type": "code",
      "metadata": {
        "id": "aab940ff-e5bb-4875-a583-9ec40962a216",
        "outputId": "e98bd89d-21a2-4769-8a66-6672edbeac3a"
      },
      "source": [
        "df_temp.head(5)"
      ],
      "id": "aab940ff-e5bb-4875-a583-9ec40962a216",
      "execution_count": null,
      "outputs": [
        {
          "data": {
            "text/html": [
              "<div>\n",
              "<style scoped>\n",
              "    .dataframe tbody tr th:only-of-type {\n",
              "        vertical-align: middle;\n",
              "    }\n",
              "\n",
              "    .dataframe tbody tr th {\n",
              "        vertical-align: top;\n",
              "    }\n",
              "\n",
              "    .dataframe thead th {\n",
              "        text-align: right;\n",
              "    }\n",
              "</style>\n",
              "<table border=\"1\" class=\"dataframe\">\n",
              "  <thead>\n",
              "    <tr style=\"text-align: right;\">\n",
              "      <th></th>\n",
              "      <th>Longitude</th>\n",
              "      <th>Latitude</th>\n",
              "      <th>Data</th>\n",
              "      <th>Temperatura_Verif</th>\n",
              "    </tr>\n",
              "  </thead>\n",
              "  <tbody>\n",
              "    <tr>\n",
              "      <th>0</th>\n",
              "      <td>-42.75</td>\n",
              "      <td>-14.25</td>\n",
              "      <td>2017-01-01 00:00:00</td>\n",
              "      <td>19.54</td>\n",
              "    </tr>\n",
              "    <tr>\n",
              "      <th>1</th>\n",
              "      <td>-42.75</td>\n",
              "      <td>-14.25</td>\n",
              "      <td>2017-01-01 01:00:00</td>\n",
              "      <td>18.52</td>\n",
              "    </tr>\n",
              "    <tr>\n",
              "      <th>2</th>\n",
              "      <td>-42.75</td>\n",
              "      <td>-14.25</td>\n",
              "      <td>2017-01-01 02:00:00</td>\n",
              "      <td>17.63</td>\n",
              "    </tr>\n",
              "    <tr>\n",
              "      <th>3</th>\n",
              "      <td>-42.75</td>\n",
              "      <td>-14.25</td>\n",
              "      <td>2017-01-01 03:00:00</td>\n",
              "      <td>16.92</td>\n",
              "    </tr>\n",
              "    <tr>\n",
              "      <th>4</th>\n",
              "      <td>-42.75</td>\n",
              "      <td>-14.25</td>\n",
              "      <td>2017-01-01 04:00:00</td>\n",
              "      <td>16.48</td>\n",
              "    </tr>\n",
              "  </tbody>\n",
              "</table>\n",
              "</div>"
            ],
            "text/plain": [
              "   Longitude  Latitude                 Data  Temperatura_Verif\n",
              "0     -42.75    -14.25  2017-01-01 00:00:00              19.54\n",
              "1     -42.75    -14.25  2017-01-01 01:00:00              18.52\n",
              "2     -42.75    -14.25  2017-01-01 02:00:00              17.63\n",
              "3     -42.75    -14.25  2017-01-01 03:00:00              16.92\n",
              "4     -42.75    -14.25  2017-01-01 04:00:00              16.48"
            ]
          },
          "execution_count": 37,
          "metadata": {},
          "output_type": "execute_result"
        }
      ]
    },
    {
      "cell_type": "code",
      "metadata": {
        "id": "bd61312a-f27a-41e0-8260-d0be86a9de6c",
        "outputId": "abb9acfc-61a3-4623-bf55-de9c3b1ff993"
      },
      "source": [
        "df_vento.head(5)"
      ],
      "id": "bd61312a-f27a-41e0-8260-d0be86a9de6c",
      "execution_count": null,
      "outputs": [
        {
          "data": {
            "text/html": [
              "<div>\n",
              "<style scoped>\n",
              "    .dataframe tbody tr th:only-of-type {\n",
              "        vertical-align: middle;\n",
              "    }\n",
              "\n",
              "    .dataframe tbody tr th {\n",
              "        vertical-align: top;\n",
              "    }\n",
              "\n",
              "    .dataframe thead th {\n",
              "        text-align: right;\n",
              "    }\n",
              "</style>\n",
              "<table border=\"1\" class=\"dataframe\">\n",
              "  <thead>\n",
              "    <tr style=\"text-align: right;\">\n",
              "      <th></th>\n",
              "      <th>Longitude</th>\n",
              "      <th>Latitude</th>\n",
              "      <th>Data</th>\n",
              "      <th>Magnitude_Verif</th>\n",
              "    </tr>\n",
              "  </thead>\n",
              "  <tbody>\n",
              "    <tr>\n",
              "      <th>0</th>\n",
              "      <td>-42.75</td>\n",
              "      <td>-14.25</td>\n",
              "      <td>2017-01-01 00:00:00</td>\n",
              "      <td>9.82</td>\n",
              "    </tr>\n",
              "    <tr>\n",
              "      <th>1</th>\n",
              "      <td>-42.75</td>\n",
              "      <td>-14.25</td>\n",
              "      <td>2017-01-01 01:00:00</td>\n",
              "      <td>8.74</td>\n",
              "    </tr>\n",
              "    <tr>\n",
              "      <th>2</th>\n",
              "      <td>-42.75</td>\n",
              "      <td>-14.25</td>\n",
              "      <td>2017-01-01 02:00:00</td>\n",
              "      <td>8.45</td>\n",
              "    </tr>\n",
              "    <tr>\n",
              "      <th>3</th>\n",
              "      <td>-42.75</td>\n",
              "      <td>-14.25</td>\n",
              "      <td>2017-01-01 03:00:00</td>\n",
              "      <td>9.18</td>\n",
              "    </tr>\n",
              "    <tr>\n",
              "      <th>4</th>\n",
              "      <td>-42.75</td>\n",
              "      <td>-14.25</td>\n",
              "      <td>2017-01-01 04:00:00</td>\n",
              "      <td>9.19</td>\n",
              "    </tr>\n",
              "  </tbody>\n",
              "</table>\n",
              "</div>"
            ],
            "text/plain": [
              "   Longitude  Latitude                 Data  Magnitude_Verif\n",
              "0     -42.75    -14.25  2017-01-01 00:00:00             9.82\n",
              "1     -42.75    -14.25  2017-01-01 01:00:00             8.74\n",
              "2     -42.75    -14.25  2017-01-01 02:00:00             8.45\n",
              "3     -42.75    -14.25  2017-01-01 03:00:00             9.18\n",
              "4     -42.75    -14.25  2017-01-01 04:00:00             9.19"
            ]
          },
          "execution_count": 38,
          "metadata": {},
          "output_type": "execute_result"
        }
      ]
    },
    {
      "cell_type": "code",
      "metadata": {
        "id": "aec0e323-6e75-4bb9-a305-8098475fbf47",
        "outputId": "e7079cc4-f194-4cc0-f4a0-a771043d54db"
      },
      "source": [
        "df_pressao.head(5)"
      ],
      "id": "aec0e323-6e75-4bb9-a305-8098475fbf47",
      "execution_count": null,
      "outputs": [
        {
          "data": {
            "text/html": [
              "<div>\n",
              "<style scoped>\n",
              "    .dataframe tbody tr th:only-of-type {\n",
              "        vertical-align: middle;\n",
              "    }\n",
              "\n",
              "    .dataframe tbody tr th {\n",
              "        vertical-align: top;\n",
              "    }\n",
              "\n",
              "    .dataframe thead th {\n",
              "        text-align: right;\n",
              "    }\n",
              "</style>\n",
              "<table border=\"1\" class=\"dataframe\">\n",
              "  <thead>\n",
              "    <tr style=\"text-align: right;\">\n",
              "      <th></th>\n",
              "      <th>Longitude</th>\n",
              "      <th>Latitude</th>\n",
              "      <th>Data</th>\n",
              "      <th>pressao_Verif</th>\n",
              "    </tr>\n",
              "  </thead>\n",
              "  <tbody>\n",
              "    <tr>\n",
              "      <th>0</th>\n",
              "      <td>-42.75</td>\n",
              "      <td>-14.25</td>\n",
              "      <td>2017-01-01 00:00:00</td>\n",
              "      <td>884.46</td>\n",
              "    </tr>\n",
              "    <tr>\n",
              "      <th>1</th>\n",
              "      <td>-42.75</td>\n",
              "      <td>-14.25</td>\n",
              "      <td>2017-01-01 01:00:00</td>\n",
              "      <td>882.33</td>\n",
              "    </tr>\n",
              "    <tr>\n",
              "      <th>2</th>\n",
              "      <td>-42.75</td>\n",
              "      <td>-14.25</td>\n",
              "      <td>2017-01-01 02:00:00</td>\n",
              "      <td>882.00</td>\n",
              "    </tr>\n",
              "    <tr>\n",
              "      <th>3</th>\n",
              "      <td>-42.75</td>\n",
              "      <td>-14.25</td>\n",
              "      <td>2017-01-01 03:00:00</td>\n",
              "      <td>882.00</td>\n",
              "    </tr>\n",
              "    <tr>\n",
              "      <th>4</th>\n",
              "      <td>-42.75</td>\n",
              "      <td>-14.25</td>\n",
              "      <td>2017-01-01 04:00:00</td>\n",
              "      <td>882.67</td>\n",
              "    </tr>\n",
              "  </tbody>\n",
              "</table>\n",
              "</div>"
            ],
            "text/plain": [
              "   Longitude  Latitude                 Data  pressao_Verif\n",
              "0     -42.75    -14.25  2017-01-01 00:00:00         884.46\n",
              "1     -42.75    -14.25  2017-01-01 01:00:00         882.33\n",
              "2     -42.75    -14.25  2017-01-01 02:00:00         882.00\n",
              "3     -42.75    -14.25  2017-01-01 03:00:00         882.00\n",
              "4     -42.75    -14.25  2017-01-01 04:00:00         882.67"
            ]
          },
          "execution_count": 39,
          "metadata": {},
          "output_type": "execute_result"
        }
      ]
    },
    {
      "cell_type": "markdown",
      "metadata": {
        "id": "e9df4d99-4345-4371-8d42-37e13c037115"
      },
      "source": [
        "### **C) Merge dos dados**"
      ],
      "id": "e9df4d99-4345-4371-8d42-37e13c037115"
    },
    {
      "cell_type": "code",
      "metadata": {
        "id": "9599589d-d440-4d23-9fa4-04b6bc25fa2a"
      },
      "source": [
        "df_energia = pd.merge(df_vento, df_pressao, how = 'outer', on = ['Longitude','Latitude','Data'])\n",
        "df_energia = pd.merge(df_energia, df_temp,  how = 'outer', on = ['Longitude','Latitude','Data'])\n",
        "df_energia = pd.merge(df_energia, df_direcao, how = 'outer', on = ['Longitude','Latitude','Data'])\n"
      ],
      "id": "9599589d-d440-4d23-9fa4-04b6bc25fa2a",
      "execution_count": null,
      "outputs": []
    },
    {
      "cell_type": "code",
      "metadata": {
        "id": "6323ab3b-acef-4ec3-af89-3a253c012895",
        "outputId": "b88a44b9-68e8-431d-b62a-73b952e06c4c"
      },
      "source": [
        "df_energia"
      ],
      "id": "6323ab3b-acef-4ec3-af89-3a253c012895",
      "execution_count": null,
      "outputs": [
        {
          "data": {
            "text/html": [
              "<div>\n",
              "<style scoped>\n",
              "    .dataframe tbody tr th:only-of-type {\n",
              "        vertical-align: middle;\n",
              "    }\n",
              "\n",
              "    .dataframe tbody tr th {\n",
              "        vertical-align: top;\n",
              "    }\n",
              "\n",
              "    .dataframe thead th {\n",
              "        text-align: right;\n",
              "    }\n",
              "</style>\n",
              "<table border=\"1\" class=\"dataframe\">\n",
              "  <thead>\n",
              "    <tr style=\"text-align: right;\">\n",
              "      <th></th>\n",
              "      <th>Longitude</th>\n",
              "      <th>Latitude</th>\n",
              "      <th>Data</th>\n",
              "      <th>Magnitude_Verif</th>\n",
              "      <th>pressao_Verif</th>\n",
              "      <th>Temperatura_Verif</th>\n",
              "      <th>Direcao_Verif</th>\n",
              "    </tr>\n",
              "  </thead>\n",
              "  <tbody>\n",
              "    <tr>\n",
              "      <th>0</th>\n",
              "      <td>-42.75</td>\n",
              "      <td>-14.25</td>\n",
              "      <td>2017-01-01 00:00:00</td>\n",
              "      <td>9.82</td>\n",
              "      <td>884.46</td>\n",
              "      <td>19.54</td>\n",
              "      <td>122.88</td>\n",
              "    </tr>\n",
              "    <tr>\n",
              "      <th>1</th>\n",
              "      <td>-42.75</td>\n",
              "      <td>-14.25</td>\n",
              "      <td>2017-01-01 01:00:00</td>\n",
              "      <td>8.74</td>\n",
              "      <td>882.33</td>\n",
              "      <td>18.52</td>\n",
              "      <td>119.20</td>\n",
              "    </tr>\n",
              "    <tr>\n",
              "      <th>2</th>\n",
              "      <td>-42.75</td>\n",
              "      <td>-14.25</td>\n",
              "      <td>2017-01-01 02:00:00</td>\n",
              "      <td>8.45</td>\n",
              "      <td>882.00</td>\n",
              "      <td>17.63</td>\n",
              "      <td>120.98</td>\n",
              "    </tr>\n",
              "    <tr>\n",
              "      <th>3</th>\n",
              "      <td>-42.75</td>\n",
              "      <td>-14.25</td>\n",
              "      <td>2017-01-01 03:00:00</td>\n",
              "      <td>9.18</td>\n",
              "      <td>882.00</td>\n",
              "      <td>16.92</td>\n",
              "      <td>119.72</td>\n",
              "    </tr>\n",
              "    <tr>\n",
              "      <th>4</th>\n",
              "      <td>-42.75</td>\n",
              "      <td>-14.25</td>\n",
              "      <td>2017-01-01 04:00:00</td>\n",
              "      <td>9.19</td>\n",
              "      <td>882.67</td>\n",
              "      <td>16.48</td>\n",
              "      <td>116.72</td>\n",
              "    </tr>\n",
              "    <tr>\n",
              "      <th>...</th>\n",
              "      <td>...</td>\n",
              "      <td>...</td>\n",
              "      <td>...</td>\n",
              "      <td>...</td>\n",
              "      <td>...</td>\n",
              "      <td>...</td>\n",
              "      <td>...</td>\n",
              "    </tr>\n",
              "    <tr>\n",
              "      <th>8755</th>\n",
              "      <td>-42.75</td>\n",
              "      <td>-14.25</td>\n",
              "      <td>2017-12-31 19:00:00</td>\n",
              "      <td>7.22</td>\n",
              "      <td>882.50</td>\n",
              "      <td>24.88</td>\n",
              "      <td>87.67</td>\n",
              "    </tr>\n",
              "    <tr>\n",
              "      <th>8756</th>\n",
              "      <td>-42.75</td>\n",
              "      <td>-14.25</td>\n",
              "      <td>2017-12-31 20:00:00</td>\n",
              "      <td>6.14</td>\n",
              "      <td>883.33</td>\n",
              "      <td>24.88</td>\n",
              "      <td>79.83</td>\n",
              "    </tr>\n",
              "    <tr>\n",
              "      <th>8757</th>\n",
              "      <td>-42.75</td>\n",
              "      <td>-14.25</td>\n",
              "      <td>2017-12-31 21:00:00</td>\n",
              "      <td>6.04</td>\n",
              "      <td>884.00</td>\n",
              "      <td>24.52</td>\n",
              "      <td>82.50</td>\n",
              "    </tr>\n",
              "    <tr>\n",
              "      <th>8758</th>\n",
              "      <td>-42.75</td>\n",
              "      <td>-14.25</td>\n",
              "      <td>2017-12-31 22:00:00</td>\n",
              "      <td>6.72</td>\n",
              "      <td>884.00</td>\n",
              "      <td>24.33</td>\n",
              "      <td>85.17</td>\n",
              "    </tr>\n",
              "    <tr>\n",
              "      <th>8759</th>\n",
              "      <td>-42.75</td>\n",
              "      <td>-14.25</td>\n",
              "      <td>2017-12-31 23:00:00</td>\n",
              "      <td>5.61</td>\n",
              "      <td>884.46</td>\n",
              "      <td>19.54</td>\n",
              "      <td>122.88</td>\n",
              "    </tr>\n",
              "  </tbody>\n",
              "</table>\n",
              "<p>8760 rows × 7 columns</p>\n",
              "</div>"
            ],
            "text/plain": [
              "      Longitude  Latitude                 Data  Magnitude_Verif  \\\n",
              "0        -42.75    -14.25  2017-01-01 00:00:00             9.82   \n",
              "1        -42.75    -14.25  2017-01-01 01:00:00             8.74   \n",
              "2        -42.75    -14.25  2017-01-01 02:00:00             8.45   \n",
              "3        -42.75    -14.25  2017-01-01 03:00:00             9.18   \n",
              "4        -42.75    -14.25  2017-01-01 04:00:00             9.19   \n",
              "...         ...       ...                  ...              ...   \n",
              "8755     -42.75    -14.25  2017-12-31 19:00:00             7.22   \n",
              "8756     -42.75    -14.25  2017-12-31 20:00:00             6.14   \n",
              "8757     -42.75    -14.25  2017-12-31 21:00:00             6.04   \n",
              "8758     -42.75    -14.25  2017-12-31 22:00:00             6.72   \n",
              "8759     -42.75    -14.25  2017-12-31 23:00:00             5.61   \n",
              "\n",
              "      pressao_Verif  Temperatura_Verif  Direcao_Verif  \n",
              "0            884.46              19.54         122.88  \n",
              "1            882.33              18.52         119.20  \n",
              "2            882.00              17.63         120.98  \n",
              "3            882.00              16.92         119.72  \n",
              "4            882.67              16.48         116.72  \n",
              "...             ...                ...            ...  \n",
              "8755         882.50              24.88          87.67  \n",
              "8756         883.33              24.88          79.83  \n",
              "8757         884.00              24.52          82.50  \n",
              "8758         884.00              24.33          85.17  \n",
              "8759         884.46              19.54         122.88  \n",
              "\n",
              "[8760 rows x 7 columns]"
            ]
          },
          "execution_count": 41,
          "metadata": {},
          "output_type": "execute_result"
        }
      ]
    },
    {
      "cell_type": "markdown",
      "metadata": {
        "id": "8eb9c029-79ba-4553-9bbb-8968cc2909ec"
      },
      "source": [
        "#### **D.1) Colunas NULAS ?**"
      ],
      "id": "8eb9c029-79ba-4553-9bbb-8968cc2909ec"
    },
    {
      "cell_type": "code",
      "metadata": {
        "id": "9a92afed-9efe-48dc-a447-9026a894e74f",
        "outputId": "037cff01-75af-4ddd-e5fb-4bf6822c73e9"
      },
      "source": [
        "df_energia.isnull().sum()"
      ],
      "id": "9a92afed-9efe-48dc-a447-9026a894e74f",
      "execution_count": null,
      "outputs": [
        {
          "data": {
            "text/plain": [
              "Longitude            0\n",
              "Latitude             0\n",
              "Data                 0\n",
              "Magnitude_Verif      0\n",
              "pressao_Verif        0\n",
              "Temperatura_Verif    0\n",
              "Direcao_Verif        0\n",
              "dtype: int64"
            ]
          },
          "execution_count": 42,
          "metadata": {},
          "output_type": "execute_result"
        }
      ]
    },
    {
      "cell_type": "code",
      "metadata": {
        "id": "6e130edc-874e-46bf-879d-4197646d510c"
      },
      "source": [
        ""
      ],
      "id": "6e130edc-874e-46bf-879d-4197646d510c",
      "execution_count": null,
      "outputs": []
    },
    {
      "cell_type": "markdown",
      "metadata": {
        "id": "7cb33c8f-5eb9-426a-b886-34e7f0fe9a75"
      },
      "source": [
        "### **D) Exporta Dados**"
      ],
      "id": "7cb33c8f-5eb9-426a-b886-34e7f0fe9a75"
    },
    {
      "cell_type": "code",
      "metadata": {
        "id": "efaa90b6-18f8-4027-a862-02e9196c5a68"
      },
      "source": [
        "output_file = 'content/processed/teste_02_concilia_patio1.csv'\n",
        "df_energia.to_csv(output_file, sep=';', encoding='utf-8')"
      ],
      "id": "efaa90b6-18f8-4027-a862-02e9196c5a68",
      "execution_count": null,
      "outputs": []
    },
    {
      "cell_type": "code",
      "metadata": {
        "id": "ccd5cca1-1e14-42f9-b139-6d53acd42942"
      },
      "source": [
        ""
      ],
      "id": "ccd5cca1-1e14-42f9-b139-6d53acd42942",
      "execution_count": null,
      "outputs": []
    }
  ]
}