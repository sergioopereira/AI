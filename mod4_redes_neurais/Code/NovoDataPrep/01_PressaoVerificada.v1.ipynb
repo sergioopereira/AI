{
  "nbformat": 4,
  "nbformat_minor": 5,
  "metadata": {
    "kernelspec": {
      "display_name": "Python 3",
      "language": "python",
      "name": "python3"
    },
    "language_info": {
      "codemirror_mode": {
        "name": "ipython",
        "version": 3
      },
      "file_extension": ".py",
      "mimetype": "text/x-python",
      "name": "python",
      "nbconvert_exporter": "python",
      "pygments_lexer": "ipython3",
      "version": "3.7.10"
    },
    "colab": {
      "name": "01_PressaoVerificada.ipynb",
      "provenance": []
    }
  },
  "cells": [
    {
      "cell_type": "code",
      "metadata": {
        "id": "eb7d0d19-ccda-4e67-b305-088b8bbf3c85"
      },
      "source": [
        "import numpy as np\n",
        "import pandas as pd\n",
        "from datetime import datetime,date,time\n",
        "from dateutil.relativedelta import relativedelta\n"
      ],
      "id": "eb7d0d19-ccda-4e67-b305-088b8bbf3c85",
      "execution_count": 142,
      "outputs": []
    },
    {
      "cell_type": "markdown",
      "metadata": {
        "id": "d4de6591-f4da-4527-8263-f74933fa9424"
      },
      "source": [
        "### **A) Coleta dos Dados de Direção do Vento**"
      ],
      "id": "d4de6591-f4da-4527-8263-f74933fa9424"
    },
    {
      "cell_type": "code",
      "metadata": {
        "id": "ce4ae9a9-fde5-4f5f-8cd6-1dfbbaa3f0c5"
      },
      "source": [
        "source_file = 'raw/BAUET2_CAETITÉ_2_PRE_Verif_EPE.txt'"
      ],
      "id": "ce4ae9a9-fde5-4f5f-8cd6-1dfbbaa3f0c5",
      "execution_count": 143,
      "outputs": []
    },
    {
      "cell_type": "code",
      "metadata": {
        "id": "f3ba86b3-1f9e-4435-8ddc-c3fb18fb3940"
      },
      "source": [
        "df_pressao = pd.read_csv(source_file, delimiter = ';' , header=None )"
      ],
      "id": "f3ba86b3-1f9e-4435-8ddc-c3fb18fb3940",
      "execution_count": 144,
      "outputs": []
    },
    {
      "cell_type": "markdown",
      "metadata": {
        "id": "533e1214-19b9-470f-8d35-9b5cedd6736d"
      },
      "source": [
        "### **B) Sobre os Dados no Patio 1**"
      ],
      "id": "533e1214-19b9-470f-8d35-9b5cedd6736d"
    },
    {
      "cell_type": "markdown",
      "metadata": {
        "id": "7e7cf551-72c8-477b-8984-53dd2ca27235"
      },
      "source": [
        "#### <span style=\"color:#DC143C\">**B1.Formato dos Dados**"
      ],
      "id": "7e7cf551-72c8-477b-8984-53dd2ca27235"
    },
    {
      "cell_type": "code",
      "metadata": {
        "id": "05e5dc6d-2f12-4267-8f14-bd7028017935",
        "colab": {
          "base_uri": "https://localhost:8080/"
        },
        "outputId": "dd129d3c-441b-4797-c210-7db43d8abdaf"
      },
      "source": [
        "df_pressao.shape # formato da matriz"
      ],
      "id": "05e5dc6d-2f12-4267-8f14-bd7028017935",
      "execution_count": 145,
      "outputs": [
        {
          "output_type": "execute_result",
          "data": {
            "text/plain": [
              "(1622, 49)"
            ]
          },
          "metadata": {},
          "execution_count": 145
        }
      ]
    },
    {
      "cell_type": "markdown",
      "metadata": {
        "id": "9d24ab44-4f41-4132-84db-1977047f5cad"
      },
      "source": [
        "#### <span style=\"color:#DC143C\">**B2.Visao do Dataframe**"
      ],
      "id": "9d24ab44-4f41-4132-84db-1977047f5cad"
    },
    {
      "cell_type": "code",
      "metadata": {
        "id": "264c2fda-4d8e-4114-8641-6fb08f2df705",
        "colab": {
          "base_uri": "https://localhost:8080/",
          "height": 131
        },
        "outputId": "562c01e3-1d87-4e13-e0cb-93c7bcdcd4e0"
      },
      "source": [
        "df_pressao.head(2)  # visão de 5 linhas"
      ],
      "id": "264c2fda-4d8e-4114-8641-6fb08f2df705",
      "execution_count": 146,
      "outputs": [
        {
          "output_type": "execute_result",
          "data": {
            "text/html": [
              "<div>\n",
              "<style scoped>\n",
              "    .dataframe tbody tr th:only-of-type {\n",
              "        vertical-align: middle;\n",
              "    }\n",
              "\n",
              "    .dataframe tbody tr th {\n",
              "        vertical-align: top;\n",
              "    }\n",
              "\n",
              "    .dataframe thead th {\n",
              "        text-align: right;\n",
              "    }\n",
              "</style>\n",
              "<table border=\"1\" class=\"dataframe\">\n",
              "  <thead>\n",
              "    <tr style=\"text-align: right;\">\n",
              "      <th></th>\n",
              "      <th>0</th>\n",
              "      <th>1</th>\n",
              "      <th>2</th>\n",
              "      <th>3</th>\n",
              "      <th>4</th>\n",
              "      <th>5</th>\n",
              "      <th>6</th>\n",
              "      <th>7</th>\n",
              "      <th>8</th>\n",
              "      <th>9</th>\n",
              "      <th>10</th>\n",
              "      <th>11</th>\n",
              "      <th>12</th>\n",
              "      <th>13</th>\n",
              "      <th>14</th>\n",
              "      <th>15</th>\n",
              "      <th>16</th>\n",
              "      <th>17</th>\n",
              "      <th>18</th>\n",
              "      <th>19</th>\n",
              "      <th>20</th>\n",
              "      <th>21</th>\n",
              "      <th>22</th>\n",
              "      <th>23</th>\n",
              "      <th>24</th>\n",
              "      <th>25</th>\n",
              "      <th>26</th>\n",
              "      <th>27</th>\n",
              "      <th>28</th>\n",
              "      <th>29</th>\n",
              "      <th>30</th>\n",
              "      <th>31</th>\n",
              "      <th>32</th>\n",
              "      <th>33</th>\n",
              "      <th>34</th>\n",
              "      <th>35</th>\n",
              "      <th>36</th>\n",
              "      <th>37</th>\n",
              "      <th>38</th>\n",
              "      <th>39</th>\n",
              "      <th>40</th>\n",
              "      <th>41</th>\n",
              "      <th>42</th>\n",
              "      <th>43</th>\n",
              "      <th>44</th>\n",
              "      <th>45</th>\n",
              "      <th>46</th>\n",
              "      <th>47</th>\n",
              "      <th>48</th>\n",
              "    </tr>\n",
              "  </thead>\n",
              "  <tbody>\n",
              "    <tr>\n",
              "      <th>0</th>\n",
              "      <td>20170101</td>\n",
              "      <td>999.0</td>\n",
              "      <td>999.000</td>\n",
              "      <td>882.333</td>\n",
              "      <td>882.333</td>\n",
              "      <td>882.0</td>\n",
              "      <td>882.0</td>\n",
              "      <td>882.000</td>\n",
              "      <td>882.000</td>\n",
              "      <td>882.333</td>\n",
              "      <td>883.0</td>\n",
              "      <td>883.0</td>\n",
              "      <td>883.000</td>\n",
              "      <td>883.0</td>\n",
              "      <td>884.0</td>\n",
              "      <td>884.0</td>\n",
              "      <td>884.0</td>\n",
              "      <td>885.0</td>\n",
              "      <td>885.0</td>\n",
              "      <td>885.000</td>\n",
              "      <td>885.0</td>\n",
              "      <td>885.0</td>\n",
              "      <td>885.0</td>\n",
              "      <td>885.0</td>\n",
              "      <td>885.000</td>\n",
              "      <td>885.0</td>\n",
              "      <td>884.667</td>\n",
              "      <td>884.000</td>\n",
              "      <td>884.0</td>\n",
              "      <td>883.667</td>\n",
              "      <td>883.333</td>\n",
              "      <td>883.0</td>\n",
              "      <td>883.0</td>\n",
              "      <td>883.0</td>\n",
              "      <td>883.0</td>\n",
              "      <td>883.0</td>\n",
              "      <td>883.0</td>\n",
              "      <td>883.0</td>\n",
              "      <td>883.0</td>\n",
              "      <td>883.0</td>\n",
              "      <td>883.0</td>\n",
              "      <td>883.0</td>\n",
              "      <td>883.0</td>\n",
              "      <td>884.0</td>\n",
              "      <td>884.000</td>\n",
              "      <td>884.0</td>\n",
              "      <td>884.000</td>\n",
              "      <td>883.333</td>\n",
              "      <td>883.0</td>\n",
              "    </tr>\n",
              "    <tr>\n",
              "      <th>1</th>\n",
              "      <td>20170102</td>\n",
              "      <td>883.0</td>\n",
              "      <td>882.667</td>\n",
              "      <td>882.000</td>\n",
              "      <td>882.000</td>\n",
              "      <td>882.0</td>\n",
              "      <td>882.0</td>\n",
              "      <td>881.667</td>\n",
              "      <td>881.333</td>\n",
              "      <td>882.000</td>\n",
              "      <td>882.0</td>\n",
              "      <td>882.0</td>\n",
              "      <td>881.667</td>\n",
              "      <td>882.0</td>\n",
              "      <td>882.0</td>\n",
              "      <td>882.0</td>\n",
              "      <td>883.0</td>\n",
              "      <td>883.0</td>\n",
              "      <td>883.0</td>\n",
              "      <td>883.667</td>\n",
              "      <td>884.0</td>\n",
              "      <td>884.0</td>\n",
              "      <td>884.0</td>\n",
              "      <td>884.0</td>\n",
              "      <td>883.667</td>\n",
              "      <td>883.0</td>\n",
              "      <td>883.000</td>\n",
              "      <td>882.333</td>\n",
              "      <td>882.0</td>\n",
              "      <td>882.000</td>\n",
              "      <td>882.000</td>\n",
              "      <td>881.0</td>\n",
              "      <td>881.0</td>\n",
              "      <td>881.0</td>\n",
              "      <td>881.0</td>\n",
              "      <td>881.0</td>\n",
              "      <td>881.0</td>\n",
              "      <td>881.0</td>\n",
              "      <td>881.0</td>\n",
              "      <td>881.0</td>\n",
              "      <td>881.0</td>\n",
              "      <td>881.0</td>\n",
              "      <td>881.0</td>\n",
              "      <td>881.0</td>\n",
              "      <td>881.333</td>\n",
              "      <td>881.0</td>\n",
              "      <td>881.667</td>\n",
              "      <td>882.000</td>\n",
              "      <td>882.0</td>\n",
              "    </tr>\n",
              "  </tbody>\n",
              "</table>\n",
              "</div>"
            ],
            "text/plain": [
              "         0      1        2        3   ...     45       46       47     48\n",
              "0  20170101  999.0  999.000  882.333  ...  884.0  884.000  883.333  883.0\n",
              "1  20170102  883.0  882.667  882.000  ...  881.0  881.667  882.000  882.0\n",
              "\n",
              "[2 rows x 49 columns]"
            ]
          },
          "metadata": {},
          "execution_count": 146
        }
      ]
    },
    {
      "cell_type": "markdown",
      "metadata": {
        "id": "5946208f-3f8e-42e8-87cf-5673729dcee3"
      },
      "source": [
        "### **C) Extração os Dados de 2017**"
      ],
      "id": "5946208f-3f8e-42e8-87cf-5673729dcee3"
    },
    {
      "cell_type": "markdown",
      "metadata": {
        "id": "03d6e54e-5dcc-4494-924a-26cf0c51a58b"
      },
      "source": [
        "#### <span style=\"color:#DC143C\"> **C1. Converter a primeira coluna em Data**"
      ],
      "id": "03d6e54e-5dcc-4494-924a-26cf0c51a58b"
    },
    {
      "cell_type": "code",
      "metadata": {
        "id": "36ce0d92-bec5-4138-b9c0-719f3c3b4def"
      },
      "source": [
        "df_pressao[0]= pd.to_datetime(df_pressao[0], format='%Y%m%d')"
      ],
      "id": "36ce0d92-bec5-4138-b9c0-719f3c3b4def",
      "execution_count": 147,
      "outputs": []
    },
    {
      "cell_type": "markdown",
      "metadata": {
        "id": "99dc7a59-537f-4e2e-abd4-1d4e0e1c535c"
      },
      "source": [
        "#### <span style=\"color:#DC143C\"> **C2.Remove registros fora do Intervalo**"
      ],
      "id": "99dc7a59-537f-4e2e-abd4-1d4e0e1c535c"
    },
    {
      "cell_type": "code",
      "metadata": {
        "id": "c8d8004c-2262-4629-93be-9a2fe1247087"
      },
      "source": [
        "df_pressao = df_pressao.drop(df_pressao[df_pressao[0] > '2017-12-31'].index)\n",
        "df_pressao = df_pressao.drop(df_pressao[df_pressao[0] < '2017-01-01'].index)"
      ],
      "id": "c8d8004c-2262-4629-93be-9a2fe1247087",
      "execution_count": 148,
      "outputs": []
    },
    {
      "cell_type": "code",
      "metadata": {
        "id": "a726e1ad-b45a-4bc3-87cd-399a03bbe9da"
      },
      "source": [
        "df_pressao['longitude'] = -42.75\n",
        "df_pressao['latitude']  = -14.25 "
      ],
      "id": "a726e1ad-b45a-4bc3-87cd-399a03bbe9da",
      "execution_count": 149,
      "outputs": []
    },
    {
      "cell_type": "code",
      "metadata": {
        "id": "1022a262-972a-4ae0-90e4-99843d269ebd"
      },
      "source": [
        "cols = list(df_pressao)\n",
        "cols = [cols[-1]] + cols[:-1]\n",
        "df_pressao = df_pressao[cols]\n",
        "\n",
        "cols = list(df_pressao)\n",
        "cols = [cols[-1]] + cols[:-1]\n",
        "df_pressao = df_pressao[cols]"
      ],
      "id": "1022a262-972a-4ae0-90e4-99843d269ebd",
      "execution_count": 150,
      "outputs": []
    },
    {
      "cell_type": "code",
      "metadata": {
        "id": "7a636996-b57d-4214-a5a9-1476430e1592"
      },
      "source": [
        "df_pressao = df_pressao.reset_index()"
      ],
      "id": "7a636996-b57d-4214-a5a9-1476430e1592",
      "execution_count": 151,
      "outputs": []
    },
    {
      "cell_type": "markdown",
      "metadata": {
        "id": "8d44ac71-093e-4f6a-9ca2-39b1fa170281"
      },
      "source": [
        "### **D) Formatação dos Dados**"
      ],
      "id": "8d44ac71-093e-4f6a-9ca2-39b1fa170281"
    },
    {
      "cell_type": "markdown",
      "metadata": {
        "id": "9b4d87e8-3b0e-48ad-b8a6-52dabb0b2e1b"
      },
      "source": [
        "#### <span style=\"color:#DC143C\"> **D1. Migrar os dados para o Formato**"
      ],
      "id": "9b4d87e8-3b0e-48ad-b8a6-52dabb0b2e1b"
    },
    {
      "cell_type": "code",
      "metadata": {
        "id": "b703eead-99a7-457d-9566-b951ac2ed89e"
      },
      "source": [
        "frente = ['Longitude', 'Latitude', 'Data', 'Valor30_1', 'Valor30_2']  # Cabeçalho\n",
        "df_result_pressao = pd.DataFrame(columns=frente)  # Criação de um dataframe vazio\n",
        "    \n",
        "Linha1    =  df_pressao.shape[0] \n",
        "Colunas1  =  df_pressao.shape[1] \n",
        "\n",
        "for lin2 in range(Linha1):  \n",
        "    refhora = 0\n",
        "    \n",
        "    for col in range (Colunas1):        \n",
        "        if col > 0:            \n",
        "        \n",
        "            if col % 2 != 0: # Se o número (col) for impar                   \n",
        "               \n",
        "                if col < 49:\n",
        "                    \n",
        "                    Data = df_pressao.loc[lin2,0]\n",
        "                                  \n",
        "                    hora = time(hour=refhora, minute=0, second=0)            \n",
        "                    dataCompleta = datetime.combine(Data, hora)\n",
        "                    #print(dataCompleta)\n",
        "                    lin_alvo = [df_pressao.loc[lin2,'longitude'], df_pressao.loc[lin2,'latitude'], dataCompleta , df_pressao.loc[lin2,col], df_pressao.loc[lin2,col+1]] \n",
        "                    # print(lin_alvo)\n",
        "                    df_result_pressao.loc[len(df_result_pressao)] = lin_alvo  # adding a row\n",
        "                         \n",
        "                refhora = refhora + 1          \n",
        "                \n"
      ],
      "id": "b703eead-99a7-457d-9566-b951ac2ed89e",
      "execution_count": 152,
      "outputs": []
    },
    {
      "cell_type": "markdown",
      "metadata": {
        "id": "047f786e-a658-4915-aa93-489a929be333"
      },
      "source": [
        "#### <span style=\"color:#DC143C\"> **D2. Informações sobre os Tipos de Dados**"
      ],
      "id": "047f786e-a658-4915-aa93-489a929be333"
    },
    {
      "cell_type": "code",
      "metadata": {
        "id": "bcc3e208-9f7c-4b31-8c06-8bfe7250cac5",
        "colab": {
          "base_uri": "https://localhost:8080/"
        },
        "outputId": "b4e3a5b7-10d5-42b8-c059-23c3c96bd023"
      },
      "source": [
        "df_result_pressao.info()"
      ],
      "id": "bcc3e208-9f7c-4b31-8c06-8bfe7250cac5",
      "execution_count": 153,
      "outputs": [
        {
          "output_type": "stream",
          "name": "stdout",
          "text": [
            "<class 'pandas.core.frame.DataFrame'>\n",
            "Int64Index: 8760 entries, 0 to 8759\n",
            "Data columns (total 5 columns):\n",
            " #   Column     Non-Null Count  Dtype         \n",
            "---  ------     --------------  -----         \n",
            " 0   Longitude  8760 non-null   float64       \n",
            " 1   Latitude   8760 non-null   float64       \n",
            " 2   Data       8760 non-null   datetime64[ns]\n",
            " 3   Valor30_1  8760 non-null   float64       \n",
            " 4   Valor30_2  8760 non-null   float64       \n",
            "dtypes: datetime64[ns](1), float64(4)\n",
            "memory usage: 410.6 KB\n"
          ]
        }
      ]
    },
    {
      "cell_type": "code",
      "metadata": {
        "id": "98d86317-e634-4c8c-825a-41a6f8b855f1",
        "colab": {
          "base_uri": "https://localhost:8080/"
        },
        "outputId": "562e6f7f-2d39-42bc-b152-096e3372ae6d"
      },
      "source": [
        "df_result_pressao.shape"
      ],
      "id": "98d86317-e634-4c8c-825a-41a6f8b855f1",
      "execution_count": 154,
      "outputs": [
        {
          "output_type": "execute_result",
          "data": {
            "text/plain": [
              "(8760, 5)"
            ]
          },
          "metadata": {},
          "execution_count": 154
        }
      ]
    },
    {
      "cell_type": "markdown",
      "metadata": {
        "id": "54c12bdc-f682-42fe-b85c-e9d745e24484"
      },
      "source": [
        "#### <span style=\"color:#DC143C\"> **D3. Remove ruido dos Dados**"
      ],
      "id": "54c12bdc-f682-42fe-b85c-e9d745e24484"
    },
    {
      "cell_type": "code",
      "metadata": {
        "id": "66128703-692b-465f-badc-c4ebeb67fc44"
      },
      "source": [
        "df_result_pressao.loc[df_result_pressao['Valor30_1']== 999.00,'Valor30_1'] = 0\n",
        "df_result_pressao.loc[df_result_pressao['Valor30_1']== 99.000,'Valor30_1'] = 0\n",
        "\n",
        "df_result_pressao.loc[df_result_pressao['Valor30_2']== 99.000,'Valor30_2'] = 0\n",
        "df_result_pressao.loc[df_result_pressao['Valor30_2']== 999.00,'Valor30_2'] = 0"
      ],
      "id": "66128703-692b-465f-badc-c4ebeb67fc44",
      "execution_count": 155,
      "outputs": []
    },
    {
      "cell_type": "markdown",
      "metadata": {
        "id": "fb97e8aa-2da0-413e-a65a-80299e1a475b"
      },
      "source": [
        "save_file = 'd:\\df_result_pressao.csv'\n",
        "df_result_pressao.to_csv(save_file, index = True)"
      ],
      "id": "fb97e8aa-2da0-413e-a65a-80299e1a475b"
    },
    {
      "cell_type": "markdown",
      "metadata": {
        "id": "9ad32cea-1478-40b4-b062-eacf23d0cf3f"
      },
      "source": [
        "colMean1 = df_result_pressao['Valor30_1'].sum() / ((df_result_pressao['Valor30_1'] != 0).sum())\n",
        "colMean1 = round(colMean1, 2)\n",
        "print('Media 1:' + str(colMean1))\n",
        "\n",
        "colMean2 = df_result_pressao['Valor30_2'].sum() / ((df_result_pressao['Valor30_2'] != 0).sum())\n",
        "colMean2 = round(colMean2, 2)\n",
        "print('Media 2:' + str(colMean2))"
      ],
      "id": "9ad32cea-1478-40b4-b062-eacf23d0cf3f"
    },
    {
      "cell_type": "code",
      "metadata": {
        "id": "6ec21d84-59ea-4fa1-8096-aa10040790e1"
      },
      "source": [
        "#df_result_pressao.loc[df_result_pressao['Valor30_1']== 0,'Valor30_1'] = 884.49\n",
        "#df_result_pressao.loc[df_result_pressao['Valor30_2']== 0,'Valor30_2'] = 884.43\n",
        "\n",
        "#df_result_pressao.loc[df_result_pressao['Valor30_1']< 600,'Valor30_1'] = 884.49\n",
        "#df_result_pressao.loc[df_result_pressao['Valor30_2']< 600,'Valor30_2'] = 884.43"
      ],
      "id": "6ec21d84-59ea-4fa1-8096-aa10040790e1",
      "execution_count": 156,
      "outputs": []
    },
    {
      "cell_type": "code",
      "metadata": {
        "id": "ihxUresavEmI"
      },
      "source": [
        "# Removendo as linhas sem valores\n",
        "df_result_pressao = df_result_pressao.drop(df_result_pressao[df_result_pressao['Valor30_1'] == 0].index)\n",
        "df_result_pressao = df_result_pressao.drop(df_result_pressao[df_result_pressao['Valor30_2'] == 0].index)\n",
        "df_result_pressao = df_result_pressao.drop(df_result_pressao[df_result_pressao['Valor30_1'] < 600].index)\n",
        "df_result_pressao = df_result_pressao.drop(df_result_pressao[df_result_pressao['Valor30_2'] < 600].index)"
      ],
      "id": "ihxUresavEmI",
      "execution_count": 157,
      "outputs": []
    },
    {
      "cell_type": "markdown",
      "metadata": {
        "id": "4da2865a-4196-4ed5-8902-d50b7f4bc0f6"
      },
      "source": [
        "#### <span style=\"color:#DC143C\"> **D3. Agregar Magnitude para 1H**"
      ],
      "id": "4da2865a-4196-4ed5-8902-d50b7f4bc0f6"
    },
    {
      "cell_type": "code",
      "metadata": {
        "colab": {
          "base_uri": "https://localhost:8080/",
          "height": 419
        },
        "id": "hwvqbvDPytgZ",
        "outputId": "e38349d2-0ad5-4560-8421-f145e4a4949a"
      },
      "source": [
        "df_result_pressao"
      ],
      "id": "hwvqbvDPytgZ",
      "execution_count": 158,
      "outputs": [
        {
          "output_type": "execute_result",
          "data": {
            "text/html": [
              "<div>\n",
              "<style scoped>\n",
              "    .dataframe tbody tr th:only-of-type {\n",
              "        vertical-align: middle;\n",
              "    }\n",
              "\n",
              "    .dataframe tbody tr th {\n",
              "        vertical-align: top;\n",
              "    }\n",
              "\n",
              "    .dataframe thead th {\n",
              "        text-align: right;\n",
              "    }\n",
              "</style>\n",
              "<table border=\"1\" class=\"dataframe\">\n",
              "  <thead>\n",
              "    <tr style=\"text-align: right;\">\n",
              "      <th></th>\n",
              "      <th>Longitude</th>\n",
              "      <th>Latitude</th>\n",
              "      <th>Data</th>\n",
              "      <th>Valor30_1</th>\n",
              "      <th>Valor30_2</th>\n",
              "    </tr>\n",
              "  </thead>\n",
              "  <tbody>\n",
              "    <tr>\n",
              "      <th>1</th>\n",
              "      <td>-42.75</td>\n",
              "      <td>-14.25</td>\n",
              "      <td>2017-01-01 01:00:00</td>\n",
              "      <td>882.333</td>\n",
              "      <td>882.333</td>\n",
              "    </tr>\n",
              "    <tr>\n",
              "      <th>2</th>\n",
              "      <td>-42.75</td>\n",
              "      <td>-14.25</td>\n",
              "      <td>2017-01-01 02:00:00</td>\n",
              "      <td>882.000</td>\n",
              "      <td>882.000</td>\n",
              "    </tr>\n",
              "    <tr>\n",
              "      <th>3</th>\n",
              "      <td>-42.75</td>\n",
              "      <td>-14.25</td>\n",
              "      <td>2017-01-01 03:00:00</td>\n",
              "      <td>882.000</td>\n",
              "      <td>882.000</td>\n",
              "    </tr>\n",
              "    <tr>\n",
              "      <th>4</th>\n",
              "      <td>-42.75</td>\n",
              "      <td>-14.25</td>\n",
              "      <td>2017-01-01 04:00:00</td>\n",
              "      <td>882.333</td>\n",
              "      <td>883.000</td>\n",
              "    </tr>\n",
              "    <tr>\n",
              "      <th>5</th>\n",
              "      <td>-42.75</td>\n",
              "      <td>-14.25</td>\n",
              "      <td>2017-01-01 05:00:00</td>\n",
              "      <td>883.000</td>\n",
              "      <td>883.000</td>\n",
              "    </tr>\n",
              "    <tr>\n",
              "      <th>...</th>\n",
              "      <td>...</td>\n",
              "      <td>...</td>\n",
              "      <td>...</td>\n",
              "      <td>...</td>\n",
              "      <td>...</td>\n",
              "    </tr>\n",
              "    <tr>\n",
              "      <th>8754</th>\n",
              "      <td>-42.75</td>\n",
              "      <td>-14.25</td>\n",
              "      <td>2017-12-31 18:00:00</td>\n",
              "      <td>882.000</td>\n",
              "      <td>882.000</td>\n",
              "    </tr>\n",
              "    <tr>\n",
              "      <th>8755</th>\n",
              "      <td>-42.75</td>\n",
              "      <td>-14.25</td>\n",
              "      <td>2017-12-31 19:00:00</td>\n",
              "      <td>882.000</td>\n",
              "      <td>883.000</td>\n",
              "    </tr>\n",
              "    <tr>\n",
              "      <th>8756</th>\n",
              "      <td>-42.75</td>\n",
              "      <td>-14.25</td>\n",
              "      <td>2017-12-31 20:00:00</td>\n",
              "      <td>883.000</td>\n",
              "      <td>883.667</td>\n",
              "    </tr>\n",
              "    <tr>\n",
              "      <th>8757</th>\n",
              "      <td>-42.75</td>\n",
              "      <td>-14.25</td>\n",
              "      <td>2017-12-31 21:00:00</td>\n",
              "      <td>884.000</td>\n",
              "      <td>884.000</td>\n",
              "    </tr>\n",
              "    <tr>\n",
              "      <th>8758</th>\n",
              "      <td>-42.75</td>\n",
              "      <td>-14.25</td>\n",
              "      <td>2017-12-31 22:00:00</td>\n",
              "      <td>884.000</td>\n",
              "      <td>884.000</td>\n",
              "    </tr>\n",
              "  </tbody>\n",
              "</table>\n",
              "<p>8451 rows × 5 columns</p>\n",
              "</div>"
            ],
            "text/plain": [
              "      Longitude  Latitude                Data  Valor30_1  Valor30_2\n",
              "1        -42.75    -14.25 2017-01-01 01:00:00    882.333    882.333\n",
              "2        -42.75    -14.25 2017-01-01 02:00:00    882.000    882.000\n",
              "3        -42.75    -14.25 2017-01-01 03:00:00    882.000    882.000\n",
              "4        -42.75    -14.25 2017-01-01 04:00:00    882.333    883.000\n",
              "5        -42.75    -14.25 2017-01-01 05:00:00    883.000    883.000\n",
              "...         ...       ...                 ...        ...        ...\n",
              "8754     -42.75    -14.25 2017-12-31 18:00:00    882.000    882.000\n",
              "8755     -42.75    -14.25 2017-12-31 19:00:00    882.000    883.000\n",
              "8756     -42.75    -14.25 2017-12-31 20:00:00    883.000    883.667\n",
              "8757     -42.75    -14.25 2017-12-31 21:00:00    884.000    884.000\n",
              "8758     -42.75    -14.25 2017-12-31 22:00:00    884.000    884.000\n",
              "\n",
              "[8451 rows x 5 columns]"
            ]
          },
          "metadata": {},
          "execution_count": 158
        }
      ]
    },
    {
      "cell_type": "code",
      "metadata": {
        "id": "2a222de4-d6d1-4cce-b313-adfaf891a1b8"
      },
      "source": [
        "df_result_pressao['pressao_Verif'] = (df_result_pressao['Valor30_1'] + df_result_pressao['Valor30_2']) / 2"
      ],
      "id": "2a222de4-d6d1-4cce-b313-adfaf891a1b8",
      "execution_count": 159,
      "outputs": []
    },
    {
      "cell_type": "code",
      "metadata": {
        "id": "1046af49-9702-4e98-af8f-2409184b316e"
      },
      "source": [
        "# Formatar o resultado com 2 casas decimais\n",
        "df_result_pressao['pressao_Verif'] = df_result_pressao['pressao_Verif'].round(decimals=2)"
      ],
      "id": "1046af49-9702-4e98-af8f-2409184b316e",
      "execution_count": 160,
      "outputs": []
    },
    {
      "cell_type": "code",
      "metadata": {
        "id": "e0216b72-8e85-4473-b40d-0c0380e90f7f"
      },
      "source": [
        "df_result_pressao = df_result_pressao.drop('Valor30_1', 1)\n",
        "df_result_pressao = df_result_pressao.drop('Valor30_2', 1)"
      ],
      "id": "e0216b72-8e85-4473-b40d-0c0380e90f7f",
      "execution_count": 161,
      "outputs": []
    },
    {
      "cell_type": "code",
      "metadata": {
        "id": "12c383d8-474e-47ba-a7f8-9001475fbb52",
        "colab": {
          "base_uri": "https://localhost:8080/",
          "height": 359
        },
        "outputId": "4ea99737-d3d4-46a2-c2c6-49d6e354470b"
      },
      "source": [
        "df_result_pressao.head(10)"
      ],
      "id": "12c383d8-474e-47ba-a7f8-9001475fbb52",
      "execution_count": 162,
      "outputs": [
        {
          "output_type": "execute_result",
          "data": {
            "text/html": [
              "<div>\n",
              "<style scoped>\n",
              "    .dataframe tbody tr th:only-of-type {\n",
              "        vertical-align: middle;\n",
              "    }\n",
              "\n",
              "    .dataframe tbody tr th {\n",
              "        vertical-align: top;\n",
              "    }\n",
              "\n",
              "    .dataframe thead th {\n",
              "        text-align: right;\n",
              "    }\n",
              "</style>\n",
              "<table border=\"1\" class=\"dataframe\">\n",
              "  <thead>\n",
              "    <tr style=\"text-align: right;\">\n",
              "      <th></th>\n",
              "      <th>Longitude</th>\n",
              "      <th>Latitude</th>\n",
              "      <th>Data</th>\n",
              "      <th>pressao_Verif</th>\n",
              "    </tr>\n",
              "  </thead>\n",
              "  <tbody>\n",
              "    <tr>\n",
              "      <th>1</th>\n",
              "      <td>-42.75</td>\n",
              "      <td>-14.25</td>\n",
              "      <td>2017-01-01 01:00:00</td>\n",
              "      <td>882.33</td>\n",
              "    </tr>\n",
              "    <tr>\n",
              "      <th>2</th>\n",
              "      <td>-42.75</td>\n",
              "      <td>-14.25</td>\n",
              "      <td>2017-01-01 02:00:00</td>\n",
              "      <td>882.00</td>\n",
              "    </tr>\n",
              "    <tr>\n",
              "      <th>3</th>\n",
              "      <td>-42.75</td>\n",
              "      <td>-14.25</td>\n",
              "      <td>2017-01-01 03:00:00</td>\n",
              "      <td>882.00</td>\n",
              "    </tr>\n",
              "    <tr>\n",
              "      <th>4</th>\n",
              "      <td>-42.75</td>\n",
              "      <td>-14.25</td>\n",
              "      <td>2017-01-01 04:00:00</td>\n",
              "      <td>882.67</td>\n",
              "    </tr>\n",
              "    <tr>\n",
              "      <th>5</th>\n",
              "      <td>-42.75</td>\n",
              "      <td>-14.25</td>\n",
              "      <td>2017-01-01 05:00:00</td>\n",
              "      <td>883.00</td>\n",
              "    </tr>\n",
              "    <tr>\n",
              "      <th>6</th>\n",
              "      <td>-42.75</td>\n",
              "      <td>-14.25</td>\n",
              "      <td>2017-01-01 06:00:00</td>\n",
              "      <td>883.50</td>\n",
              "    </tr>\n",
              "    <tr>\n",
              "      <th>7</th>\n",
              "      <td>-42.75</td>\n",
              "      <td>-14.25</td>\n",
              "      <td>2017-01-01 07:00:00</td>\n",
              "      <td>884.00</td>\n",
              "    </tr>\n",
              "    <tr>\n",
              "      <th>8</th>\n",
              "      <td>-42.75</td>\n",
              "      <td>-14.25</td>\n",
              "      <td>2017-01-01 08:00:00</td>\n",
              "      <td>885.00</td>\n",
              "    </tr>\n",
              "    <tr>\n",
              "      <th>9</th>\n",
              "      <td>-42.75</td>\n",
              "      <td>-14.25</td>\n",
              "      <td>2017-01-01 09:00:00</td>\n",
              "      <td>885.00</td>\n",
              "    </tr>\n",
              "    <tr>\n",
              "      <th>10</th>\n",
              "      <td>-42.75</td>\n",
              "      <td>-14.25</td>\n",
              "      <td>2017-01-01 10:00:00</td>\n",
              "      <td>885.00</td>\n",
              "    </tr>\n",
              "  </tbody>\n",
              "</table>\n",
              "</div>"
            ],
            "text/plain": [
              "    Longitude  Latitude                Data  pressao_Verif\n",
              "1      -42.75    -14.25 2017-01-01 01:00:00         882.33\n",
              "2      -42.75    -14.25 2017-01-01 02:00:00         882.00\n",
              "3      -42.75    -14.25 2017-01-01 03:00:00         882.00\n",
              "4      -42.75    -14.25 2017-01-01 04:00:00         882.67\n",
              "5      -42.75    -14.25 2017-01-01 05:00:00         883.00\n",
              "6      -42.75    -14.25 2017-01-01 06:00:00         883.50\n",
              "7      -42.75    -14.25 2017-01-01 07:00:00         884.00\n",
              "8      -42.75    -14.25 2017-01-01 08:00:00         885.00\n",
              "9      -42.75    -14.25 2017-01-01 09:00:00         885.00\n",
              "10     -42.75    -14.25 2017-01-01 10:00:00         885.00"
            ]
          },
          "metadata": {},
          "execution_count": 162
        }
      ]
    },
    {
      "cell_type": "markdown",
      "metadata": {
        "id": "7462dcdc-daa0-4cad-a944-a264ce575254"
      },
      "source": [
        "### **E. Exporta Resultados**"
      ],
      "id": "7462dcdc-daa0-4cad-a944-a264ce575254"
    },
    {
      "cell_type": "code",
      "metadata": {
        "id": "ef87a932-b74b-48fe-b151-a8ec29013fef"
      },
      "source": [
        "output_file = 'processed/teste_03_patio_pressao.csv'\n",
        "df_result_pressao.to_csv(output_file, sep=';', encoding='utf-8')"
      ],
      "id": "ef87a932-b74b-48fe-b151-a8ec29013fef",
      "execution_count": 163,
      "outputs": []
    },
    {
      "cell_type": "code",
      "metadata": {
        "id": "be5441d5-7466-4959-b7ed-76922db78787"
      },
      "source": [
        ""
      ],
      "id": "be5441d5-7466-4959-b7ed-76922db78787",
      "execution_count": 163,
      "outputs": []
    }
  ]
}