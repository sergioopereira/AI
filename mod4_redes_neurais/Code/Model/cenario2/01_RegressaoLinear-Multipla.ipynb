{
  "nbformat": 4,
  "nbformat_minor": 5,
  "metadata": {
    "kernelspec": {
      "display_name": "Python 3",
      "language": "python",
      "name": "python3"
    },
    "language_info": {
      "codemirror_mode": {
        "name": "ipython",
        "version": 3
      },
      "file_extension": ".py",
      "mimetype": "text/x-python",
      "name": "python",
      "nbconvert_exporter": "python",
      "pygments_lexer": "ipython3",
      "version": "3.7.10"
    },
    "colab": {
      "name": "01_RegressaoLinear-Multipla.ipynb",
      "provenance": [],
      "include_colab_link": true
    }
  },
  "cells": [
    {
      "cell_type": "markdown",
      "metadata": {
        "id": "view-in-github",
        "colab_type": "text"
      },
      "source": [
        "<a href=\"https://colab.research.google.com/github/sergioopereira/AI/blob/main/mod4_redes_neurais/Code/Model/cenario2/01_RegressaoLinear-Multipla.ipynb\" target=\"_parent\"><img src=\"https://colab.research.google.com/assets/colab-badge.svg\" alt=\"Open In Colab\"/></a>"
      ]
    },
    {
      "cell_type": "code",
      "metadata": {
        "id": "80ff0e0f-bb06-4ca6-9d03-13306362380f",
        "outputId": "6f34058e-880a-42e2-8f87-cb2e544517cb",
        "colab": {
          "base_uri": "https://localhost:8080/"
        }
      },
      "source": [
        "import pandas as pd\n",
        "import numpy as np\n",
        "\n",
        "import matplotlib.pyplot as plt\n",
        "import seaborn as sns\n",
        "\n",
        "from scipy import stats\n",
        "from statsmodels.formula.api import ols\n",
        "\n",
        "import warnings\n",
        "warnings.filterwarnings(\"ignore\")"
      ],
      "id": "80ff0e0f-bb06-4ca6-9d03-13306362380f",
      "execution_count": 1,
      "outputs": [
        {
          "output_type": "stream",
          "name": "stderr",
          "text": [
            "/usr/local/lib/python3.7/dist-packages/statsmodels/tools/_testing.py:19: FutureWarning: pandas.util.testing is deprecated. Use the functions in the public API at pandas.testing instead.\n",
            "  import pandas.util.testing as tm\n"
          ]
        }
      ]
    },
    {
      "cell_type": "markdown",
      "metadata": {
        "id": "dd3a7668-b596-471c-9b64-893ca81f749e"
      },
      "source": [
        "### *A) Importar Dados de Vento, Direção, Pressao e Temperatura*"
      ],
      "id": "dd3a7668-b596-471c-9b64-893ca81f749e"
    },
    {
      "cell_type": "code",
      "metadata": {
        "id": "qM0WNe8aTT8e",
        "colab": {
          "base_uri": "https://localhost:8080/"
        },
        "outputId": "3744df89-db8b-4e9c-d926-8506e647c42f"
      },
      "source": [
        "import os\n",
        "cwd = os. getcwd()\n",
        "print(cwd)"
      ],
      "id": "qM0WNe8aTT8e",
      "execution_count": 2,
      "outputs": [
        {
          "output_type": "stream",
          "name": "stdout",
          "text": [
            "/content\n"
          ]
        }
      ]
    },
    {
      "cell_type": "code",
      "metadata": {
        "id": "44ec584b-50c8-4abe-bc3c-a577ea79dd71",
        "colab": {
          "base_uri": "https://localhost:8080/"
        },
        "outputId": "091aead0-0cff-4ac1-ade0-aa2ed246412d"
      },
      "source": [
        "#source_file =   '../../../../PrevisaoVento/Data/process/cenario2/dados_cenario2.csv'\n",
        "source_file =   'dados_cenario2.csv'\n",
        "df_wind = pd.read_csv(source_file, delimiter=';', index_col=0, parse_dates=['Data'])\n",
        "df_wind.info()"
      ],
      "id": "44ec584b-50c8-4abe-bc3c-a577ea79dd71",
      "execution_count": 3,
      "outputs": [
        {
          "output_type": "stream",
          "name": "stdout",
          "text": [
            "<class 'pandas.core.frame.DataFrame'>\n",
            "Int64Index: 8808 entries, 0 to 8807\n",
            "Data columns (total 7 columns):\n",
            " #   Column        Non-Null Count  Dtype         \n",
            "---  ------        --------------  -----         \n",
            " 0   Longitude     8808 non-null   float64       \n",
            " 1   Latitude      8808 non-null   float64       \n",
            " 2   Data          8808 non-null   datetime64[ns]\n",
            " 3   VentoC        8808 non-null   float64       \n",
            " 4   Pressao       8808 non-null   float64       \n",
            " 5   Temperatura   8808 non-null   float64       \n",
            " 6   DirecaoVento  8808 non-null   float64       \n",
            "dtypes: datetime64[ns](1), float64(6)\n",
            "memory usage: 550.5 KB\n"
          ]
        }
      ]
    },
    {
      "cell_type": "code",
      "metadata": {
        "id": "17217f2b-d52c-47ed-a987-684640f50921",
        "colab": {
          "base_uri": "https://localhost:8080/"
        },
        "outputId": "b94e9681-41f6-40b7-d5ca-25219ba654e2"
      },
      "source": [
        "df_wind.isnull().sum() # registros nulos"
      ],
      "id": "17217f2b-d52c-47ed-a987-684640f50921",
      "execution_count": 4,
      "outputs": [
        {
          "output_type": "execute_result",
          "data": {
            "text/plain": [
              "Longitude       0\n",
              "Latitude        0\n",
              "Data            0\n",
              "VentoC          0\n",
              "Pressao         0\n",
              "Temperatura     0\n",
              "DirecaoVento    0\n",
              "dtype: int64"
            ]
          },
          "metadata": {},
          "execution_count": 4
        }
      ]
    },
    {
      "cell_type": "markdown",
      "metadata": {
        "id": "5e2020e1-82ca-4d33-9cac-b5316e8393a6"
      },
      "source": [
        "### <span style=\"color:Blue\"> ***D) Regressão Linear*** "
      ],
      "id": "5e2020e1-82ca-4d33-9cac-b5316e8393a6"
    },
    {
      "cell_type": "markdown",
      "metadata": {
        "id": "592f1819-7f1d-47ce-87d8-151f0b365747"
      },
      "source": [
        "### <span style=\"color:#4169E1\">**D1. Cálculos**"
      ],
      "id": "592f1819-7f1d-47ce-87d8-151f0b365747"
    },
    {
      "cell_type": "markdown",
      "metadata": {
        "id": "260514a7-6078-42fc-a831-38d6ea8a20eb"
      },
      "source": [
        "- slope = Inclinação da linha de regressão.<br>\n",
        "- intercept= Interceptação da linha de regressão.<br>\n",
        "- rvalue = Coeficiente de correlação.<br>\n",
        "- pvalue= Valor p bilateral para um teste de hipótese cuja hipótese nula é que a inclinação é zero, usando o Teste de Wald com distribuição t da estatística de teste<br>\n",
        "- stderr = (Desvio)Erro padrão da inclinação estimada (gradiente), considerando a normalidade residual.<br>\n"
      ],
      "id": "260514a7-6078-42fc-a831-38d6ea8a20eb"
    },
    {
      "cell_type": "code",
      "metadata": {
        "id": "fe16c682-e82d-45ba-852a-a88a91ef0ff5"
      },
      "source": [
        "x = df_wind['Temperatura'] \n",
        "y = df_wind['VentoC']\n",
        "a, b, r, p, std_err = stats.linregress(x,y)"
      ],
      "id": "fe16c682-e82d-45ba-852a-a88a91ef0ff5",
      "execution_count": 5,
      "outputs": []
    },
    {
      "cell_type": "code",
      "metadata": {
        "id": "1dc7a988-40b3-4f20-8e04-dfe77c6db082",
        "colab": {
          "base_uri": "https://localhost:8080/",
          "height": 265
        },
        "outputId": "1c73b6f7-652b-403e-e5f6-097afc87614f"
      },
      "source": [
        "def estimate_y(x):\n",
        "    return a * x + b\n",
        "\n",
        "df_wind['y_Vento'] = df_wind['Temperatura'].apply(estimate_y)  \n",
        "# A partir da coluna Vento observado, será criado uma nova coluna chamada y_estimado\n",
        "\n",
        "plt.figure()\n",
        "plt.plot(df_wind['Temperatura'], df_wind['y_Vento'])\n",
        "plt.scatter(df_wind['Temperatura'], df_wind['VentoC'], color='#B0C4DE')\n",
        "plt.show()"
      ],
      "id": "1dc7a988-40b3-4f20-8e04-dfe77c6db082",
      "execution_count": 6,
      "outputs": [
        {
          "output_type": "display_data",
          "data": {
            "image/png": "[encoded data removed]",
            "text/plain": [
              "<Figure size 432x288 with 1 Axes>"
            ]
          },
          "metadata": {
            "needs_background": "light"
          }
        }
      ]
    },
    {
      "cell_type": "markdown",
      "metadata": {
        "id": "b27718ca-af26-43b3-9e5b-a8c0fed6491b"
      },
      "source": [
        "<span style=\"color:#4169E1\">**D2. Coeficiente de Determinação**"
      ],
      "id": "b27718ca-af26-43b3-9e5b-a8c0fed6491b"
    },
    {
      "cell_type": "code",
      "metadata": {
        "id": "6f7444d1-88eb-4f85-a0a9-768cdfd8f114",
        "colab": {
          "base_uri": "https://localhost:8080/"
        },
        "outputId": "1c51b3bd-6388-4c84-a685-ed8533827279"
      },
      "source": [
        "coef_determinacao = r**2\n",
        "\n",
        "print(\"A correlação é de: \" + str(coef_determinacao) + \" %\") # Proximo de 1 é uma boa estimativa"
      ],
      "id": "6f7444d1-88eb-4f85-a0a9-768cdfd8f114",
      "execution_count": 7,
      "outputs": [
        {
          "output_type": "stream",
          "name": "stdout",
          "text": [
            "A correlação é de: 0.26135100022080215 %\n"
          ]
        }
      ]
    },
    {
      "cell_type": "markdown",
      "metadata": {
        "id": "c8543754-eaa4-44b0-a2b9-96c0594b3afc"
      },
      "source": [
        "### <span style=\"color:#8B008B\"> ***E) Regressão Linear Multipla*** "
      ],
      "id": "c8543754-eaa4-44b0-a2b9-96c0594b3afc"
    },
    {
      "cell_type": "markdown",
      "metadata": {
        "id": "ed055d12-5c34-4850-9cff-9cda3bf703dd"
      },
      "source": [
        "<b>Formula:</b><br>\n",
        "<i>\n",
        "VentoVerificado = b0 + (b1 x VentoObservado) + (b2 x PressaoAtmosferica) + (b3 x Temperatura) + (b4 x Chuva) + (b5 x DirecaoGraus)\n",
        "</i>\n",
        "<p>\n",
        "<b>Avaliação do P-valor:</b>\n",
        "<br>p-valor = Probabilidade dos valores se referirem à hipotese nula\n",
        "<br>p-valor baixo -> Melhor associação entre o preditor e o valor\n",
        "\n",
        "<p><b>Tabela:</b>\n",
        "<br>p-valor < 0.001 -> Alto nivel de certeza\n",
        "<br>p-valor < 0.05  -> Nível de certeza moderado\n",
        "<br>p-valor < 0.01  -> Nível de certeza fraco\n",
        "<br>p-valor > 0.1  -> Não há nivel de certeza aceitávelno resultado\n",
        "\n",
        "<i>Ou seja,</i> Coluna P>|t|. Quanto mais próximo o valor for de zero(0), mais correlacionado a variavel é.\n",
        "<p>\n",
        "<b>Como Avaliar o Summary:</b><br>\n",
        "    1. <b><i>Teste F de Significancia  Global</b></i> (O modelo é útil para prever ?)<br>\n",
        "Resposta: Verifique se o valor da coluna 'Prob(F-statistic) = valor p do teste F' é < 0,05. \n",
        "<br>Se houver, significa pelo menos 1 variavel no modelo está correlacionada a variavel dependente\n",
        "<p>\n",
        "    2. <b><i>Teste de significancia individua</b></i><br>\n",
        "Resposta: Na tabela, verifique o valor P>|y| das variaveis independente são menores que 0.05.\n",
        "<br>Se houver, há evidencias estatisticas de relação.\n",
        "<p>\n",
        "    3.<b><i> R2 e R2-Ajustado.</b></i><br>\n",
        "Resposta: As variaveis independente explicam qual % de variabilidade da variavel dependente.<br>\n",
        "    Verifique o valor da variavel \"R-squared\" para responder. Já o R2-Ajustado,que é sempre um pouco menor que o R2\n",
        "    deve ser usado quando queremos comparar modelos com diferentes quantidades de variaveis.\n",
        "<p>\n",
        "<b><i>Quais são os coeficientes da equação</b></i><br>\n",
        "Resposta: y = coef.intercept + coef.direcao x {valorDirecao} + coef.Magnitude_Observada x {Magnitude_Observada} + ..."
      ],
      "id": "ed055d12-5c34-4850-9cff-9cda3bf703dd"
    },
    {
      "cell_type": "markdown",
      "metadata": {
        "id": "a5f20665-9e4a-4079-838d-8466e40a92cf"
      },
      "source": [
        "#### <span style=\"color:#8B008B\"> **R2 = 0.056 ~ Usando (  Direção )**"
      ],
      "id": "a5f20665-9e4a-4079-838d-8466e40a92cf"
    },
    {
      "cell_type": "code",
      "metadata": {
        "id": "8e864848-664b-4edf-9027-3ebb2f1f3230",
        "colab": {
          "base_uri": "https://localhost:8080/",
          "height": 444
        },
        "outputId": "23f67f31-baf7-4520-bd1b-a1f651b58804"
      },
      "source": [
        "# Método: Ordinary Least Square\n",
        "# Estimador escolhido: R2\n",
        "#\n",
        "model = ols('VentoC ~ DirecaoVento' , data = df_wind) \n",
        "response = model.fit()\n",
        "response.summary()"
      ],
      "id": "8e864848-664b-4edf-9027-3ebb2f1f3230",
      "execution_count": 8,
      "outputs": [
        {
          "output_type": "execute_result",
          "data": {
            "text/html": [
              "<table class=\"simpletable\">\n",
              "<caption>OLS Regression Results</caption>\n",
              "<tr>\n",
              "  <th>Dep. Variable:</th>         <td>VentoC</td>      <th>  R-squared:         </th> <td>   0.056</td> \n",
              "</tr>\n",
              "<tr>\n",
              "  <th>Model:</th>                   <td>OLS</td>       <th>  Adj. R-squared:    </th> <td>   0.056</td> \n",
              "</tr>\n",
              "<tr>\n",
              "  <th>Method:</th>             <td>Least Squares</td>  <th>  F-statistic:       </th> <td>   519.1</td> \n",
              "</tr>\n",
              "<tr>\n",
              "  <th>Date:</th>             <td>Sun, 19 Sep 2021</td> <th>  Prob (F-statistic):</th> <td>1.08e-111</td>\n",
              "</tr>\n",
              "<tr>\n",
              "  <th>Time:</th>                 <td>15:54:03</td>     <th>  Log-Likelihood:    </th> <td> -21291.</td> \n",
              "</tr>\n",
              "<tr>\n",
              "  <th>No. Observations:</th>      <td>  8808</td>      <th>  AIC:               </th> <td>4.259e+04</td>\n",
              "</tr>\n",
              "<tr>\n",
              "  <th>Df Residuals:</th>          <td>  8806</td>      <th>  BIC:               </th> <td>4.260e+04</td>\n",
              "</tr>\n",
              "<tr>\n",
              "  <th>Df Model:</th>              <td>     1</td>      <th>                     </th>     <td> </td>    \n",
              "</tr>\n",
              "<tr>\n",
              "  <th>Covariance Type:</th>      <td>nonrobust</td>    <th>                     </th>     <td> </td>    \n",
              "</tr>\n",
              "</table>\n",
              "<table class=\"simpletable\">\n",
              "<tr>\n",
              "        <td></td>          <th>coef</th>     <th>std err</th>      <th>t</th>      <th>P>|t|</th>  <th>[0.025</th>    <th>0.975]</th>  \n",
              "</tr>\n",
              "<tr>\n",
              "  <th>Intercept</th>    <td>    9.5066</td> <td>    0.073</td> <td>  130.233</td> <td> 0.000</td> <td>    9.364</td> <td>    9.650</td>\n",
              "</tr>\n",
              "<tr>\n",
              "  <th>DirecaoVento</th> <td>   -0.0124</td> <td>    0.001</td> <td>  -22.784</td> <td> 0.000</td> <td>   -0.014</td> <td>   -0.011</td>\n",
              "</tr>\n",
              "</table>\n",
              "<table class=\"simpletable\">\n",
              "<tr>\n",
              "  <th>Omnibus:</th>       <td>10.248</td> <th>  Durbin-Watson:     </th> <td>   0.120</td>\n",
              "</tr>\n",
              "<tr>\n",
              "  <th>Prob(Omnibus):</th> <td> 0.006</td> <th>  Jarque-Bera (JB):  </th> <td>   9.391</td>\n",
              "</tr>\n",
              "<tr>\n",
              "  <th>Skew:</th>          <td> 0.042</td> <th>  Prob(JB):          </th> <td> 0.00914</td>\n",
              "</tr>\n",
              "<tr>\n",
              "  <th>Kurtosis:</th>      <td> 2.863</td> <th>  Cond. No.          </th> <td>    338.</td>\n",
              "</tr>\n",
              "</table><br/><br/>Warnings:<br/>[1] Standard Errors assume that the covariance matrix of the errors is correctly specified."
            ],
            "text/plain": [
              "<class 'statsmodels.iolib.summary.Summary'>\n",
              "\"\"\"\n",
              "                            OLS Regression Results                            \n",
              "==============================================================================\n",
              "Dep. Variable:                 VentoC   R-squared:                       0.056\n",
              "Model:                            OLS   Adj. R-squared:                  0.056\n",
              "Method:                 Least Squares   F-statistic:                     519.1\n",
              "Date:                Sun, 19 Sep 2021   Prob (F-statistic):          1.08e-111\n",
              "Time:                        15:54:03   Log-Likelihood:                -21291.\n",
              "No. Observations:                8808   AIC:                         4.259e+04\n",
              "Df Residuals:                    8806   BIC:                         4.260e+04\n",
              "Df Model:                           1                                         \n",
              "Covariance Type:            nonrobust                                         \n",
              "================================================================================\n",
              "                   coef    std err          t      P>|t|      [0.025      0.975]\n",
              "--------------------------------------------------------------------------------\n",
              "Intercept        9.5066      0.073    130.233      0.000       9.364       9.650\n",
              "DirecaoVento    -0.0124      0.001    -22.784      0.000      -0.014      -0.011\n",
              "==============================================================================\n",
              "Omnibus:                       10.248   Durbin-Watson:                   0.120\n",
              "Prob(Omnibus):                  0.006   Jarque-Bera (JB):                9.391\n",
              "Skew:                           0.042   Prob(JB):                      0.00914\n",
              "Kurtosis:                       2.863   Cond. No.                         338.\n",
              "==============================================================================\n",
              "\n",
              "Warnings:\n",
              "[1] Standard Errors assume that the covariance matrix of the errors is correctly specified.\n",
              "\"\"\""
            ]
          },
          "metadata": {},
          "execution_count": 8
        }
      ]
    },
    {
      "cell_type": "markdown",
      "metadata": {
        "id": "30bdff79-a221-48e4-8ba1-ea4cb14fa36c"
      },
      "source": [
        "#### <span style=\"color:#8B008B\"> **R2 = 0.290 ~  Usando ( Direção + Temperatura )**"
      ],
      "id": "30bdff79-a221-48e4-8ba1-ea4cb14fa36c"
    },
    {
      "cell_type": "code",
      "metadata": {
        "id": "dfaf1712-e3c2-4fd1-b3fe-09c55847a955",
        "colab": {
          "base_uri": "https://localhost:8080/",
          "height": 465
        },
        "outputId": "ee0403d7-bc6d-4a41-cd37-20d959699856"
      },
      "source": [
        "model = ols('VentoC ~ Temperatura + DirecaoVento ' , data = df_wind) \n",
        "response = model.fit()\n",
        "response.summary()"
      ],
      "id": "dfaf1712-e3c2-4fd1-b3fe-09c55847a955",
      "execution_count": 9,
      "outputs": [
        {
          "output_type": "execute_result",
          "data": {
            "text/html": [
              "<table class=\"simpletable\">\n",
              "<caption>OLS Regression Results</caption>\n",
              "<tr>\n",
              "  <th>Dep. Variable:</th>         <td>VentoC</td>      <th>  R-squared:         </th> <td>   0.290</td> \n",
              "</tr>\n",
              "<tr>\n",
              "  <th>Model:</th>                   <td>OLS</td>       <th>  Adj. R-squared:    </th> <td>   0.290</td> \n",
              "</tr>\n",
              "<tr>\n",
              "  <th>Method:</th>             <td>Least Squares</td>  <th>  F-statistic:       </th> <td>   1802.</td> \n",
              "</tr>\n",
              "<tr>\n",
              "  <th>Date:</th>             <td>Sun, 19 Sep 2021</td> <th>  Prob (F-statistic):</th>  <td>  0.00</td>  \n",
              "</tr>\n",
              "<tr>\n",
              "  <th>Time:</th>                 <td>15:54:03</td>     <th>  Log-Likelihood:    </th> <td> -20032.</td> \n",
              "</tr>\n",
              "<tr>\n",
              "  <th>No. Observations:</th>      <td>  8808</td>      <th>  AIC:               </th> <td>4.007e+04</td>\n",
              "</tr>\n",
              "<tr>\n",
              "  <th>Df Residuals:</th>          <td>  8805</td>      <th>  BIC:               </th> <td>4.009e+04</td>\n",
              "</tr>\n",
              "<tr>\n",
              "  <th>Df Model:</th>              <td>     2</td>      <th>                     </th>     <td> </td>    \n",
              "</tr>\n",
              "<tr>\n",
              "  <th>Covariance Type:</th>      <td>nonrobust</td>    <th>                     </th>     <td> </td>    \n",
              "</tr>\n",
              "</table>\n",
              "<table class=\"simpletable\">\n",
              "<tr>\n",
              "        <td></td>          <th>coef</th>     <th>std err</th>      <th>t</th>      <th>P>|t|</th>  <th>[0.025</th>    <th>0.975]</th>  \n",
              "</tr>\n",
              "<tr>\n",
              "  <th>Intercept</th>    <td>   15.9682</td> <td>    0.135</td> <td>  117.929</td> <td> 0.000</td> <td>   15.703</td> <td>   16.234</td>\n",
              "</tr>\n",
              "<tr>\n",
              "  <th>Temperatura</th>  <td>   -0.3545</td> <td>    0.007</td> <td>  -53.977</td> <td> 0.000</td> <td>   -0.367</td> <td>   -0.342</td>\n",
              "</tr>\n",
              "<tr>\n",
              "  <th>DirecaoVento</th> <td>   -0.0091</td> <td>    0.000</td> <td>  -19.003</td> <td> 0.000</td> <td>   -0.010</td> <td>   -0.008</td>\n",
              "</tr>\n",
              "</table>\n",
              "<table class=\"simpletable\">\n",
              "<tr>\n",
              "  <th>Omnibus:</th>       <td> 0.111</td> <th>  Durbin-Watson:     </th> <td>   0.151</td>\n",
              "</tr>\n",
              "<tr>\n",
              "  <th>Prob(Omnibus):</th> <td> 0.946</td> <th>  Jarque-Bera (JB):  </th> <td>   0.115</td>\n",
              "</tr>\n",
              "<tr>\n",
              "  <th>Skew:</th>          <td> 0.009</td> <th>  Prob(JB):          </th> <td>   0.944</td>\n",
              "</tr>\n",
              "<tr>\n",
              "  <th>Kurtosis:</th>      <td> 2.996</td> <th>  Cond. No.          </th> <td>    730.</td>\n",
              "</tr>\n",
              "</table><br/><br/>Warnings:<br/>[1] Standard Errors assume that the covariance matrix of the errors is correctly specified."
            ],
            "text/plain": [
              "<class 'statsmodels.iolib.summary.Summary'>\n",
              "\"\"\"\n",
              "                            OLS Regression Results                            \n",
              "==============================================================================\n",
              "Dep. Variable:                 VentoC   R-squared:                       0.290\n",
              "Model:                            OLS   Adj. R-squared:                  0.290\n",
              "Method:                 Least Squares   F-statistic:                     1802.\n",
              "Date:                Sun, 19 Sep 2021   Prob (F-statistic):               0.00\n",
              "Time:                        15:54:03   Log-Likelihood:                -20032.\n",
              "No. Observations:                8808   AIC:                         4.007e+04\n",
              "Df Residuals:                    8805   BIC:                         4.009e+04\n",
              "Df Model:                           2                                         \n",
              "Covariance Type:            nonrobust                                         \n",
              "================================================================================\n",
              "                   coef    std err          t      P>|t|      [0.025      0.975]\n",
              "--------------------------------------------------------------------------------\n",
              "Intercept       15.9682      0.135    117.929      0.000      15.703      16.234\n",
              "Temperatura     -0.3545      0.007    -53.977      0.000      -0.367      -0.342\n",
              "DirecaoVento    -0.0091      0.000    -19.003      0.000      -0.010      -0.008\n",
              "==============================================================================\n",
              "Omnibus:                        0.111   Durbin-Watson:                   0.151\n",
              "Prob(Omnibus):                  0.946   Jarque-Bera (JB):                0.115\n",
              "Skew:                           0.009   Prob(JB):                        0.944\n",
              "Kurtosis:                       2.996   Cond. No.                         730.\n",
              "==============================================================================\n",
              "\n",
              "Warnings:\n",
              "[1] Standard Errors assume that the covariance matrix of the errors is correctly specified.\n",
              "\"\"\""
            ]
          },
          "metadata": {},
          "execution_count": 9
        }
      ]
    },
    {
      "cell_type": "markdown",
      "metadata": {
        "id": "e6d95f6f-e862-4378-a0f5-b9b446880e8d"
      },
      "source": [
        "#### <span style=\"color:#8B008B\"> **R2 = 0.205 ~  Usando (Direção + Pressão )**"
      ],
      "id": "e6d95f6f-e862-4378-a0f5-b9b446880e8d"
    },
    {
      "cell_type": "code",
      "metadata": {
        "id": "3acdc387-d149-47f5-892e-b0e2c6e4b54f",
        "colab": {
          "base_uri": "https://localhost:8080/",
          "height": 499
        },
        "outputId": "f228cf3d-7175-43cf-a0f3-a3c5e16a90b1"
      },
      "source": [
        "model = ols('VentoC ~  DirecaoVento + Pressao ' , data = df_wind) \n",
        "response = model.fit()\n",
        "response.summary()"
      ],
      "id": "3acdc387-d149-47f5-892e-b0e2c6e4b54f",
      "execution_count": 10,
      "outputs": [
        {
          "output_type": "execute_result",
          "data": {
            "text/html": [
              "<table class=\"simpletable\">\n",
              "<caption>OLS Regression Results</caption>\n",
              "<tr>\n",
              "  <th>Dep. Variable:</th>         <td>VentoC</td>      <th>  R-squared:         </th> <td>   0.205</td> \n",
              "</tr>\n",
              "<tr>\n",
              "  <th>Model:</th>                   <td>OLS</td>       <th>  Adj. R-squared:    </th> <td>   0.205</td> \n",
              "</tr>\n",
              "<tr>\n",
              "  <th>Method:</th>             <td>Least Squares</td>  <th>  F-statistic:       </th> <td>   1135.</td> \n",
              "</tr>\n",
              "<tr>\n",
              "  <th>Date:</th>             <td>Sun, 19 Sep 2021</td> <th>  Prob (F-statistic):</th>  <td>  0.00</td>  \n",
              "</tr>\n",
              "<tr>\n",
              "  <th>Time:</th>                 <td>15:54:03</td>     <th>  Log-Likelihood:    </th> <td> -20533.</td> \n",
              "</tr>\n",
              "<tr>\n",
              "  <th>No. Observations:</th>      <td>  8808</td>      <th>  AIC:               </th> <td>4.107e+04</td>\n",
              "</tr>\n",
              "<tr>\n",
              "  <th>Df Residuals:</th>          <td>  8805</td>      <th>  BIC:               </th> <td>4.109e+04</td>\n",
              "</tr>\n",
              "<tr>\n",
              "  <th>Df Model:</th>              <td>     2</td>      <th>                     </th>     <td> </td>    \n",
              "</tr>\n",
              "<tr>\n",
              "  <th>Covariance Type:</th>      <td>nonrobust</td>    <th>                     </th>     <td> </td>    \n",
              "</tr>\n",
              "</table>\n",
              "<table class=\"simpletable\">\n",
              "<tr>\n",
              "        <td></td>          <th>coef</th>     <th>std err</th>      <th>t</th>      <th>P>|t|</th>  <th>[0.025</th>    <th>0.975]</th>  \n",
              "</tr>\n",
              "<tr>\n",
              "  <th>Intercept</th>    <td> -379.7562</td> <td>    9.574</td> <td>  -39.665</td> <td> 0.000</td> <td> -398.524</td> <td> -360.989</td>\n",
              "</tr>\n",
              "<tr>\n",
              "  <th>DirecaoVento</th> <td>   -0.0059</td> <td>    0.001</td> <td>  -11.239</td> <td> 0.000</td> <td>   -0.007</td> <td>   -0.005</td>\n",
              "</tr>\n",
              "<tr>\n",
              "  <th>Pressao</th>      <td>    0.4393</td> <td>    0.011</td> <td>   40.659</td> <td> 0.000</td> <td>    0.418</td> <td>    0.461</td>\n",
              "</tr>\n",
              "</table>\n",
              "<table class=\"simpletable\">\n",
              "<tr>\n",
              "  <th>Omnibus:</th>       <td> 5.882</td> <th>  Durbin-Watson:     </th> <td>   0.139</td>\n",
              "</tr>\n",
              "<tr>\n",
              "  <th>Prob(Omnibus):</th> <td> 0.053</td> <th>  Jarque-Bera (JB):  </th> <td>   6.435</td>\n",
              "</tr>\n",
              "<tr>\n",
              "  <th>Skew:</th>          <td> 0.007</td> <th>  Prob(JB):          </th> <td>  0.0401</td>\n",
              "</tr>\n",
              "<tr>\n",
              "  <th>Kurtosis:</th>      <td> 3.132</td> <th>  Cond. No.          </th> <td>3.22e+05</td>\n",
              "</tr>\n",
              "</table><br/><br/>Warnings:<br/>[1] Standard Errors assume that the covariance matrix of the errors is correctly specified.<br/>[2] The condition number is large, 3.22e+05. This might indicate that there are<br/>strong multicollinearity or other numerical problems."
            ],
            "text/plain": [
              "<class 'statsmodels.iolib.summary.Summary'>\n",
              "\"\"\"\n",
              "                            OLS Regression Results                            \n",
              "==============================================================================\n",
              "Dep. Variable:                 VentoC   R-squared:                       0.205\n",
              "Model:                            OLS   Adj. R-squared:                  0.205\n",
              "Method:                 Least Squares   F-statistic:                     1135.\n",
              "Date:                Sun, 19 Sep 2021   Prob (F-statistic):               0.00\n",
              "Time:                        15:54:03   Log-Likelihood:                -20533.\n",
              "No. Observations:                8808   AIC:                         4.107e+04\n",
              "Df Residuals:                    8805   BIC:                         4.109e+04\n",
              "Df Model:                           2                                         \n",
              "Covariance Type:            nonrobust                                         \n",
              "================================================================================\n",
              "                   coef    std err          t      P>|t|      [0.025      0.975]\n",
              "--------------------------------------------------------------------------------\n",
              "Intercept     -379.7562      9.574    -39.665      0.000    -398.524    -360.989\n",
              "DirecaoVento    -0.0059      0.001    -11.239      0.000      -0.007      -0.005\n",
              "Pressao          0.4393      0.011     40.659      0.000       0.418       0.461\n",
              "==============================================================================\n",
              "Omnibus:                        5.882   Durbin-Watson:                   0.139\n",
              "Prob(Omnibus):                  0.053   Jarque-Bera (JB):                6.435\n",
              "Skew:                           0.007   Prob(JB):                       0.0401\n",
              "Kurtosis:                       3.132   Cond. No.                     3.22e+05\n",
              "==============================================================================\n",
              "\n",
              "Warnings:\n",
              "[1] Standard Errors assume that the covariance matrix of the errors is correctly specified.\n",
              "[2] The condition number is large, 3.22e+05. This might indicate that there are\n",
              "strong multicollinearity or other numerical problems.\n",
              "\"\"\""
            ]
          },
          "metadata": {},
          "execution_count": 10
        }
      ]
    },
    {
      "cell_type": "markdown",
      "metadata": {
        "id": "ded5d43b-0445-47d4-b97e-9f3f9f1641d7"
      },
      "source": [
        "#### <span style=\"color:#8B008B\"> **R2 = 0.332 ~  Usando (Direção + Temperatura + Pressão )**"
      ],
      "id": "ded5d43b-0445-47d4-b97e-9f3f9f1641d7"
    },
    {
      "cell_type": "code",
      "metadata": {
        "id": "3b29f6cf-cb6d-487e-8269-d32f3d31af61",
        "colab": {
          "base_uri": "https://localhost:8080/",
          "height": 520
        },
        "outputId": "720a58b9-874e-48c3-c5b8-aba5bded2622"
      },
      "source": [
        "model = ols('VentoC ~ Temperatura + DirecaoVento + Pressao ' , data = df_wind) \n",
        "response = model.fit()\n",
        "response.summary()"
      ],
      "id": "3b29f6cf-cb6d-487e-8269-d32f3d31af61",
      "execution_count": 11,
      "outputs": [
        {
          "output_type": "execute_result",
          "data": {
            "text/html": [
              "<table class=\"simpletable\">\n",
              "<caption>OLS Regression Results</caption>\n",
              "<tr>\n",
              "  <th>Dep. Variable:</th>         <td>VentoC</td>      <th>  R-squared:         </th> <td>   0.332</td> \n",
              "</tr>\n",
              "<tr>\n",
              "  <th>Model:</th>                   <td>OLS</td>       <th>  Adj. R-squared:    </th> <td>   0.331</td> \n",
              "</tr>\n",
              "<tr>\n",
              "  <th>Method:</th>             <td>Least Squares</td>  <th>  F-statistic:       </th> <td>   1456.</td> \n",
              "</tr>\n",
              "<tr>\n",
              "  <th>Date:</th>             <td>Sun, 19 Sep 2021</td> <th>  Prob (F-statistic):</th>  <td>  0.00</td>  \n",
              "</tr>\n",
              "<tr>\n",
              "  <th>Time:</th>                 <td>15:54:03</td>     <th>  Log-Likelihood:    </th> <td> -19769.</td> \n",
              "</tr>\n",
              "<tr>\n",
              "  <th>No. Observations:</th>      <td>  8808</td>      <th>  AIC:               </th> <td>3.955e+04</td>\n",
              "</tr>\n",
              "<tr>\n",
              "  <th>Df Residuals:</th>          <td>  8804</td>      <th>  BIC:               </th> <td>3.957e+04</td>\n",
              "</tr>\n",
              "<tr>\n",
              "  <th>Df Model:</th>              <td>     3</td>      <th>                     </th>     <td> </td>    \n",
              "</tr>\n",
              "<tr>\n",
              "  <th>Covariance Type:</th>      <td>nonrobust</td>    <th>                     </th>     <td> </td>    \n",
              "</tr>\n",
              "</table>\n",
              "<table class=\"simpletable\">\n",
              "<tr>\n",
              "        <td></td>          <th>coef</th>     <th>std err</th>      <th>t</th>      <th>P>|t|</th>  <th>[0.025</th>    <th>0.975]</th>  \n",
              "</tr>\n",
              "<tr>\n",
              "  <th>Intercept</th>    <td> -210.0147</td> <td>    9.714</td> <td>  -21.621</td> <td> 0.000</td> <td> -229.055</td> <td> -190.974</td>\n",
              "</tr>\n",
              "<tr>\n",
              "  <th>Temperatura</th>  <td>   -0.2864</td> <td>    0.007</td> <td>  -40.837</td> <td> 0.000</td> <td>   -0.300</td> <td>   -0.273</td>\n",
              "</tr>\n",
              "<tr>\n",
              "  <th>DirecaoVento</th> <td>   -0.0059</td> <td>    0.000</td> <td>  -12.334</td> <td> 0.000</td> <td>   -0.007</td> <td>   -0.005</td>\n",
              "</tr>\n",
              "<tr>\n",
              "  <th>Pressao</th>      <td>    0.2537</td> <td>    0.011</td> <td>   23.267</td> <td> 0.000</td> <td>    0.232</td> <td>    0.275</td>\n",
              "</tr>\n",
              "</table>\n",
              "<table class=\"simpletable\">\n",
              "<tr>\n",
              "  <th>Omnibus:</th>       <td> 1.404</td> <th>  Durbin-Watson:     </th> <td>   0.155</td>\n",
              "</tr>\n",
              "<tr>\n",
              "  <th>Prob(Omnibus):</th> <td> 0.496</td> <th>  Jarque-Bera (JB):  </th> <td>   1.371</td>\n",
              "</tr>\n",
              "<tr>\n",
              "  <th>Skew:</th>          <td> 0.017</td> <th>  Prob(JB):          </th> <td>   0.504</td>\n",
              "</tr>\n",
              "<tr>\n",
              "  <th>Kurtosis:</th>      <td> 3.050</td> <th>  Cond. No.          </th> <td>3.56e+05</td>\n",
              "</tr>\n",
              "</table><br/><br/>Warnings:<br/>[1] Standard Errors assume that the covariance matrix of the errors is correctly specified.<br/>[2] The condition number is large, 3.56e+05. This might indicate that there are<br/>strong multicollinearity or other numerical problems."
            ],
            "text/plain": [
              "<class 'statsmodels.iolib.summary.Summary'>\n",
              "\"\"\"\n",
              "                            OLS Regression Results                            \n",
              "==============================================================================\n",
              "Dep. Variable:                 VentoC   R-squared:                       0.332\n",
              "Model:                            OLS   Adj. R-squared:                  0.331\n",
              "Method:                 Least Squares   F-statistic:                     1456.\n",
              "Date:                Sun, 19 Sep 2021   Prob (F-statistic):               0.00\n",
              "Time:                        15:54:03   Log-Likelihood:                -19769.\n",
              "No. Observations:                8808   AIC:                         3.955e+04\n",
              "Df Residuals:                    8804   BIC:                         3.957e+04\n",
              "Df Model:                           3                                         \n",
              "Covariance Type:            nonrobust                                         \n",
              "================================================================================\n",
              "                   coef    std err          t      P>|t|      [0.025      0.975]\n",
              "--------------------------------------------------------------------------------\n",
              "Intercept     -210.0147      9.714    -21.621      0.000    -229.055    -190.974\n",
              "Temperatura     -0.2864      0.007    -40.837      0.000      -0.300      -0.273\n",
              "DirecaoVento    -0.0059      0.000    -12.334      0.000      -0.007      -0.005\n",
              "Pressao          0.2537      0.011     23.267      0.000       0.232       0.275\n",
              "==============================================================================\n",
              "Omnibus:                        1.404   Durbin-Watson:                   0.155\n",
              "Prob(Omnibus):                  0.496   Jarque-Bera (JB):                1.371\n",
              "Skew:                           0.017   Prob(JB):                        0.504\n",
              "Kurtosis:                       3.050   Cond. No.                     3.56e+05\n",
              "==============================================================================\n",
              "\n",
              "Warnings:\n",
              "[1] Standard Errors assume that the covariance matrix of the errors is correctly specified.\n",
              "[2] The condition number is large, 3.56e+05. This might indicate that there are\n",
              "strong multicollinearity or other numerical problems.\n",
              "\"\"\""
            ]
          },
          "metadata": {},
          "execution_count": 11
        }
      ]
    }
  ]
}